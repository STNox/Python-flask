{
 "metadata": {
  "language_info": {
   "codemirror_mode": {
    "name": "ipython",
    "version": 3
   },
   "file_extension": ".py",
   "mimetype": "text/x-python",
   "name": "python",
   "nbconvert_exporter": "python",
   "pygments_lexer": "ipython3",
   "version": "3.8.3-final"
  },
  "orig_nbformat": 2,
  "kernelspec": {
   "name": "python3",
   "display_name": "Python 3",
   "language": "python"
  }
 },
 "nbformat": 4,
 "nbformat_minor": 2,
 "cells": [
  {
   "cell_type": "code",
   "execution_count": 2,
   "metadata": {},
   "outputs": [],
   "source": [
    "import pandas as pd"
   ]
  },
  {
   "cell_type": "code",
   "execution_count": 2,
   "metadata": {},
   "outputs": [
    {
     "output_type": "execute_result",
     "data": {
      "text/plain": [
       "    구별     인구수     한국인    외국인    고령자  공원수     면적    1인당공원면적     공원면적합  \\\n",
       "0  종로구  159842  149952   9890  28396   12  23.91  24.447145  3.907681   \n",
       "1   중구  135321  125800   9521  24265    5   9.96  21.824324  2.953289   \n",
       "2  용산구  244953  229786  15167  39995    2  21.87   1.009149  0.247194   \n",
       "3  성동구  302695  295591   7104  45372    5  16.86   2.070859  0.626839   \n",
       "4  광진구  361923  348064  13859  50047    2  17.06   1.613608  0.584002   \n",
       "\n",
       "       공원면적비  \n",
       "0  16.343290  \n",
       "1  29.651500  \n",
       "2   1.130289  \n",
       "3   3.717905  \n",
       "4   3.423224  "
      ],
      "text/html": "<div>\n<style scoped>\n    .dataframe tbody tr th:only-of-type {\n        vertical-align: middle;\n    }\n\n    .dataframe tbody tr th {\n        vertical-align: top;\n    }\n\n    .dataframe thead th {\n        text-align: right;\n    }\n</style>\n<table border=\"1\" class=\"dataframe\">\n  <thead>\n    <tr style=\"text-align: right;\">\n      <th></th>\n      <th>구별</th>\n      <th>인구수</th>\n      <th>한국인</th>\n      <th>외국인</th>\n      <th>고령자</th>\n      <th>공원수</th>\n      <th>면적</th>\n      <th>1인당공원면적</th>\n      <th>공원면적합</th>\n      <th>공원면적비</th>\n    </tr>\n  </thead>\n  <tbody>\n    <tr>\n      <th>0</th>\n      <td>종로구</td>\n      <td>159842</td>\n      <td>149952</td>\n      <td>9890</td>\n      <td>28396</td>\n      <td>12</td>\n      <td>23.91</td>\n      <td>24.447145</td>\n      <td>3.907681</td>\n      <td>16.343290</td>\n    </tr>\n    <tr>\n      <th>1</th>\n      <td>중구</td>\n      <td>135321</td>\n      <td>125800</td>\n      <td>9521</td>\n      <td>24265</td>\n      <td>5</td>\n      <td>9.96</td>\n      <td>21.824324</td>\n      <td>2.953289</td>\n      <td>29.651500</td>\n    </tr>\n    <tr>\n      <th>2</th>\n      <td>용산구</td>\n      <td>244953</td>\n      <td>229786</td>\n      <td>15167</td>\n      <td>39995</td>\n      <td>2</td>\n      <td>21.87</td>\n      <td>1.009149</td>\n      <td>0.247194</td>\n      <td>1.130289</td>\n    </tr>\n    <tr>\n      <th>3</th>\n      <td>성동구</td>\n      <td>302695</td>\n      <td>295591</td>\n      <td>7104</td>\n      <td>45372</td>\n      <td>5</td>\n      <td>16.86</td>\n      <td>2.070859</td>\n      <td>0.626839</td>\n      <td>3.717905</td>\n    </tr>\n    <tr>\n      <th>4</th>\n      <td>광진구</td>\n      <td>361923</td>\n      <td>348064</td>\n      <td>13859</td>\n      <td>50047</td>\n      <td>2</td>\n      <td>17.06</td>\n      <td>1.613608</td>\n      <td>0.584002</td>\n      <td>3.423224</td>\n    </tr>\n  </tbody>\n</table>\n</div>"
     },
     "metadata": {},
     "execution_count": 2
    }
   ],
   "source": [
    "df = pd.read_csv('./static/data/dist_info.csv')\n",
    "df.head()"
   ]
  },
  {
   "cell_type": "code",
   "execution_count": 3,
   "metadata": {},
   "outputs": [],
   "source": [
    "import requests\n",
    "from urllib.parse import urlparse, quote"
   ]
  },
  {
   "cell_type": "code",
   "execution_count": 4,
   "metadata": {},
   "outputs": [],
   "source": [
    "key_fd = open('roadapikey.txt', mode='r')\n",
    "roadapi_key = key_fd.read(100)\n",
    "key_fd.close()"
   ]
  },
  {
   "cell_type": "code",
   "execution_count": 5,
   "metadata": {},
   "outputs": [
    {
     "output_type": "execute_result",
     "data": {
      "text/plain": [
       "['서울특별시 종로구 삼봉로 43 (수송동)',\n",
       " '부산광역시 중구 중구로 120 (대청동1가)',\n",
       " '서울특별시 용산구 백범로79길 64 (청파동3가)',\n",
       " '서울특별시 성동구 고산자로 270 (행당동)',\n",
       " '서울특별시 광진구 자양로 117 (자양동)',\n",
       " '서울특별시 동대문구 천호대로 145 (용두동)',\n",
       " '서울특별시 중랑구 봉화산로 179 (신내동)',\n",
       " '서울특별시 성북구 보문로 168 (삼선동5가)',\n",
       " '서울특별시 강북구 도봉로89길 13 (수유동)',\n",
       " '서울특별시 도봉구 마들로 656 (방학동)',\n",
       " '서울특별시 노원구 노해로 437 (상계동)',\n",
       " '서울특별시 은평구 은평로 195 (녹번동)',\n",
       " '서울특별시 서대문구 연희로 247 (연희동)',\n",
       " '서울특별시 마포구 월드컵로 212 (성산동)',\n",
       " '서울특별시 양천구 목동동로 105 (신정동)',\n",
       " '서울특별시 강서구 남부순환로 208 (외발산동)',\n",
       " '서울특별시 구로구 가마산로 245 (구로동)',\n",
       " '서울특별시 금천구 시흥대로73길 70 (시흥동)',\n",
       " '서울특별시 영등포구 당산로 123 (당산동3가)',\n",
       " '서울특별시 동작구 장승배기로 161 (노량진동)',\n",
       " '서울특별시 관악구 관악로 145 (봉천동)',\n",
       " '서울특별시 서초구 남부순환로 2584 (서초동)',\n",
       " '서울특별시 강남구 도곡로18길 7 (도곡동)',\n",
       " '서울특별시 송파구 올림픽로 326 (신천동)',\n",
       " '서울특별시 강동구 동남로 942 (고덕동)']"
      ]
     },
     "metadata": {},
     "execution_count": 5
    }
   ],
   "source": [
    "road_addrs = []\n",
    "dists = list(df['구별'])\n",
    "for i in range(len(dists)):\n",
    "    dists[i] += '청'\n",
    "for dist in dists:\n",
    "    road_url = 'https://www.juso.go.kr/addrlink/addrLinkApi.do'\n",
    "    url = f'{road_url}?confmKey={roadapi_key}&currentPage=1&coutPerPage=10&keyword={quote(dist)}&resultType=json'\n",
    "    result = requests.get(url).json()\n",
    "    road_addr = result['results']['juso'][0]['roadAddr']\n",
    "    road_addrs.append(road_addr)\n",
    "road_addrs"
   ]
  },
  {
   "cell_type": "code",
   "execution_count": 6,
   "metadata": {},
   "outputs": [],
   "source": [
    "key_fd = open('kakaokey.txt', mode='r')\n",
    "kakao_key = key_fd.read(100)\n",
    "key_fd.close()"
   ]
  },
  {
   "cell_type": "code",
   "execution_count": 7,
   "metadata": {},
   "outputs": [],
   "source": [
    "lat_list, lng_list = [], []\n",
    "for addr in road_addrs:\n",
    "    url = 'https://dapi.kakao.com/v2/local/search/address.json?query=' + quote(addr)\n",
    "    result = requests.get(url, headers={\"Authorization\": 'KakaoAK '+kakao_key}).json()\n",
    "    lng = float(result['documents'][0]['x'])\n",
    "    lat = float(result['documents'][0]['y'])\n",
    "    lat_list.append(lat); lng_list.append(lng)"
   ]
  },
  {
   "cell_type": "code",
   "execution_count": 8,
   "metadata": {},
   "outputs": [
    {
     "output_type": "execute_result",
     "data": {
      "text/plain": [
       "    구별     인구수     한국인    외국인    고령자  공원수     면적    1인당공원면적     공원면적합  \\\n",
       "0  종로구  159842  149952   9890  28396   12  23.91  24.447145  3.907681   \n",
       "1   중구  135321  125800   9521  24265    5   9.96  21.824324  2.953289   \n",
       "2  용산구  244953  229786  15167  39995    2  21.87   1.009149  0.247194   \n",
       "3  성동구  302695  295591   7104  45372    5  16.86   2.070859  0.626839   \n",
       "4  광진구  361923  348064  13859  50047    2  17.06   1.613608  0.584002   \n",
       "\n",
       "       공원면적비         위도          경도  \n",
       "0  16.343290  37.573199  126.978813  \n",
       "1  29.651500  35.106197  129.032351  \n",
       "2   1.130289  37.541602  126.964977  \n",
       "3   3.717905  37.563423  127.036965  \n",
       "4   3.423224  37.538540  127.081912  "
      ],
      "text/html": "<div>\n<style scoped>\n    .dataframe tbody tr th:only-of-type {\n        vertical-align: middle;\n    }\n\n    .dataframe tbody tr th {\n        vertical-align: top;\n    }\n\n    .dataframe thead th {\n        text-align: right;\n    }\n</style>\n<table border=\"1\" class=\"dataframe\">\n  <thead>\n    <tr style=\"text-align: right;\">\n      <th></th>\n      <th>구별</th>\n      <th>인구수</th>\n      <th>한국인</th>\n      <th>외국인</th>\n      <th>고령자</th>\n      <th>공원수</th>\n      <th>면적</th>\n      <th>1인당공원면적</th>\n      <th>공원면적합</th>\n      <th>공원면적비</th>\n      <th>위도</th>\n      <th>경도</th>\n    </tr>\n  </thead>\n  <tbody>\n    <tr>\n      <th>0</th>\n      <td>종로구</td>\n      <td>159842</td>\n      <td>149952</td>\n      <td>9890</td>\n      <td>28396</td>\n      <td>12</td>\n      <td>23.91</td>\n      <td>24.447145</td>\n      <td>3.907681</td>\n      <td>16.343290</td>\n      <td>37.573199</td>\n      <td>126.978813</td>\n    </tr>\n    <tr>\n      <th>1</th>\n      <td>중구</td>\n      <td>135321</td>\n      <td>125800</td>\n      <td>9521</td>\n      <td>24265</td>\n      <td>5</td>\n      <td>9.96</td>\n      <td>21.824324</td>\n      <td>2.953289</td>\n      <td>29.651500</td>\n      <td>35.106197</td>\n      <td>129.032351</td>\n    </tr>\n    <tr>\n      <th>2</th>\n      <td>용산구</td>\n      <td>244953</td>\n      <td>229786</td>\n      <td>15167</td>\n      <td>39995</td>\n      <td>2</td>\n      <td>21.87</td>\n      <td>1.009149</td>\n      <td>0.247194</td>\n      <td>1.130289</td>\n      <td>37.541602</td>\n      <td>126.964977</td>\n    </tr>\n    <tr>\n      <th>3</th>\n      <td>성동구</td>\n      <td>302695</td>\n      <td>295591</td>\n      <td>7104</td>\n      <td>45372</td>\n      <td>5</td>\n      <td>16.86</td>\n      <td>2.070859</td>\n      <td>0.626839</td>\n      <td>3.717905</td>\n      <td>37.563423</td>\n      <td>127.036965</td>\n    </tr>\n    <tr>\n      <th>4</th>\n      <td>광진구</td>\n      <td>361923</td>\n      <td>348064</td>\n      <td>13859</td>\n      <td>50047</td>\n      <td>2</td>\n      <td>17.06</td>\n      <td>1.613608</td>\n      <td>0.584002</td>\n      <td>3.423224</td>\n      <td>37.538540</td>\n      <td>127.081912</td>\n    </tr>\n  </tbody>\n</table>\n</div>"
     },
     "metadata": {},
     "execution_count": 8
    }
   ],
   "source": [
    "df['위도'] = lat_list\n",
    "df['경도'] = lng_list\n",
    "df.head()"
   ]
  },
  {
   "cell_type": "code",
   "execution_count": 9,
   "metadata": {},
   "outputs": [],
   "source": [
    "df.to_csv('./static/data/dist_info.csv')"
   ]
  },
  {
   "cell_type": "code",
   "execution_count": 17,
   "metadata": {},
   "outputs": [
    {
     "output_type": "execute_result",
     "data": {
      "text/plain": [
       "   index  Unnamed: 0  공원번호      공원명        면적   구별  \\\n",
       "0     30          30    47   계남근린공원  603715.2  양천구   \n",
       "1     52          52   127  서서울호수공원  217946.0  양천구   \n",
       "2     53          53   104  용왕산근린공원  213552.0  양천구   \n",
       "3     67          67    61   갈산근린공원  138596.0  양천구   \n",
       "4    101         101    51   파리근린공원   29619.3  양천구   \n",
       "\n",
       "                            주소          경도         위도  \\\n",
       "0        서울특별시 양천구 신정동 산44-2일대  126.847964  37.513836   \n",
       "1  서울특별시 양천구 남부순환로64길 20 (신월동)  126.830479  37.527839   \n",
       "2          서울특별시 양천구 목동 199-51  126.878313  37.542959   \n",
       "3         서울특별시 양천구 신정동 162-56  126.868915  37.508212   \n",
       "4          서울특별시 양천구 목동동로 363   126.876393  37.534974   \n",
       "\n",
       "                                                공원개요 공원크기  \n",
       "0  휴식공간 양천구 신정동과 구로구 고척동 일대의 옛지명인 부평군 계남면의 지명을 따서...    소  \n",
       "1  2009년 10월 개장한 서서울호수공원은 양천구 신월동에 위치한 옛 신월정수장을 공...    소  \n",
       "2  옛 지도상에는 엄지산(嚴知山)으로 기록되어 있으며 엄지의 뜻은 순수한 우리말인 첫머...    소  \n",
       "3  용왕산의 동쪽 능선 끝이 안양천에 닿아 있는데 이 안양천을 따라 남쪽으로 내려가서 ...    소  \n",
       "4  프랑스와 수교 100주년이 되는 1986년에 기념 사업의 하나로 파리에 서울광장을 ...    소  "
      ],
      "text/html": "<div>\n<style scoped>\n    .dataframe tbody tr th:only-of-type {\n        vertical-align: middle;\n    }\n\n    .dataframe tbody tr th {\n        vertical-align: top;\n    }\n\n    .dataframe thead th {\n        text-align: right;\n    }\n</style>\n<table border=\"1\" class=\"dataframe\">\n  <thead>\n    <tr style=\"text-align: right;\">\n      <th></th>\n      <th>index</th>\n      <th>Unnamed: 0</th>\n      <th>공원번호</th>\n      <th>공원명</th>\n      <th>면적</th>\n      <th>구별</th>\n      <th>주소</th>\n      <th>경도</th>\n      <th>위도</th>\n      <th>공원개요</th>\n      <th>공원크기</th>\n    </tr>\n  </thead>\n  <tbody>\n    <tr>\n      <th>0</th>\n      <td>30</td>\n      <td>30</td>\n      <td>47</td>\n      <td>계남근린공원</td>\n      <td>603715.2</td>\n      <td>양천구</td>\n      <td>서울특별시 양천구 신정동 산44-2일대</td>\n      <td>126.847964</td>\n      <td>37.513836</td>\n      <td>휴식공간 양천구 신정동과 구로구 고척동 일대의 옛지명인 부평군 계남면의 지명을 따서...</td>\n      <td>소</td>\n    </tr>\n    <tr>\n      <th>1</th>\n      <td>52</td>\n      <td>52</td>\n      <td>127</td>\n      <td>서서울호수공원</td>\n      <td>217946.0</td>\n      <td>양천구</td>\n      <td>서울특별시 양천구 남부순환로64길 20 (신월동)</td>\n      <td>126.830479</td>\n      <td>37.527839</td>\n      <td>2009년 10월 개장한 서서울호수공원은 양천구 신월동에 위치한 옛 신월정수장을 공...</td>\n      <td>소</td>\n    </tr>\n    <tr>\n      <th>2</th>\n      <td>53</td>\n      <td>53</td>\n      <td>104</td>\n      <td>용왕산근린공원</td>\n      <td>213552.0</td>\n      <td>양천구</td>\n      <td>서울특별시 양천구 목동 199-51</td>\n      <td>126.878313</td>\n      <td>37.542959</td>\n      <td>옛 지도상에는 엄지산(嚴知山)으로 기록되어 있으며 엄지의 뜻은 순수한 우리말인 첫머...</td>\n      <td>소</td>\n    </tr>\n    <tr>\n      <th>3</th>\n      <td>67</td>\n      <td>67</td>\n      <td>61</td>\n      <td>갈산근린공원</td>\n      <td>138596.0</td>\n      <td>양천구</td>\n      <td>서울특별시 양천구 신정동 162-56</td>\n      <td>126.868915</td>\n      <td>37.508212</td>\n      <td>용왕산의 동쪽 능선 끝이 안양천에 닿아 있는데 이 안양천을 따라 남쪽으로 내려가서 ...</td>\n      <td>소</td>\n    </tr>\n    <tr>\n      <th>4</th>\n      <td>101</td>\n      <td>101</td>\n      <td>51</td>\n      <td>파리근린공원</td>\n      <td>29619.3</td>\n      <td>양천구</td>\n      <td>서울특별시 양천구 목동동로 363</td>\n      <td>126.876393</td>\n      <td>37.534974</td>\n      <td>프랑스와 수교 100주년이 되는 1986년에 기념 사업의 하나로 파리에 서울광장을 ...</td>\n      <td>소</td>\n    </tr>\n  </tbody>\n</table>\n</div>"
     },
     "metadata": {},
     "execution_count": 17
    }
   ],
   "source": [
    "park_new = pd.read_csv('./static/data/park_info.csv')\n",
    "df2 = park_new[park_new['구별'] == '양천구'].reset_index()\n",
    "df2"
   ]
  },
  {
   "cell_type": "code",
   "execution_count": 18,
   "metadata": {},
   "outputs": [
    {
     "output_type": "execute_result",
     "data": {
      "text/plain": [
       "'파리근린공원'"
      ]
     },
     "metadata": {},
     "execution_count": 18
    }
   ],
   "source": [
    "df2['공원명'][4]"
   ]
  },
  {
   "cell_type": "code",
   "execution_count": 19,
   "metadata": {},
   "outputs": [
    {
     "output_type": "stream",
     "name": "stdout",
     "text": [
      "소\n소\n소\n소\n소\n"
     ]
    }
   ],
   "source": [
    "for i in df2.index:\n",
    "    if df2['공원크기'][i] == '대':\n",
    "        print('대')\n",
    "    elif df2['공원크기'][i] == '중':\n",
    "        print('중')\n",
    "    else:\n",
    "        print('소')"
   ]
  },
  {
   "cell_type": "code",
   "execution_count": 6,
   "metadata": {},
   "outputs": [
    {
     "output_type": "execute_result",
     "data": {
      "text/plain": [
       "            스타벅스  커피빈  빽다방  이디야      커피지수\n",
       "Unnamed: 0                               \n",
       "강원 강릉시         5    0    2   14  0.312500\n",
       "강원 고성군         2    0    0    1  2.000000\n",
       "강원 동해시         1    1    1    1  1.000000\n",
       "강원 삼척시         1    0    2    1  0.333333\n",
       "강원 속초시         4    0    0    8  0.500000\n",
       "...          ...  ...  ...  ...       ...\n",
       "충북 청주시 상당구     5    1    2    7  0.666667\n",
       "충북 청주시 서원구     4    0    3    6  0.444444\n",
       "충북 청주시 청원구     3    0    1    8  0.333333\n",
       "충북 청주시 흥덕구    10    1    4   14  0.611111\n",
       "충북 충주시         6    0    1    5  1.000000\n",
       "\n",
       "[237 rows x 5 columns]"
      ],
      "text/html": "<div>\n<style scoped>\n    .dataframe tbody tr th:only-of-type {\n        vertical-align: middle;\n    }\n\n    .dataframe tbody tr th {\n        vertical-align: top;\n    }\n\n    .dataframe thead th {\n        text-align: right;\n    }\n</style>\n<table border=\"1\" class=\"dataframe\">\n  <thead>\n    <tr style=\"text-align: right;\">\n      <th></th>\n      <th>스타벅스</th>\n      <th>커피빈</th>\n      <th>빽다방</th>\n      <th>이디야</th>\n      <th>커피지수</th>\n    </tr>\n    <tr>\n      <th>Unnamed: 0</th>\n      <th></th>\n      <th></th>\n      <th></th>\n      <th></th>\n      <th></th>\n    </tr>\n  </thead>\n  <tbody>\n    <tr>\n      <th>강원 강릉시</th>\n      <td>5</td>\n      <td>0</td>\n      <td>2</td>\n      <td>14</td>\n      <td>0.312500</td>\n    </tr>\n    <tr>\n      <th>강원 고성군</th>\n      <td>2</td>\n      <td>0</td>\n      <td>0</td>\n      <td>1</td>\n      <td>2.000000</td>\n    </tr>\n    <tr>\n      <th>강원 동해시</th>\n      <td>1</td>\n      <td>1</td>\n      <td>1</td>\n      <td>1</td>\n      <td>1.000000</td>\n    </tr>\n    <tr>\n      <th>강원 삼척시</th>\n      <td>1</td>\n      <td>0</td>\n      <td>2</td>\n      <td>1</td>\n      <td>0.333333</td>\n    </tr>\n    <tr>\n      <th>강원 속초시</th>\n      <td>4</td>\n      <td>0</td>\n      <td>0</td>\n      <td>8</td>\n      <td>0.500000</td>\n    </tr>\n    <tr>\n      <th>...</th>\n      <td>...</td>\n      <td>...</td>\n      <td>...</td>\n      <td>...</td>\n      <td>...</td>\n    </tr>\n    <tr>\n      <th>충북 청주시 상당구</th>\n      <td>5</td>\n      <td>1</td>\n      <td>2</td>\n      <td>7</td>\n      <td>0.666667</td>\n    </tr>\n    <tr>\n      <th>충북 청주시 서원구</th>\n      <td>4</td>\n      <td>0</td>\n      <td>3</td>\n      <td>6</td>\n      <td>0.444444</td>\n    </tr>\n    <tr>\n      <th>충북 청주시 청원구</th>\n      <td>3</td>\n      <td>0</td>\n      <td>1</td>\n      <td>8</td>\n      <td>0.333333</td>\n    </tr>\n    <tr>\n      <th>충북 청주시 흥덕구</th>\n      <td>10</td>\n      <td>1</td>\n      <td>4</td>\n      <td>14</td>\n      <td>0.611111</td>\n    </tr>\n    <tr>\n      <th>충북 충주시</th>\n      <td>6</td>\n      <td>0</td>\n      <td>1</td>\n      <td>5</td>\n      <td>1.000000</td>\n    </tr>\n  </tbody>\n</table>\n<p>237 rows × 5 columns</p>\n</div>"
     },
     "metadata": {},
     "execution_count": 6
    }
   ],
   "source": [
    "coffee = pd.read_csv('./static/data/cafe_count.csv')\n",
    "coffee = coffee.set_index('Unnamed: 0')\n",
    "coffee"
   ]
  },
  {
   "cell_type": "code",
   "execution_count": 11,
   "metadata": {},
   "outputs": [
    {
     "output_type": "execute_result",
     "data": {
      "text/plain": [
       "'스타벅스'"
      ]
     },
     "metadata": {},
     "execution_count": 11
    }
   ],
   "source": [
    " star_rank = coffee['스타벅스'].sort_values(ascending=False).head(10)\n",
    " star_rank.name"
   ]
  },
  {
   "cell_type": "code",
   "execution_count": 13,
   "metadata": {},
   "outputs": [
    {
     "output_type": "execute_result",
     "data": {
      "text/plain": [
       "    광역시도  시군구  행정구  20~39세  20~39세 여자  65세이상      인구   남성 인구   여성 인구  \\\n",
       "0     강원  강릉시  NaN   46008      20993  40497  203057  101154  101903   \n",
       "1     강원  고성군  NaN    4006       1699   7005   23621   11933   11688   \n",
       "2     강원  동해시  NaN   16311       7510  16152   83888   42093   41795   \n",
       "3     강원  삼척시  NaN   12428       5280  14953   61833   31630   30203   \n",
       "4     강원  속초시  NaN   15928       7411  14010   76302   37488   38814   \n",
       "..   ...  ...  ...     ...        ...    ...     ...     ...     ...   \n",
       "245   충북  청주시  상당구   39870      19444  25585  167873   82711   85162   \n",
       "246   충북  청주시  서원구   53447      25609  26464  197002   97386   99616   \n",
       "247   충북  청주시  청원구   57755      26880  21908  188723   95997   92726   \n",
       "248   충북  청주시  흥덕구   75036      36141  26340  248926  124808  124118   \n",
       "249   충북  충주시  NaN   47183      21483  37574  201057  101311   99746   \n",
       "\n",
       "         소멸비율  소멸위기지역      ID   y   x  \n",
       "0    1.036768   False      강릉   3  11  \n",
       "1    0.485082    True  고성(강원)   0  10  \n",
       "2    0.929916    True      동해   4  11  \n",
       "3    0.706213    True      삼척   5  11  \n",
       "4    1.057959   False      속초   1  10  \n",
       "..        ...     ...     ...  ..  ..  \n",
       "245  1.519953   False   청주 상당  14   6  \n",
       "246  1.935384   False   청주 서원  14   7  \n",
       "247  2.453898   False   청주 청원  13   7  \n",
       "248  2.744191   False   청주 흥덕  12   7  \n",
       "249  1.143503   False      충주  12   6  \n",
       "\n",
       "[250 rows x 14 columns]"
      ],
      "text/html": "<div>\n<style scoped>\n    .dataframe tbody tr th:only-of-type {\n        vertical-align: middle;\n    }\n\n    .dataframe tbody tr th {\n        vertical-align: top;\n    }\n\n    .dataframe thead th {\n        text-align: right;\n    }\n</style>\n<table border=\"1\" class=\"dataframe\">\n  <thead>\n    <tr style=\"text-align: right;\">\n      <th></th>\n      <th>광역시도</th>\n      <th>시군구</th>\n      <th>행정구</th>\n      <th>20~39세</th>\n      <th>20~39세 여자</th>\n      <th>65세이상</th>\n      <th>인구</th>\n      <th>남성 인구</th>\n      <th>여성 인구</th>\n      <th>소멸비율</th>\n      <th>소멸위기지역</th>\n      <th>ID</th>\n      <th>y</th>\n      <th>x</th>\n    </tr>\n  </thead>\n  <tbody>\n    <tr>\n      <th>0</th>\n      <td>강원</td>\n      <td>강릉시</td>\n      <td>NaN</td>\n      <td>46008</td>\n      <td>20993</td>\n      <td>40497</td>\n      <td>203057</td>\n      <td>101154</td>\n      <td>101903</td>\n      <td>1.036768</td>\n      <td>False</td>\n      <td>강릉</td>\n      <td>3</td>\n      <td>11</td>\n    </tr>\n    <tr>\n      <th>1</th>\n      <td>강원</td>\n      <td>고성군</td>\n      <td>NaN</td>\n      <td>4006</td>\n      <td>1699</td>\n      <td>7005</td>\n      <td>23621</td>\n      <td>11933</td>\n      <td>11688</td>\n      <td>0.485082</td>\n      <td>True</td>\n      <td>고성(강원)</td>\n      <td>0</td>\n      <td>10</td>\n    </tr>\n    <tr>\n      <th>2</th>\n      <td>강원</td>\n      <td>동해시</td>\n      <td>NaN</td>\n      <td>16311</td>\n      <td>7510</td>\n      <td>16152</td>\n      <td>83888</td>\n      <td>42093</td>\n      <td>41795</td>\n      <td>0.929916</td>\n      <td>True</td>\n      <td>동해</td>\n      <td>4</td>\n      <td>11</td>\n    </tr>\n    <tr>\n      <th>3</th>\n      <td>강원</td>\n      <td>삼척시</td>\n      <td>NaN</td>\n      <td>12428</td>\n      <td>5280</td>\n      <td>14953</td>\n      <td>61833</td>\n      <td>31630</td>\n      <td>30203</td>\n      <td>0.706213</td>\n      <td>True</td>\n      <td>삼척</td>\n      <td>5</td>\n      <td>11</td>\n    </tr>\n    <tr>\n      <th>4</th>\n      <td>강원</td>\n      <td>속초시</td>\n      <td>NaN</td>\n      <td>15928</td>\n      <td>7411</td>\n      <td>14010</td>\n      <td>76302</td>\n      <td>37488</td>\n      <td>38814</td>\n      <td>1.057959</td>\n      <td>False</td>\n      <td>속초</td>\n      <td>1</td>\n      <td>10</td>\n    </tr>\n    <tr>\n      <th>...</th>\n      <td>...</td>\n      <td>...</td>\n      <td>...</td>\n      <td>...</td>\n      <td>...</td>\n      <td>...</td>\n      <td>...</td>\n      <td>...</td>\n      <td>...</td>\n      <td>...</td>\n      <td>...</td>\n      <td>...</td>\n      <td>...</td>\n      <td>...</td>\n    </tr>\n    <tr>\n      <th>245</th>\n      <td>충북</td>\n      <td>청주시</td>\n      <td>상당구</td>\n      <td>39870</td>\n      <td>19444</td>\n      <td>25585</td>\n      <td>167873</td>\n      <td>82711</td>\n      <td>85162</td>\n      <td>1.519953</td>\n      <td>False</td>\n      <td>청주 상당</td>\n      <td>14</td>\n      <td>6</td>\n    </tr>\n    <tr>\n      <th>246</th>\n      <td>충북</td>\n      <td>청주시</td>\n      <td>서원구</td>\n      <td>53447</td>\n      <td>25609</td>\n      <td>26464</td>\n      <td>197002</td>\n      <td>97386</td>\n      <td>99616</td>\n      <td>1.935384</td>\n      <td>False</td>\n      <td>청주 서원</td>\n      <td>14</td>\n      <td>7</td>\n    </tr>\n    <tr>\n      <th>247</th>\n      <td>충북</td>\n      <td>청주시</td>\n      <td>청원구</td>\n      <td>57755</td>\n      <td>26880</td>\n      <td>21908</td>\n      <td>188723</td>\n      <td>95997</td>\n      <td>92726</td>\n      <td>2.453898</td>\n      <td>False</td>\n      <td>청주 청원</td>\n      <td>13</td>\n      <td>7</td>\n    </tr>\n    <tr>\n      <th>248</th>\n      <td>충북</td>\n      <td>청주시</td>\n      <td>흥덕구</td>\n      <td>75036</td>\n      <td>36141</td>\n      <td>26340</td>\n      <td>248926</td>\n      <td>124808</td>\n      <td>124118</td>\n      <td>2.744191</td>\n      <td>False</td>\n      <td>청주 흥덕</td>\n      <td>12</td>\n      <td>7</td>\n    </tr>\n    <tr>\n      <th>249</th>\n      <td>충북</td>\n      <td>충주시</td>\n      <td>NaN</td>\n      <td>47183</td>\n      <td>21483</td>\n      <td>37574</td>\n      <td>201057</td>\n      <td>101311</td>\n      <td>99746</td>\n      <td>1.143503</td>\n      <td>False</td>\n      <td>충주</td>\n      <td>12</td>\n      <td>6</td>\n    </tr>\n  </tbody>\n</table>\n<p>250 rows × 14 columns</p>\n</div>"
     },
     "metadata": {},
     "execution_count": 13
    }
   ],
   "source": [
    "pop_cri = pd.read_csv('./static/data/pop_cri.csv')\n",
    "del pop_cri['Unnamed: 0']\n",
    "pop_cri"
   ]
  },
  {
   "cell_type": "code",
   "execution_count": null,
   "metadata": {},
   "outputs": [],
   "source": []
  }
 ]
}