{
 "metadata": {
  "language_info": {
   "codemirror_mode": {
    "name": "ipython",
    "version": 3
   },
   "file_extension": ".py",
   "mimetype": "text/x-python",
   "name": "python",
   "nbconvert_exporter": "python",
   "pygments_lexer": "ipython3",
   "version": "3.8.3-final"
  },
  "orig_nbformat": 2,
  "kernelspec": {
   "name": "python3",
   "display_name": "Python 3",
   "language": "python"
  }
 },
 "nbformat": 4,
 "nbformat_minor": 2,
 "cells": [
  {
   "cell_type": "code",
   "execution_count": 1,
   "metadata": {},
   "outputs": [],
   "source": [
    "import pandas as pd\n",
    "from sklearn.datasets import load_iris, load_diabetes, load_breast_cancer, load_wine, load_boston\n",
    "\n",
    "iris = load_iris()\n",
    "pima = load_diabetes()\n",
    "cancer = load_breast_cancer()\n",
    "wine = load_wine()\n",
    "boston = load_boston()"
   ]
  },
  {
   "cell_type": "code",
   "execution_count": 5,
   "metadata": {},
   "outputs": [],
   "source": [
    "datasets = {'iris': iris, 'pima': pima, 'cancer': cancer, 'wine': wine, 'boston': boston}\n",
    "for key, value in datasets.items():\n",
    "    df = pd.DataFrame(value.data, columns=value.feature_names)\n",
    "    df['target'] = value.target\n",
    "    df.to_csv(f\"../static/data/{key}.csv\")"
   ]
  },
  {
   "cell_type": "code",
   "execution_count": null,
   "metadata": {},
   "outputs": [],
   "source": []
  }
 ]
}