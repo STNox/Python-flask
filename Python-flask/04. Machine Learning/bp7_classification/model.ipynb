{
 "metadata": {
  "language_info": {
   "codemirror_mode": {
    "name": "ipython",
    "version": 3
   },
   "file_extension": ".py",
   "mimetype": "text/x-python",
   "name": "python",
   "nbconvert_exporter": "python",
   "pygments_lexer": "ipython3",
   "version": "3.8.3-final"
  },
  "orig_nbformat": 2,
  "kernelspec": {
   "name": "python3",
   "display_name": "Python 3",
   "language": "python"
  }
 },
 "nbformat": 4,
 "nbformat_minor": 2,
 "cells": [
  {
   "source": [
    "# 모델 생성"
   ],
   "cell_type": "markdown",
   "metadata": {}
  },
  {
   "cell_type": "code",
   "execution_count": 1,
   "metadata": {},
   "outputs": [],
   "source": [
    "import pandas as pd\n",
    "import joblib\n",
    "import sklearn.datasets as sd\n",
    "from sklearn.model_selection import GridSearchCV\n",
    "from sklearn.metrics import accuracy_score\n",
    "from sklearn.tree import DecisionTreeClassifier\n",
    "from sklearn.linear_model import LogisticRegression\n",
    "from sklearn.svm import SVC\n",
    "from sklearn.preprocessing import StandardScaler, MinMaxScaler"
   ]
  },
  {
   "source": [
    "## 유방암 데이터"
   ],
   "cell_type": "markdown",
   "metadata": {}
  },
  {
   "cell_type": "code",
   "execution_count": 2,
   "metadata": {},
   "outputs": [
    {
     "output_type": "execute_result",
     "data": {
      "text/plain": [
       "   mean radius  mean texture  mean perimeter  mean area  mean smoothness  \\\n",
       "0        15.66         23.20           110.2      773.5          0.11090   \n",
       "1        16.16         21.54           106.2      809.8          0.10080   \n",
       "2        22.27         19.67           152.8     1509.0          0.13260   \n",
       "3        11.76         18.14            75.0      431.1          0.09968   \n",
       "4        17.93         24.48           115.2      998.9          0.08855   \n",
       "\n",
       "   mean compactness  mean concavity  mean concave points  mean symmetry  \\\n",
       "0           0.31140         0.31760              0.13770         0.2495   \n",
       "1           0.12840         0.10430              0.05613         0.2160   \n",
       "2           0.27680         0.42640              0.18230         0.2556   \n",
       "3           0.05914         0.02685              0.03515         0.1619   \n",
       "4           0.07027         0.05699              0.04744         0.1538   \n",
       "\n",
       "   mean fractal dimension  ...  worst texture  worst perimeter  worst area  \\\n",
       "0                 0.08104  ...          31.64            143.7      1226.0   \n",
       "1                 0.05891  ...          31.68            129.7      1175.0   \n",
       "2                 0.07039  ...          28.01            206.8      2360.0   \n",
       "3                 0.06287  ...          23.39             85.1       553.6   \n",
       "4                 0.05510  ...          34.69            135.1      1320.0   \n",
       "\n",
       "   worst smoothness  worst compactness  worst concavity  worst concave points  \\\n",
       "0            0.1504            0.51720           0.6181                0.2462   \n",
       "1            0.1395            0.30550           0.2992                0.1312   \n",
       "2            0.1701            0.69970           0.9608                0.2910   \n",
       "3            0.1137            0.07974           0.0612                0.0716   \n",
       "4            0.1315            0.18060           0.2080                0.1136   \n",
       "\n",
       "   worst symmetry  worst fractal dimension  target  \n",
       "0          0.3277                  0.10190       0  \n",
       "1          0.3480                  0.07619       0  \n",
       "2          0.4055                  0.09789       0  \n",
       "3          0.1978                  0.06915       0  \n",
       "4          0.2504                  0.07948       0  \n",
       "\n",
       "[5 rows x 31 columns]"
      ],
      "text/html": "<div>\n<style scoped>\n    .dataframe tbody tr th:only-of-type {\n        vertical-align: middle;\n    }\n\n    .dataframe tbody tr th {\n        vertical-align: top;\n    }\n\n    .dataframe thead th {\n        text-align: right;\n    }\n</style>\n<table border=\"1\" class=\"dataframe\">\n  <thead>\n    <tr style=\"text-align: right;\">\n      <th></th>\n      <th>mean radius</th>\n      <th>mean texture</th>\n      <th>mean perimeter</th>\n      <th>mean area</th>\n      <th>mean smoothness</th>\n      <th>mean compactness</th>\n      <th>mean concavity</th>\n      <th>mean concave points</th>\n      <th>mean symmetry</th>\n      <th>mean fractal dimension</th>\n      <th>...</th>\n      <th>worst texture</th>\n      <th>worst perimeter</th>\n      <th>worst area</th>\n      <th>worst smoothness</th>\n      <th>worst compactness</th>\n      <th>worst concavity</th>\n      <th>worst concave points</th>\n      <th>worst symmetry</th>\n      <th>worst fractal dimension</th>\n      <th>target</th>\n    </tr>\n  </thead>\n  <tbody>\n    <tr>\n      <th>0</th>\n      <td>15.66</td>\n      <td>23.20</td>\n      <td>110.2</td>\n      <td>773.5</td>\n      <td>0.11090</td>\n      <td>0.31140</td>\n      <td>0.31760</td>\n      <td>0.13770</td>\n      <td>0.2495</td>\n      <td>0.08104</td>\n      <td>...</td>\n      <td>31.64</td>\n      <td>143.7</td>\n      <td>1226.0</td>\n      <td>0.1504</td>\n      <td>0.51720</td>\n      <td>0.6181</td>\n      <td>0.2462</td>\n      <td>0.3277</td>\n      <td>0.10190</td>\n      <td>0</td>\n    </tr>\n    <tr>\n      <th>1</th>\n      <td>16.16</td>\n      <td>21.54</td>\n      <td>106.2</td>\n      <td>809.8</td>\n      <td>0.10080</td>\n      <td>0.12840</td>\n      <td>0.10430</td>\n      <td>0.05613</td>\n      <td>0.2160</td>\n      <td>0.05891</td>\n      <td>...</td>\n      <td>31.68</td>\n      <td>129.7</td>\n      <td>1175.0</td>\n      <td>0.1395</td>\n      <td>0.30550</td>\n      <td>0.2992</td>\n      <td>0.1312</td>\n      <td>0.3480</td>\n      <td>0.07619</td>\n      <td>0</td>\n    </tr>\n    <tr>\n      <th>2</th>\n      <td>22.27</td>\n      <td>19.67</td>\n      <td>152.8</td>\n      <td>1509.0</td>\n      <td>0.13260</td>\n      <td>0.27680</td>\n      <td>0.42640</td>\n      <td>0.18230</td>\n      <td>0.2556</td>\n      <td>0.07039</td>\n      <td>...</td>\n      <td>28.01</td>\n      <td>206.8</td>\n      <td>2360.0</td>\n      <td>0.1701</td>\n      <td>0.69970</td>\n      <td>0.9608</td>\n      <td>0.2910</td>\n      <td>0.4055</td>\n      <td>0.09789</td>\n      <td>0</td>\n    </tr>\n    <tr>\n      <th>3</th>\n      <td>11.76</td>\n      <td>18.14</td>\n      <td>75.0</td>\n      <td>431.1</td>\n      <td>0.09968</td>\n      <td>0.05914</td>\n      <td>0.02685</td>\n      <td>0.03515</td>\n      <td>0.1619</td>\n      <td>0.06287</td>\n      <td>...</td>\n      <td>23.39</td>\n      <td>85.1</td>\n      <td>553.6</td>\n      <td>0.1137</td>\n      <td>0.07974</td>\n      <td>0.0612</td>\n      <td>0.0716</td>\n      <td>0.1978</td>\n      <td>0.06915</td>\n      <td>0</td>\n    </tr>\n    <tr>\n      <th>4</th>\n      <td>17.93</td>\n      <td>24.48</td>\n      <td>115.2</td>\n      <td>998.9</td>\n      <td>0.08855</td>\n      <td>0.07027</td>\n      <td>0.05699</td>\n      <td>0.04744</td>\n      <td>0.1538</td>\n      <td>0.05510</td>\n      <td>...</td>\n      <td>34.69</td>\n      <td>135.1</td>\n      <td>1320.0</td>\n      <td>0.1315</td>\n      <td>0.18060</td>\n      <td>0.2080</td>\n      <td>0.1136</td>\n      <td>0.2504</td>\n      <td>0.07948</td>\n      <td>0</td>\n    </tr>\n  </tbody>\n</table>\n<p>5 rows × 31 columns</p>\n</div>"
     },
     "metadata": {},
     "execution_count": 2
    }
   ],
   "source": [
    "df_train = pd.read_csv('../static/data/cancer_train.csv')\n",
    "df_train.head()"
   ]
  },
  {
   "source": [
    "### 결정 트리"
   ],
   "cell_type": "markdown",
   "metadata": {}
  },
  {
   "cell_type": "code",
   "execution_count": 3,
   "metadata": {},
   "outputs": [
    {
     "output_type": "execute_result",
     "data": {
      "text/plain": [
       "((426, 30), (426,))"
      ]
     },
     "metadata": {},
     "execution_count": 3
    }
   ],
   "source": [
    "X_train = df_train.drop(columns='target', axis=1)\n",
    "y_train = df_train.target.values\n",
    "X_train.shape, y_train.shape"
   ]
  },
  {
   "cell_type": "code",
   "execution_count": 4,
   "metadata": {},
   "outputs": [],
   "source": [
    "df_test = pd.read_csv('../static/data/cancer_test.csv')\n",
    "X_test = df_test.drop(columns='target', axis=1)\n",
    "y_test = df_test.target.values"
   ]
  },
  {
   "cell_type": "code",
   "execution_count": 5,
   "metadata": {},
   "outputs": [
    {
     "output_type": "execute_result",
     "data": {
      "text/plain": [
       "{'ccp_alpha': 0.0,\n",
       " 'class_weight': None,\n",
       " 'criterion': 'gini',\n",
       " 'max_depth': None,\n",
       " 'max_features': None,\n",
       " 'max_leaf_nodes': None,\n",
       " 'min_impurity_decrease': 0.0,\n",
       " 'min_impurity_split': None,\n",
       " 'min_samples_leaf': 1,\n",
       " 'min_samples_split': 2,\n",
       " 'min_weight_fraction_leaf': 0.0,\n",
       " 'presort': 'deprecated',\n",
       " 'random_state': None,\n",
       " 'splitter': 'best'}"
      ]
     },
     "metadata": {},
     "execution_count": 5
    }
   ],
   "source": [
    "dtc = DecisionTreeClassifier()\n",
    "dtc.get_params()"
   ]
  },
  {
   "cell_type": "code",
   "execution_count": 6,
   "metadata": {},
   "outputs": [],
   "source": [
    "params = {\n",
    "    'max_depth': [2, 3, 4, 5, 7],\n",
    "    'min_samples_split': [2, 3, 4, 5]\n",
    "}"
   ]
  },
  {
   "cell_type": "code",
   "execution_count": 7,
   "metadata": {},
   "outputs": [
    {
     "output_type": "stream",
     "name": "stdout",
     "text": [
      "최고 평균 정확도: 0.9272\n최적 파라미터: {'max_depth': 3, 'min_samples_split': 4}\n"
     ]
    }
   ],
   "source": [
    "grid_cv = GridSearchCV(dtc, param_grid=params, scoring='accuracy', cv=5)\n",
    "grid_cv.fit(X_train, y_train)\n",
    "print(f'최고 평균 정확도: {grid_cv.best_score_:.4f}')\n",
    "print('최적 파라미터:', grid_cv.best_params_)"
   ]
  },
  {
   "cell_type": "code",
   "execution_count": 8,
   "metadata": {},
   "outputs": [
    {
     "output_type": "execute_result",
     "data": {
      "text/plain": [
       "0.9440559440559441"
      ]
     },
     "metadata": {},
     "execution_count": 8
    }
   ],
   "source": [
    "best_dt = grid_cv.best_estimator_\n",
    "pred = best_dt.predict(X_test)\n",
    "accuracy_score(y_test, pred)"
   ]
  },
  {
   "cell_type": "code",
   "execution_count": 9,
   "metadata": {},
   "outputs": [
    {
     "output_type": "execute_result",
     "data": {
      "text/plain": [
       "['../static/model/cancer_dt.pkl']"
      ]
     },
     "metadata": {},
     "execution_count": 9
    }
   ],
   "source": [
    "joblib.dump(best_dt, '../static/model/cancer_dt.pkl')"
   ]
  },
  {
   "source": [
    "### 정규화"
   ],
   "cell_type": "markdown",
   "metadata": {}
  },
  {
   "cell_type": "code",
   "execution_count": 10,
   "metadata": {},
   "outputs": [],
   "source": [
    "scaler = MinMaxScaler()\n",
    "X_train_sc = scaler.fit_transform(df_train.drop(columns='target', axis=1))\n",
    "X_test_sc = scaler.fit_transform(df_test.drop(columns='target', axis=1))"
   ]
  },
  {
   "source": [
    "### SVM"
   ],
   "cell_type": "markdown",
   "metadata": {}
  },
  {
   "cell_type": "code",
   "execution_count": 11,
   "metadata": {},
   "outputs": [
    {
     "output_type": "execute_result",
     "data": {
      "text/plain": [
       "{'C': 1.0,\n",
       " 'break_ties': False,\n",
       " 'cache_size': 200,\n",
       " 'class_weight': None,\n",
       " 'coef0': 0.0,\n",
       " 'decision_function_shape': 'ovr',\n",
       " 'degree': 3,\n",
       " 'gamma': 'scale',\n",
       " 'kernel': 'rbf',\n",
       " 'max_iter': -1,\n",
       " 'probability': False,\n",
       " 'random_state': None,\n",
       " 'shrinking': True,\n",
       " 'tol': 0.001,\n",
       " 'verbose': False}"
      ]
     },
     "metadata": {},
     "execution_count": 11
    }
   ],
   "source": [
    "svc = SVC()\n",
    "svc.get_params()"
   ]
  },
  {
   "cell_type": "code",
   "execution_count": 24,
   "metadata": {},
   "outputs": [],
   "source": [
    "params = {'C': [6, 7, 8]}"
   ]
  },
  {
   "cell_type": "code",
   "execution_count": 25,
   "metadata": {},
   "outputs": [
    {
     "output_type": "stream",
     "name": "stdout",
     "text": [
      "최고 평균 정확도: 0.9766\n최적 파라미터: {'C': 8}\n"
     ]
    }
   ],
   "source": [
    "grid_cv = GridSearchCV(svc, param_grid=params, scoring='accuracy', cv=5)\n",
    "grid_cv.fit(X_train_sc, y_train)\n",
    "print(f'최고 평균 정확도: {grid_cv.best_score_:.4f}')\n",
    "print('최적 파라미터:', grid_cv.best_params_)"
   ]
  },
  {
   "cell_type": "code",
   "execution_count": 26,
   "metadata": {},
   "outputs": [
    {
     "output_type": "execute_result",
     "data": {
      "text/plain": [
       "0.8881118881118881"
      ]
     },
     "metadata": {},
     "execution_count": 26
    }
   ],
   "source": [
    "best_svc = grid_cv.best_estimator_\n",
    "pred = best_svc.predict(X_test_sc)\n",
    "accuracy_score(y_test, pred)"
   ]
  },
  {
   "cell_type": "code",
   "execution_count": 27,
   "metadata": {},
   "outputs": [
    {
     "output_type": "execute_result",
     "data": {
      "text/plain": [
       "['../static/model/cancer_sv.pkl']"
      ]
     },
     "metadata": {},
     "execution_count": 27
    }
   ],
   "source": [
    "joblib.dump(best_svc, '../static/model/cancer_sv.pkl')"
   ]
  },
  {
   "source": [
    "### Logistic Regression"
   ],
   "cell_type": "markdown",
   "metadata": {}
  },
  {
   "cell_type": "code",
   "execution_count": 28,
   "metadata": {},
   "outputs": [
    {
     "output_type": "execute_result",
     "data": {
      "text/plain": [
       "{'C': 1.0,\n",
       " 'class_weight': None,\n",
       " 'dual': False,\n",
       " 'fit_intercept': True,\n",
       " 'intercept_scaling': 1,\n",
       " 'l1_ratio': None,\n",
       " 'max_iter': 100,\n",
       " 'multi_class': 'auto',\n",
       " 'n_jobs': None,\n",
       " 'penalty': 'l2',\n",
       " 'random_state': None,\n",
       " 'solver': 'lbfgs',\n",
       " 'tol': 0.0001,\n",
       " 'verbose': 0,\n",
       " 'warm_start': False}"
      ]
     },
     "metadata": {},
     "execution_count": 28
    }
   ],
   "source": [
    "lr = LogisticRegression()\n",
    "lr.get_params()"
   ]
  },
  {
   "cell_type": "code",
   "execution_count": 33,
   "metadata": {},
   "outputs": [],
   "source": [
    "params = {'C': [5, 6, 7, 8]}"
   ]
  },
  {
   "cell_type": "code",
   "execution_count": 34,
   "metadata": {},
   "outputs": [
    {
     "output_type": "stream",
     "name": "stdout",
     "text": [
      "최고 평균 정확도: 0.9718\n최적 파라미터: {'C': 6}\n"
     ]
    }
   ],
   "source": [
    "grid_cv = GridSearchCV(lr, param_grid=params, scoring='accuracy', cv=5)\n",
    "grid_cv.fit(X_train_sc, y_train)\n",
    "print(f'최고 평균 정확도: {grid_cv.best_score_:.4f}')\n",
    "print('최적 파라미터:', grid_cv.best_params_)"
   ]
  },
  {
   "cell_type": "code",
   "execution_count": 35,
   "metadata": {},
   "outputs": [
    {
     "output_type": "execute_result",
     "data": {
      "text/plain": [
       "0.9300699300699301"
      ]
     },
     "metadata": {},
     "execution_count": 35
    }
   ],
   "source": [
    "best_lr = grid_cv.best_estimator_\n",
    "pred = best_lr.predict(X_test_sc)\n",
    "accuracy_score(y_test, pred)"
   ]
  },
  {
   "cell_type": "code",
   "execution_count": 36,
   "metadata": {},
   "outputs": [
    {
     "output_type": "execute_result",
     "data": {
      "text/plain": [
       "['../static/model/cancer_lr.pkl']"
      ]
     },
     "metadata": {},
     "execution_count": 36
    }
   ],
   "source": [
    "joblib.dump(best_lr, '../static/model/cancer_lr.pkl')"
   ]
  },
  {
   "source": [
    "## 피마 원주민"
   ],
   "cell_type": "markdown",
   "metadata": {}
  },
  {
   "cell_type": "code",
   "execution_count": 2,
   "metadata": {},
   "outputs": [
    {
     "output_type": "execute_result",
     "data": {
      "text/plain": [
       "   Pregnancies  Glucose  BloodPressure  SkinThickness  Insulin   BMI  \\\n",
       "0            6      148             72             35        0  33.6   \n",
       "1            1       85             66             29        0  26.6   \n",
       "2            8      183             64              0        0  23.3   \n",
       "3            1       89             66             23       94  28.1   \n",
       "4            0      137             40             35      168  43.1   \n",
       "\n",
       "   DiabetesPedigreeFunction  Age  Outcome  \n",
       "0                     0.627   50        1  \n",
       "1                     0.351   31        0  \n",
       "2                     0.672   32        1  \n",
       "3                     0.167   21        0  \n",
       "4                     2.288   33        1  "
      ],
      "text/html": "<div>\n<style scoped>\n    .dataframe tbody tr th:only-of-type {\n        vertical-align: middle;\n    }\n\n    .dataframe tbody tr th {\n        vertical-align: top;\n    }\n\n    .dataframe thead th {\n        text-align: right;\n    }\n</style>\n<table border=\"1\" class=\"dataframe\">\n  <thead>\n    <tr style=\"text-align: right;\">\n      <th></th>\n      <th>Pregnancies</th>\n      <th>Glucose</th>\n      <th>BloodPressure</th>\n      <th>SkinThickness</th>\n      <th>Insulin</th>\n      <th>BMI</th>\n      <th>DiabetesPedigreeFunction</th>\n      <th>Age</th>\n      <th>Outcome</th>\n    </tr>\n  </thead>\n  <tbody>\n    <tr>\n      <th>0</th>\n      <td>6</td>\n      <td>148</td>\n      <td>72</td>\n      <td>35</td>\n      <td>0</td>\n      <td>33.6</td>\n      <td>0.627</td>\n      <td>50</td>\n      <td>1</td>\n    </tr>\n    <tr>\n      <th>1</th>\n      <td>1</td>\n      <td>85</td>\n      <td>66</td>\n      <td>29</td>\n      <td>0</td>\n      <td>26.6</td>\n      <td>0.351</td>\n      <td>31</td>\n      <td>0</td>\n    </tr>\n    <tr>\n      <th>2</th>\n      <td>8</td>\n      <td>183</td>\n      <td>64</td>\n      <td>0</td>\n      <td>0</td>\n      <td>23.3</td>\n      <td>0.672</td>\n      <td>32</td>\n      <td>1</td>\n    </tr>\n    <tr>\n      <th>3</th>\n      <td>1</td>\n      <td>89</td>\n      <td>66</td>\n      <td>23</td>\n      <td>94</td>\n      <td>28.1</td>\n      <td>0.167</td>\n      <td>21</td>\n      <td>0</td>\n    </tr>\n    <tr>\n      <th>4</th>\n      <td>0</td>\n      <td>137</td>\n      <td>40</td>\n      <td>35</td>\n      <td>168</td>\n      <td>43.1</td>\n      <td>2.288</td>\n      <td>33</td>\n      <td>1</td>\n    </tr>\n  </tbody>\n</table>\n</div>"
     },
     "metadata": {},
     "execution_count": 2
    }
   ],
   "source": [
    "import pandas as pd\n",
    "import numpy as np\n",
    "\n",
    "pima = pd.read_csv('../static/data/pima/diabetes.csv')\n",
    "pima.head()"
   ]
  },
  {
   "cell_type": "code",
   "execution_count": 3,
   "metadata": {},
   "outputs": [],
   "source": [
    "zero_features = ['Glucose', 'BloodPressure', 'SkinThickness', 'Insulin', 'BMI']\n",
    "pima[zero_features] = pima[zero_features].replace(0, pima[zero_features].mean())"
   ]
  },
  {
   "cell_type": "code",
   "execution_count": 5,
   "metadata": {},
   "outputs": [],
   "source": [
    "from sklearn.preprocessing import MinMaxScaler\n",
    "from sklearn.model_selection import train_test_split, GridSearchCV\n",
    "\n",
    "X_train, X_test, y_train, y_test = train_test_split(pima, pima.Outcome, test_size=0.25, random_state=2021)"
   ]
  },
  {
   "cell_type": "code",
   "execution_count": 6,
   "metadata": {},
   "outputs": [],
   "source": [
    "X_train_df = pd.DataFrame(X_train, columns=pima.columns)\n",
    "X_test_df = pd.DataFrame(X_test, columns=pima.columns)\n",
    "X_train_df.to_csv('../static/data/pima_train.csv')\n",
    "X_test_df.to_csv('../static/data/pima_test.csv')"
   ]
  },
  {
   "cell_type": "code",
   "execution_count": 12,
   "metadata": {},
   "outputs": [
    {
     "output_type": "execute_result",
     "data": {
      "text/plain": [
       "((576, 9), (576,), (192, 9), (192,))"
      ]
     },
     "metadata": {},
     "execution_count": 12
    }
   ],
   "source": [
    "df_train = pd.read_csv('../static/data/pima_train.csv')\n",
    "y_train = df_train.Outcome.values\n",
    "X_train = scaler.fit_transform(df_train.drop('Outcome', axis=1))\n",
    "df_test = pd.read_csv('../static/data/pima_test.csv')\n",
    "y_test = df_test.Outcome.values\n",
    "X_test = scaler.fit_transform(df_test.drop('Outcome', axis=1))\n",
    "X_train.shape, y_train.shape, X_test.shape, y_test.shape"
   ]
  },
  {
   "cell_type": "code",
   "execution_count": 13,
   "metadata": {},
   "outputs": [],
   "source": [
    "from sklearn.linear_model import LogisticRegression\n",
    "from sklearn.svm import SVC\n",
    "from sklearn.tree import DecisionTreeClassifier\n",
    "from sklearn.ensemble import RandomForestClassifier\n",
    "\n",
    "lr = LogisticRegression()\n",
    "sv = SVC()\n",
    "dt = DecisionTreeClassifier()\n",
    "rf = RandomForestClassifier()"
   ]
  },
  {
   "cell_type": "code",
   "execution_count": 14,
   "metadata": {},
   "outputs": [
    {
     "output_type": "execute_result",
     "data": {
      "text/plain": [
       "{'C': 1.0,\n",
       " 'class_weight': None,\n",
       " 'dual': False,\n",
       " 'fit_intercept': True,\n",
       " 'intercept_scaling': 1,\n",
       " 'l1_ratio': None,\n",
       " 'max_iter': 100,\n",
       " 'multi_class': 'auto',\n",
       " 'n_jobs': None,\n",
       " 'penalty': 'l2',\n",
       " 'random_state': None,\n",
       " 'solver': 'lbfgs',\n",
       " 'tol': 0.0001,\n",
       " 'verbose': 0,\n",
       " 'warm_start': False}"
      ]
     },
     "metadata": {},
     "execution_count": 14
    }
   ],
   "source": [
    "lr.get_params()"
   ]
  },
  {
   "cell_type": "code",
   "execution_count": 15,
   "metadata": {},
   "outputs": [
    {
     "output_type": "stream",
     "name": "stdout",
     "text": [
      "최적 파라미터: {'C': 0.5}\n최고 정확도: 0.7725\n"
     ]
    }
   ],
   "source": [
    "params = {'C': [0.4, 0.5, 0.6]}\n",
    "\n",
    "grid_cv = GridSearchCV(lr, param_grid=params, scoring='accuracy', cv=5)\n",
    "grid_cv.fit(X_train, y_train)\n",
    "print('최적 파라미터:', grid_cv.best_params_)\n",
    "print(f'최고 정확도: {grid_cv.best_score_:.4f}')"
   ]
  },
  {
   "cell_type": "code",
   "execution_count": 16,
   "metadata": {},
   "outputs": [
    {
     "output_type": "execute_result",
     "data": {
      "text/plain": [
       "0.7708333333333334"
      ]
     },
     "metadata": {},
     "execution_count": 16
    }
   ],
   "source": [
    "from sklearn.metrics import accuracy_score\n",
    "best_lr = grid_cv.best_estimator_\n",
    "pred = best_lr.predict(X_test)\n",
    "accuracy_score(y_test, pred)"
   ]
  },
  {
   "cell_type": "code",
   "execution_count": 17,
   "metadata": {},
   "outputs": [
    {
     "output_type": "execute_result",
     "data": {
      "text/plain": [
       "['../static/model/pima_lr.pkl']"
      ]
     },
     "metadata": {},
     "execution_count": 17
    }
   ],
   "source": [
    "joblib.dump(best_lr, '../static/model/pima_lr.pkl')"
   ]
  },
  {
   "cell_type": "code",
   "execution_count": 18,
   "metadata": {},
   "outputs": [
    {
     "output_type": "execute_result",
     "data": {
      "text/plain": [
       "{'C': 1.0,\n",
       " 'break_ties': False,\n",
       " 'cache_size': 200,\n",
       " 'class_weight': None,\n",
       " 'coef0': 0.0,\n",
       " 'decision_function_shape': 'ovr',\n",
       " 'degree': 3,\n",
       " 'gamma': 'scale',\n",
       " 'kernel': 'rbf',\n",
       " 'max_iter': -1,\n",
       " 'probability': False,\n",
       " 'random_state': None,\n",
       " 'shrinking': True,\n",
       " 'tol': 0.001,\n",
       " 'verbose': False}"
      ]
     },
     "metadata": {},
     "execution_count": 18
    }
   ],
   "source": [
    "sv.get_params()"
   ]
  },
  {
   "cell_type": "code",
   "execution_count": 21,
   "metadata": {},
   "outputs": [
    {
     "output_type": "stream",
     "name": "stdout",
     "text": [
      "최적 파라미터: {'C': 0.3}\n최고 정확도: 0.7691\n"
     ]
    }
   ],
   "source": [
    "params = {'C': [0.1, 0.2, 0.3, 0.4]}\n",
    "\n",
    "grid_cv = GridSearchCV(sv, param_grid=params, scoring='accuracy', cv=5)\n",
    "grid_cv.fit(X_train, y_train)\n",
    "print('최적 파라미터:', grid_cv.best_params_)\n",
    "print(f'최고 정확도: {grid_cv.best_score_:.4f}')"
   ]
  },
  {
   "cell_type": "code",
   "execution_count": 22,
   "metadata": {},
   "outputs": [
    {
     "output_type": "execute_result",
     "data": {
      "text/plain": [
       "0.734375"
      ]
     },
     "metadata": {},
     "execution_count": 22
    }
   ],
   "source": [
    "best_sv = grid_cv.best_estimator_\n",
    "pred = best_sv.predict(X_test)\n",
    "accuracy_score(y_test, pred)"
   ]
  },
  {
   "cell_type": "code",
   "execution_count": 23,
   "metadata": {},
   "outputs": [
    {
     "output_type": "execute_result",
     "data": {
      "text/plain": [
       "['../static/model/pima_sv.pkl']"
      ]
     },
     "metadata": {},
     "execution_count": 23
    }
   ],
   "source": [
    "joblib.dump(best_sv, '../static/model/pima_sv.pkl')"
   ]
  },
  {
   "cell_type": "code",
   "execution_count": 24,
   "metadata": {},
   "outputs": [
    {
     "output_type": "execute_result",
     "data": {
      "text/plain": [
       "{'ccp_alpha': 0.0,\n",
       " 'class_weight': None,\n",
       " 'criterion': 'gini',\n",
       " 'max_depth': None,\n",
       " 'max_features': None,\n",
       " 'max_leaf_nodes': None,\n",
       " 'min_impurity_decrease': 0.0,\n",
       " 'min_impurity_split': None,\n",
       " 'min_samples_leaf': 1,\n",
       " 'min_samples_split': 2,\n",
       " 'min_weight_fraction_leaf': 0.0,\n",
       " 'presort': 'deprecated',\n",
       " 'random_state': None,\n",
       " 'splitter': 'best'}"
      ]
     },
     "metadata": {},
     "execution_count": 24
    }
   ],
   "source": [
    "dt.get_params()"
   ]
  },
  {
   "cell_type": "code",
   "execution_count": 25,
   "metadata": {},
   "outputs": [
    {
     "output_type": "stream",
     "name": "stdout",
     "text": [
      "최적 파라미터: {'max_depth': 5, 'min_samples_leaf': 3, 'min_samples_split': 3}\n최고 정확도: 0.7638\n"
     ]
    }
   ],
   "source": [
    "params = {\n",
    "    'max_depth': [3, 5, 7],\n",
    "    'min_samples_split': [2, 3, 4],\n",
    "    'min_samples_leaf': [2, 3, 4]\n",
    "}\n",
    "\n",
    "grid_cv = GridSearchCV(dt, param_grid=params, scoring='accuracy', cv=5)\n",
    "grid_cv.fit(X_train, y_train)\n",
    "print('최적 파라미터:', grid_cv.best_params_)\n",
    "print(f'최고 정확도: {grid_cv.best_score_:.4f}')"
   ]
  },
  {
   "cell_type": "code",
   "execution_count": 26,
   "metadata": {},
   "outputs": [
    {
     "output_type": "execute_result",
     "data": {
      "text/plain": [
       "0.609375"
      ]
     },
     "metadata": {},
     "execution_count": 26
    }
   ],
   "source": [
    "best_dt = grid_cv.best_estimator_\n",
    "pred = best_dt.predict(X_test)\n",
    "accuracy_score(y_test, pred)"
   ]
  },
  {
   "cell_type": "code",
   "execution_count": 27,
   "metadata": {},
   "outputs": [
    {
     "output_type": "execute_result",
     "data": {
      "text/plain": [
       "['../static/model/pima_dt.pkl']"
      ]
     },
     "metadata": {},
     "execution_count": 27
    }
   ],
   "source": [
    "joblib.dump(best_dt, '../static/model/pima_dt.pkl')"
   ]
  },
  {
   "cell_type": "code",
   "execution_count": 28,
   "metadata": {},
   "outputs": [
    {
     "output_type": "execute_result",
     "data": {
      "text/plain": [
       "{'bootstrap': True,\n",
       " 'ccp_alpha': 0.0,\n",
       " 'class_weight': None,\n",
       " 'criterion': 'gini',\n",
       " 'max_depth': None,\n",
       " 'max_features': 'auto',\n",
       " 'max_leaf_nodes': None,\n",
       " 'max_samples': None,\n",
       " 'min_impurity_decrease': 0.0,\n",
       " 'min_impurity_split': None,\n",
       " 'min_samples_leaf': 1,\n",
       " 'min_samples_split': 2,\n",
       " 'min_weight_fraction_leaf': 0.0,\n",
       " 'n_estimators': 100,\n",
       " 'n_jobs': None,\n",
       " 'oob_score': False,\n",
       " 'random_state': None,\n",
       " 'verbose': 0,\n",
       " 'warm_start': False}"
      ]
     },
     "metadata": {},
     "execution_count": 28
    }
   ],
   "source": [
    "rf.get_params()"
   ]
  },
  {
   "cell_type": "code",
   "execution_count": 29,
   "metadata": {},
   "outputs": [
    {
     "output_type": "stream",
     "name": "stdout",
     "text": [
      "최적 파라미터: {'max_depth': 10, 'min_samples_leaf': 2, 'min_samples_split': 7}\n최고 정확도: 0.7778\n"
     ]
    }
   ],
   "source": [
    "params = {\n",
    "    'max_depth': [8, 10, 12],\n",
    "    'min_samples_leaf': [2, 4, 6],\n",
    "    'min_samples_split': [5, 7, 9]\n",
    "}\n",
    "\n",
    "grid_cv = GridSearchCV(rf, param_grid=params, scoring='accuracy', cv=5)\n",
    "grid_cv.fit(X_train, y_train)\n",
    "print('최적 파라미터:', grid_cv.best_params_)\n",
    "print(f'최고 정확도: {grid_cv.best_score_:.4f}')"
   ]
  },
  {
   "cell_type": "code",
   "execution_count": 30,
   "metadata": {},
   "outputs": [
    {
     "output_type": "execute_result",
     "data": {
      "text/plain": [
       "0.7604166666666666"
      ]
     },
     "metadata": {},
     "execution_count": 30
    }
   ],
   "source": [
    "best_rf = grid_cv.best_estimator_\n",
    "pred = best_rf.predict(X_test)\n",
    "accuracy_score(y_test, pred)"
   ]
  },
  {
   "cell_type": "code",
   "execution_count": 31,
   "metadata": {},
   "outputs": [
    {
     "output_type": "execute_result",
     "data": {
      "text/plain": [
       "['../static/model/pima_rf.pkl']"
      ]
     },
     "metadata": {},
     "execution_count": 31
    }
   ],
   "source": [
    "joblib.dump(best_rf, '../static/model/pima_rf.pkl')"
   ]
  },
  {
   "source": [
    "## 타이타닉"
   ],
   "cell_type": "markdown",
   "metadata": {}
  },
  {
   "cell_type": "code",
   "execution_count": 1,
   "metadata": {},
   "outputs": [],
   "source": [
    "import pandas as pd\n",
    "import numpy as np\n",
    "titanic_train = pd.read_csv('../static/data/titanic/train.csv')"
   ]
  },
  {
   "cell_type": "code",
   "execution_count": 2,
   "metadata": {},
   "outputs": [],
   "source": [
    "titanic_train['sex'] = np.nan\n",
    "for i in titanic_train.index:\n",
    "    titanic_train['sex'][i] = 0 if titanic_train['Sex'][i] == 'female' else 1"
   ]
  },
  {
   "cell_type": "code",
   "execution_count": 3,
   "metadata": {},
   "outputs": [
    {
     "output_type": "execute_result",
     "data": {
      "text/plain": [
       "   Pclass  Sex   Age  SibSp  Parch     Fare Embarked  Survived\n",
       "0       3  1.0  22.0      1      0   7.2500        S         0\n",
       "1       1  0.0  38.0      1      0  71.2833        C         1\n",
       "2       3  0.0  26.0      0      0   7.9250        S         1\n",
       "3       1  0.0  35.0      1      0  53.1000        S         1\n",
       "4       3  1.0  35.0      0      0   8.0500        S         0"
      ],
      "text/html": "<div>\n<style scoped>\n    .dataframe tbody tr th:only-of-type {\n        vertical-align: middle;\n    }\n\n    .dataframe tbody tr th {\n        vertical-align: top;\n    }\n\n    .dataframe thead th {\n        text-align: right;\n    }\n</style>\n<table border=\"1\" class=\"dataframe\">\n  <thead>\n    <tr style=\"text-align: right;\">\n      <th></th>\n      <th>Pclass</th>\n      <th>Sex</th>\n      <th>Age</th>\n      <th>SibSp</th>\n      <th>Parch</th>\n      <th>Fare</th>\n      <th>Embarked</th>\n      <th>Survived</th>\n    </tr>\n  </thead>\n  <tbody>\n    <tr>\n      <th>0</th>\n      <td>3</td>\n      <td>1.0</td>\n      <td>22.0</td>\n      <td>1</td>\n      <td>0</td>\n      <td>7.2500</td>\n      <td>S</td>\n      <td>0</td>\n    </tr>\n    <tr>\n      <th>1</th>\n      <td>1</td>\n      <td>0.0</td>\n      <td>38.0</td>\n      <td>1</td>\n      <td>0</td>\n      <td>71.2833</td>\n      <td>C</td>\n      <td>1</td>\n    </tr>\n    <tr>\n      <th>2</th>\n      <td>3</td>\n      <td>0.0</td>\n      <td>26.0</td>\n      <td>0</td>\n      <td>0</td>\n      <td>7.9250</td>\n      <td>S</td>\n      <td>1</td>\n    </tr>\n    <tr>\n      <th>3</th>\n      <td>1</td>\n      <td>0.0</td>\n      <td>35.0</td>\n      <td>1</td>\n      <td>0</td>\n      <td>53.1000</td>\n      <td>S</td>\n      <td>1</td>\n    </tr>\n    <tr>\n      <th>4</th>\n      <td>3</td>\n      <td>1.0</td>\n      <td>35.0</td>\n      <td>0</td>\n      <td>0</td>\n      <td>8.0500</td>\n      <td>S</td>\n      <td>0</td>\n    </tr>\n  </tbody>\n</table>\n</div>"
     },
     "metadata": {},
     "execution_count": 3
    }
   ],
   "source": [
    "train_df = pd.DataFrame({\n",
    "    'Pclass': titanic_train.Pclass,\n",
    "    'Sex': titanic_train.sex,\n",
    "    'Age': titanic_train.Age,\n",
    "    'SibSp': titanic_train.SibSp,\n",
    "    'Parch': titanic_train.Parch,\n",
    "    'Fare': titanic_train.Fare,\n",
    "    'Embarked': titanic_train.Embarked,\n",
    "    'Survived': titanic_train.Survived\n",
    "})\n",
    "train_df.head()"
   ]
  },
  {
   "cell_type": "code",
   "execution_count": 4,
   "metadata": {},
   "outputs": [
    {
     "output_type": "execute_result",
     "data": {
      "text/plain": [
       "   Pclass       Fare\n",
       "0       1  84.154687\n",
       "1       2  20.662183\n",
       "2       3  13.675550"
      ],
      "text/html": "<div>\n<style scoped>\n    .dataframe tbody tr th:only-of-type {\n        vertical-align: middle;\n    }\n\n    .dataframe tbody tr th {\n        vertical-align: top;\n    }\n\n    .dataframe thead th {\n        text-align: right;\n    }\n</style>\n<table border=\"1\" class=\"dataframe\">\n  <thead>\n    <tr style=\"text-align: right;\">\n      <th></th>\n      <th>Pclass</th>\n      <th>Fare</th>\n    </tr>\n  </thead>\n  <tbody>\n    <tr>\n      <th>0</th>\n      <td>1</td>\n      <td>84.154687</td>\n    </tr>\n    <tr>\n      <th>1</th>\n      <td>2</td>\n      <td>20.662183</td>\n    </tr>\n    <tr>\n      <th>2</th>\n      <td>3</td>\n      <td>13.675550</td>\n    </tr>\n  </tbody>\n</table>\n</div>"
     },
     "metadata": {},
     "execution_count": 4
    }
   ],
   "source": [
    "train_grouped = train_df[['Pclass', 'Fare']].groupby(['Pclass'], as_index=False).mean()\n",
    "train_grouped"
   ]
  },
  {
   "cell_type": "code",
   "execution_count": 5,
   "metadata": {},
   "outputs": [
    {
     "output_type": "stream",
     "name": "stdout",
     "text": [
      "<class 'pandas.core.frame.DataFrame'>\nRangeIndex: 891 entries, 0 to 890\nData columns (total 8 columns):\n #   Column    Non-Null Count  Dtype  \n---  ------    --------------  -----  \n 0   Pclass    891 non-null    int64  \n 1   Sex       891 non-null    float64\n 2   Age       714 non-null    float64\n 3   SibSp     891 non-null    int64  \n 4   Parch     891 non-null    int64  \n 5   Fare      891 non-null    float64\n 6   Embarked  889 non-null    object \n 7   Survived  891 non-null    int64  \ndtypes: float64(3), int64(4), object(1)\nmemory usage: 55.8+ KB\n"
     ]
    }
   ],
   "source": [
    "train_df.info()"
   ]
  },
  {
   "cell_type": "code",
   "execution_count": 6,
   "metadata": {},
   "outputs": [
    {
     "output_type": "execute_result",
     "data": {
      "text/plain": [
       "     Pclass  Sex   Age  SibSp  Parch   Fare Embarked  Survived\n",
       "886       2  1.0  27.0      0      0  13.00        S         0\n",
       "887       1  0.0  19.0      0      0  30.00        S         1\n",
       "888       3  0.0  30.0      1      2  23.45        S         0\n",
       "889       1  1.0  26.0      0      0  30.00        C         1\n",
       "890       3  1.0  32.0      0      0   7.75        Q         0"
      ],
      "text/html": "<div>\n<style scoped>\n    .dataframe tbody tr th:only-of-type {\n        vertical-align: middle;\n    }\n\n    .dataframe tbody tr th {\n        vertical-align: top;\n    }\n\n    .dataframe thead th {\n        text-align: right;\n    }\n</style>\n<table border=\"1\" class=\"dataframe\">\n  <thead>\n    <tr style=\"text-align: right;\">\n      <th></th>\n      <th>Pclass</th>\n      <th>Sex</th>\n      <th>Age</th>\n      <th>SibSp</th>\n      <th>Parch</th>\n      <th>Fare</th>\n      <th>Embarked</th>\n      <th>Survived</th>\n    </tr>\n  </thead>\n  <tbody>\n    <tr>\n      <th>886</th>\n      <td>2</td>\n      <td>1.0</td>\n      <td>27.0</td>\n      <td>0</td>\n      <td>0</td>\n      <td>13.00</td>\n      <td>S</td>\n      <td>0</td>\n    </tr>\n    <tr>\n      <th>887</th>\n      <td>1</td>\n      <td>0.0</td>\n      <td>19.0</td>\n      <td>0</td>\n      <td>0</td>\n      <td>30.00</td>\n      <td>S</td>\n      <td>1</td>\n    </tr>\n    <tr>\n      <th>888</th>\n      <td>3</td>\n      <td>0.0</td>\n      <td>30.0</td>\n      <td>1</td>\n      <td>2</td>\n      <td>23.45</td>\n      <td>S</td>\n      <td>0</td>\n    </tr>\n    <tr>\n      <th>889</th>\n      <td>1</td>\n      <td>1.0</td>\n      <td>26.0</td>\n      <td>0</td>\n      <td>0</td>\n      <td>30.00</td>\n      <td>C</td>\n      <td>1</td>\n    </tr>\n    <tr>\n      <th>890</th>\n      <td>3</td>\n      <td>1.0</td>\n      <td>32.0</td>\n      <td>0</td>\n      <td>0</td>\n      <td>7.75</td>\n      <td>Q</td>\n      <td>0</td>\n    </tr>\n  </tbody>\n</table>\n</div>"
     },
     "metadata": {},
     "execution_count": 6
    }
   ],
   "source": [
    "for i in train_df.index:\n",
    "    train_df['Age'][i] = train_df['Age'][i] * 100 if train_df['Age'][i] < 1 else train_df['Age'][i]\n",
    "train_df['Age'] = train_df['Age'].fillna(round(train_df['Age'].mean(), 0))\n",
    "train_df.tail()"
   ]
  },
  {
   "cell_type": "code",
   "execution_count": 7,
   "metadata": {},
   "outputs": [
    {
     "output_type": "stream",
     "name": "stdout",
     "text": [
      "<class 'pandas.core.frame.DataFrame'>\nRangeIndex: 891 entries, 0 to 890\nData columns (total 8 columns):\n #   Column    Non-Null Count  Dtype  \n---  ------    --------------  -----  \n 0   Pclass    891 non-null    int64  \n 1   Sex       891 non-null    float64\n 2   Age       891 non-null    float64\n 3   SibSp     891 non-null    int64  \n 4   Parch     891 non-null    int64  \n 5   Fare      891 non-null    float64\n 6   Embarked  891 non-null    object \n 7   Survived  891 non-null    int64  \ndtypes: float64(3), int64(4), object(1)\nmemory usage: 55.8+ KB\n"
     ]
    }
   ],
   "source": [
    "train_df['Embarked'] = train_df['Embarked'].fillna('S')\n",
    "train_df.info()"
   ]
  },
  {
   "cell_type": "code",
   "execution_count": 8,
   "metadata": {},
   "outputs": [
    {
     "output_type": "execute_result",
     "data": {
      "text/plain": [
       "           Pclass         Sex         Age       SibSp       Parch        Fare  \\\n",
       "count  891.000000  891.000000  891.000000  891.000000  891.000000  891.000000   \n",
       "mean     2.308642    0.647587   30.333333    0.523008    0.381594   32.204208   \n",
       "std      0.836071    0.477990   13.385112    1.102743    0.806057   49.693429   \n",
       "min      1.000000    0.000000    1.000000    0.000000    0.000000    0.000000   \n",
       "25%      2.000000    0.000000   22.000000    0.000000    0.000000    7.910400   \n",
       "50%      3.000000    1.000000   30.000000    0.000000    0.000000   14.454200   \n",
       "75%      3.000000    1.000000   36.000000    1.000000    0.000000   31.000000   \n",
       "max      3.000000    1.000000   92.000000    8.000000    6.000000  512.329200   \n",
       "\n",
       "         Survived  \n",
       "count  891.000000  \n",
       "mean     0.383838  \n",
       "std      0.486592  \n",
       "min      0.000000  \n",
       "25%      0.000000  \n",
       "50%      0.000000  \n",
       "75%      1.000000  \n",
       "max      1.000000  "
      ],
      "text/html": "<div>\n<style scoped>\n    .dataframe tbody tr th:only-of-type {\n        vertical-align: middle;\n    }\n\n    .dataframe tbody tr th {\n        vertical-align: top;\n    }\n\n    .dataframe thead th {\n        text-align: right;\n    }\n</style>\n<table border=\"1\" class=\"dataframe\">\n  <thead>\n    <tr style=\"text-align: right;\">\n      <th></th>\n      <th>Pclass</th>\n      <th>Sex</th>\n      <th>Age</th>\n      <th>SibSp</th>\n      <th>Parch</th>\n      <th>Fare</th>\n      <th>Survived</th>\n    </tr>\n  </thead>\n  <tbody>\n    <tr>\n      <th>count</th>\n      <td>891.000000</td>\n      <td>891.000000</td>\n      <td>891.000000</td>\n      <td>891.000000</td>\n      <td>891.000000</td>\n      <td>891.000000</td>\n      <td>891.000000</td>\n    </tr>\n    <tr>\n      <th>mean</th>\n      <td>2.308642</td>\n      <td>0.647587</td>\n      <td>30.333333</td>\n      <td>0.523008</td>\n      <td>0.381594</td>\n      <td>32.204208</td>\n      <td>0.383838</td>\n    </tr>\n    <tr>\n      <th>std</th>\n      <td>0.836071</td>\n      <td>0.477990</td>\n      <td>13.385112</td>\n      <td>1.102743</td>\n      <td>0.806057</td>\n      <td>49.693429</td>\n      <td>0.486592</td>\n    </tr>\n    <tr>\n      <th>min</th>\n      <td>1.000000</td>\n      <td>0.000000</td>\n      <td>1.000000</td>\n      <td>0.000000</td>\n      <td>0.000000</td>\n      <td>0.000000</td>\n      <td>0.000000</td>\n    </tr>\n    <tr>\n      <th>25%</th>\n      <td>2.000000</td>\n      <td>0.000000</td>\n      <td>22.000000</td>\n      <td>0.000000</td>\n      <td>0.000000</td>\n      <td>7.910400</td>\n      <td>0.000000</td>\n    </tr>\n    <tr>\n      <th>50%</th>\n      <td>3.000000</td>\n      <td>1.000000</td>\n      <td>30.000000</td>\n      <td>0.000000</td>\n      <td>0.000000</td>\n      <td>14.454200</td>\n      <td>0.000000</td>\n    </tr>\n    <tr>\n      <th>75%</th>\n      <td>3.000000</td>\n      <td>1.000000</td>\n      <td>36.000000</td>\n      <td>1.000000</td>\n      <td>0.000000</td>\n      <td>31.000000</td>\n      <td>1.000000</td>\n    </tr>\n    <tr>\n      <th>max</th>\n      <td>3.000000</td>\n      <td>1.000000</td>\n      <td>92.000000</td>\n      <td>8.000000</td>\n      <td>6.000000</td>\n      <td>512.329200</td>\n      <td>1.000000</td>\n    </tr>\n  </tbody>\n</table>\n</div>"
     },
     "metadata": {},
     "execution_count": 8
    }
   ],
   "source": [
    "train_df.describe()"
   ]
  },
  {
   "cell_type": "code",
   "execution_count": 9,
   "metadata": {},
   "outputs": [],
   "source": [
    "for i in train_df.index:\n",
    "    if (train_df.Pclass[i] == 1) & (train_df.Fare[i] == 0):\n",
    "        train_df.Fare[i] = train_grouped['Fare'][0]\n",
    "    elif (train_df.Pclass[i] == 2) & (train_df.Fare[i] == 0):\n",
    "        train_df.Fare[i] = train_grouped['Fare'][1]\n",
    "    elif (train_df.Pclass[i] == 3) & (train_df.Fare[i] == 0):\n",
    "        train_df.Fare[i] = train_grouped['Fare'][2]"
   ]
  },
  {
   "cell_type": "code",
   "execution_count": 10,
   "metadata": {},
   "outputs": [
    {
     "output_type": "execute_result",
     "data": {
      "text/plain": [
       "           Pclass         Sex         Age       SibSp       Parch        Fare  \\\n",
       "count  891.000000  891.000000  891.000000  891.000000  891.000000  891.000000   \n",
       "mean     2.308642    0.647587   30.333333    0.523008    0.381594   32.876990   \n",
       "std      0.836071    0.477990   13.385112    1.102743    0.806057   49.690114   \n",
       "min      1.000000    0.000000    1.000000    0.000000    0.000000    4.012500   \n",
       "25%      2.000000    0.000000   22.000000    0.000000    0.000000    7.925000   \n",
       "50%      3.000000    1.000000   30.000000    0.000000    0.000000   14.500000   \n",
       "75%      3.000000    1.000000   36.000000    1.000000    0.000000   31.275000   \n",
       "max      3.000000    1.000000   92.000000    8.000000    6.000000  512.329200   \n",
       "\n",
       "         Survived  \n",
       "count  891.000000  \n",
       "mean     0.383838  \n",
       "std      0.486592  \n",
       "min      0.000000  \n",
       "25%      0.000000  \n",
       "50%      0.000000  \n",
       "75%      1.000000  \n",
       "max      1.000000  "
      ],
      "text/html": "<div>\n<style scoped>\n    .dataframe tbody tr th:only-of-type {\n        vertical-align: middle;\n    }\n\n    .dataframe tbody tr th {\n        vertical-align: top;\n    }\n\n    .dataframe thead th {\n        text-align: right;\n    }\n</style>\n<table border=\"1\" class=\"dataframe\">\n  <thead>\n    <tr style=\"text-align: right;\">\n      <th></th>\n      <th>Pclass</th>\n      <th>Sex</th>\n      <th>Age</th>\n      <th>SibSp</th>\n      <th>Parch</th>\n      <th>Fare</th>\n      <th>Survived</th>\n    </tr>\n  </thead>\n  <tbody>\n    <tr>\n      <th>count</th>\n      <td>891.000000</td>\n      <td>891.000000</td>\n      <td>891.000000</td>\n      <td>891.000000</td>\n      <td>891.000000</td>\n      <td>891.000000</td>\n      <td>891.000000</td>\n    </tr>\n    <tr>\n      <th>mean</th>\n      <td>2.308642</td>\n      <td>0.647587</td>\n      <td>30.333333</td>\n      <td>0.523008</td>\n      <td>0.381594</td>\n      <td>32.876990</td>\n      <td>0.383838</td>\n    </tr>\n    <tr>\n      <th>std</th>\n      <td>0.836071</td>\n      <td>0.477990</td>\n      <td>13.385112</td>\n      <td>1.102743</td>\n      <td>0.806057</td>\n      <td>49.690114</td>\n      <td>0.486592</td>\n    </tr>\n    <tr>\n      <th>min</th>\n      <td>1.000000</td>\n      <td>0.000000</td>\n      <td>1.000000</td>\n      <td>0.000000</td>\n      <td>0.000000</td>\n      <td>4.012500</td>\n      <td>0.000000</td>\n    </tr>\n    <tr>\n      <th>25%</th>\n      <td>2.000000</td>\n      <td>0.000000</td>\n      <td>22.000000</td>\n      <td>0.000000</td>\n      <td>0.000000</td>\n      <td>7.925000</td>\n      <td>0.000000</td>\n    </tr>\n    <tr>\n      <th>50%</th>\n      <td>3.000000</td>\n      <td>1.000000</td>\n      <td>30.000000</td>\n      <td>0.000000</td>\n      <td>0.000000</td>\n      <td>14.500000</td>\n      <td>0.000000</td>\n    </tr>\n    <tr>\n      <th>75%</th>\n      <td>3.000000</td>\n      <td>1.000000</td>\n      <td>36.000000</td>\n      <td>1.000000</td>\n      <td>0.000000</td>\n      <td>31.275000</td>\n      <td>1.000000</td>\n    </tr>\n    <tr>\n      <th>max</th>\n      <td>3.000000</td>\n      <td>1.000000</td>\n      <td>92.000000</td>\n      <td>8.000000</td>\n      <td>6.000000</td>\n      <td>512.329200</td>\n      <td>1.000000</td>\n    </tr>\n  </tbody>\n</table>\n</div>"
     },
     "metadata": {},
     "execution_count": 10
    }
   ],
   "source": [
    "train_df.describe()"
   ]
  },
  {
   "cell_type": "code",
   "execution_count": 11,
   "metadata": {},
   "outputs": [],
   "source": [
    "for i in train_df.index:\n",
    "    if train_df.Embarked[i] == 'S':\n",
    "        train_df.Embarked[i] = 0\n",
    "    elif train_df.Embarked[i] == 'C':\n",
    "        train_df.Embarked[i] = 1\n",
    "    else:\n",
    "        train_df.Embarked[i] = 2"
   ]
  },
  {
   "cell_type": "code",
   "execution_count": 12,
   "metadata": {},
   "outputs": [],
   "source": [
    "train_df.to_csv('../static/data/titanic_train.csv')"
   ]
  },
  {
   "source": [
    "### 학습"
   ],
   "cell_type": "markdown",
   "metadata": {}
  },
  {
   "cell_type": "code",
   "execution_count": 14,
   "metadata": {},
   "outputs": [],
   "source": [
    "from sklearn.model_selection import train_test_split, GridSearchCV\n",
    "from sklearn.linear_model import LogisticRegression\n",
    "from sklearn.tree import DecisionTreeClassifier\n",
    "from sklearn.ensemble import RandomForestClassifier\n",
    "from sklearn.svm import SVC\n",
    "from sklearn.metrics import accuracy_score\n",
    "\n",
    "lr = LogisticRegression()\n",
    "dt = DecisionTreeClassifier()\n",
    "rf = RandomForestClassifier()\n",
    "sv = SVC()\n",
    "\n",
    "X_train, X_test, y_train, y_test = train_test_split(train_df, train_df.Survived, test_size=0.25, random_state=2021)"
   ]
  },
  {
   "cell_type": "code",
   "execution_count": 15,
   "metadata": {},
   "outputs": [],
   "source": [
    "X_train_df = pd.DataFrame(X_train, columns=train_df.columns)\n",
    "X_test_df = pd.DataFrame(X_test, columns=train_df.columns)\n",
    "X_train_df.to_csv('../static/data/titanic_train.csv')\n",
    "X_test_df.to_csv('../static/data/titanic_test.csv')"
   ]
  },
  {
   "cell_type": "code",
   "execution_count": 17,
   "metadata": {},
   "outputs": [
    {
     "output_type": "execute_result",
     "data": {
      "text/plain": [
       "((668, 8), (668,), (223, 8), (223,))"
      ]
     },
     "metadata": {},
     "execution_count": 17
    }
   ],
   "source": [
    "df_train = pd.read_csv('../static/data/titanic_train.csv')\n",
    "y_train = df_train.Survived.values\n",
    "X_train = df_train.drop('Survived', axis=1)\n",
    "df_test = pd.read_csv('../static/data/titanic_test.csv')\n",
    "y_test = df_test.Survived.values\n",
    "X_test = df_test.drop('Survived', axis=1)\n",
    "X_train.shape, y_train.shape, X_test.shape, y_test.shape"
   ]
  },
  {
   "cell_type": "code",
   "execution_count": 18,
   "metadata": {},
   "outputs": [
    {
     "output_type": "stream",
     "name": "stdout",
     "text": [
      "{'C': 1.0, 'class_weight': None, 'dual': False, 'fit_intercept': True, 'intercept_scaling': 1, 'l1_ratio': None, 'max_iter': 100, 'multi_class': 'auto', 'n_jobs': None, 'penalty': 'l2', 'random_state': None, 'solver': 'lbfgs', 'tol': 0.0001, 'verbose': 0, 'warm_start': False}\n{'ccp_alpha': 0.0, 'class_weight': None, 'criterion': 'gini', 'max_depth': None, 'max_features': None, 'max_leaf_nodes': None, 'min_impurity_decrease': 0.0, 'min_impurity_split': None, 'min_samples_leaf': 1, 'min_samples_split': 2, 'min_weight_fraction_leaf': 0.0, 'presort': 'deprecated', 'random_state': None, 'splitter': 'best'}\n{'bootstrap': True, 'ccp_alpha': 0.0, 'class_weight': None, 'criterion': 'gini', 'max_depth': None, 'max_features': 'auto', 'max_leaf_nodes': None, 'max_samples': None, 'min_impurity_decrease': 0.0, 'min_impurity_split': None, 'min_samples_leaf': 1, 'min_samples_split': 2, 'min_weight_fraction_leaf': 0.0, 'n_estimators': 100, 'n_jobs': None, 'oob_score': False, 'random_state': None, 'verbose': 0, 'warm_start': False}\n{'C': 1.0, 'break_ties': False, 'cache_size': 200, 'class_weight': None, 'coef0': 0.0, 'decision_function_shape': 'ovr', 'degree': 3, 'gamma': 'scale', 'kernel': 'rbf', 'max_iter': -1, 'probability': False, 'random_state': None, 'shrinking': True, 'tol': 0.001, 'verbose': False}\n"
     ]
    }
   ],
   "source": [
    "print(lr.get_params())\n",
    "print(dt.get_params())\n",
    "print(rf.get_params())\n",
    "print(sv.get_params())"
   ]
  },
  {
   "cell_type": "code",
   "execution_count": 19,
   "metadata": {},
   "outputs": [
    {
     "output_type": "stream",
     "name": "stdout",
     "text": [
      "최적 파라미터: {'C': 0.1}\n최고 정확도: 0.7995\n"
     ]
    }
   ],
   "source": [
    "params = {'C': [0.1, 0.5, 0.7]}\n",
    "\n",
    "grid_cv = GridSearchCV(lr, param_grid=params, scoring='accuracy', cv=5)\n",
    "grid_cv.fit(X_train, y_train)\n",
    "print('최적 파라미터:', grid_cv.best_params_)\n",
    "print(f'최고 정확도: {grid_cv.best_score_:.4f}')"
   ]
  },
  {
   "cell_type": "code",
   "execution_count": 20,
   "metadata": {},
   "outputs": [
    {
     "output_type": "execute_result",
     "data": {
      "text/plain": [
       "0.7623318385650224"
      ]
     },
     "metadata": {},
     "execution_count": 20
    }
   ],
   "source": [
    "best_lr = grid_cv.best_estimator_\n",
    "pred = best_lr.predict(X_test)\n",
    "accuracy_score(y_test, pred)"
   ]
  },
  {
   "cell_type": "code",
   "execution_count": 21,
   "metadata": {},
   "outputs": [
    {
     "output_type": "execute_result",
     "data": {
      "text/plain": [
       "['../static/model/titanic_lr.pkl']"
      ]
     },
     "metadata": {},
     "execution_count": 21
    }
   ],
   "source": [
    "import joblib\n",
    "joblib.dump(best_lr, '../static/model/titanic_lr.pkl')"
   ]
  },
  {
   "cell_type": "code",
   "execution_count": 22,
   "metadata": {},
   "outputs": [
    {
     "output_type": "stream",
     "name": "stdout",
     "text": [
      "최적 파라미터: {'C': 100}\n최고 정확도: 0.6752\n"
     ]
    }
   ],
   "source": [
    "params = {'C': [90, 100, 110, 120]}\n",
    "\n",
    "grid_cv = GridSearchCV(sv, param_grid=params, scoring='accuracy', cv=5)\n",
    "grid_cv.fit(X_train, y_train)\n",
    "print('최적 파라미터:', grid_cv.best_params_)\n",
    "print(f'최고 정확도: {grid_cv.best_score_:.4f}')"
   ]
  },
  {
   "cell_type": "code",
   "execution_count": 23,
   "metadata": {},
   "outputs": [
    {
     "output_type": "execute_result",
     "data": {
      "text/plain": [
       "0.6636771300448431"
      ]
     },
     "metadata": {},
     "execution_count": 23
    }
   ],
   "source": [
    "best_sv = grid_cv.best_estimator_\n",
    "pred = best_sv.predict(X_test)\n",
    "accuracy_score(y_test, pred)"
   ]
  },
  {
   "cell_type": "code",
   "execution_count": 24,
   "metadata": {},
   "outputs": [
    {
     "output_type": "execute_result",
     "data": {
      "text/plain": [
       "['../static/model/titanic_sv.pkl']"
      ]
     },
     "metadata": {},
     "execution_count": 24
    }
   ],
   "source": [
    "joblib.dump(best_sv, '../static/model/titanic_sv.pkl')"
   ]
  },
  {
   "cell_type": "code",
   "execution_count": 26,
   "metadata": {},
   "outputs": [
    {
     "output_type": "stream",
     "name": "stdout",
     "text": [
      "최적 파라미터: {'max_depth': 3, 'min_samples_leaf': 3, 'min_samples_split': 2}\n최고 정확도: 0.8144\n"
     ]
    }
   ],
   "source": [
    "params = {\n",
    "    'max_depth': [2, 3, 4, 5],\n",
    "    'min_samples_leaf': [1, 2, 3, 4],\n",
    "    'min_samples_split': [1, 2, 3, 4]\n",
    "}\n",
    "\n",
    "grid_cv = GridSearchCV(dt, param_grid=params, scoring='accuracy', cv=5)\n",
    "grid_cv.fit(X_train, y_train)\n",
    "print('최적 파라미터:', grid_cv.best_params_)\n",
    "print(f'최고 정확도: {grid_cv.best_score_:.4f}')"
   ]
  },
  {
   "cell_type": "code",
   "execution_count": 27,
   "metadata": {},
   "outputs": [
    {
     "output_type": "execute_result",
     "data": {
      "text/plain": [
       "0.7802690582959642"
      ]
     },
     "metadata": {},
     "execution_count": 27
    }
   ],
   "source": [
    "best_dt = grid_cv.best_estimator_\n",
    "pred = best_dt.predict(X_test)\n",
    "accuracy_score(y_test, pred)"
   ]
  },
  {
   "cell_type": "code",
   "execution_count": 28,
   "metadata": {},
   "outputs": [
    {
     "output_type": "execute_result",
     "data": {
      "text/plain": [
       "['../static/model/titanic_dt.pkl']"
      ]
     },
     "metadata": {},
     "execution_count": 28
    }
   ],
   "source": [
    "joblib.dump(best_dt, '../static/model/titanic_dt.pkl')"
   ]
  },
  {
   "cell_type": "code",
   "execution_count": 29,
   "metadata": {},
   "outputs": [
    {
     "output_type": "stream",
     "name": "stdout",
     "text": [
      "최적 파라미터: {'max_depth': 5, 'min_samples_leaf': 1, 'min_samples_split': 3}\n최고 정확도: 0.8353\n"
     ]
    }
   ],
   "source": [
    "params = {\n",
    "    'max_depth': [4, 5, 6],\n",
    "    'min_samples_leaf': [1, 2, 3, 4],\n",
    "    'min_samples_split': [1, 2, 3, 4]\n",
    "}\n",
    "\n",
    "grid_cv = GridSearchCV(rf, param_grid=params, scoring='accuracy', cv=5)\n",
    "grid_cv.fit(X_train, y_train)\n",
    "print('최적 파라미터:', grid_cv.best_params_)\n",
    "print(f'최고 정확도: {grid_cv.best_score_:.4f}')"
   ]
  },
  {
   "cell_type": "code",
   "execution_count": 30,
   "metadata": {},
   "outputs": [
    {
     "output_type": "execute_result",
     "data": {
      "text/plain": [
       "0.7982062780269058"
      ]
     },
     "metadata": {},
     "execution_count": 30
    }
   ],
   "source": [
    "best_rf = grid_cv.best_estimator_\n",
    "pred = best_rf.predict(X_test)\n",
    "accuracy_score(y_test, pred)"
   ]
  },
  {
   "cell_type": "code",
   "execution_count": 31,
   "metadata": {},
   "outputs": [
    {
     "output_type": "execute_result",
     "data": {
      "text/plain": [
       "['../static/model/titanic_rf.pkl']"
      ]
     },
     "metadata": {},
     "execution_count": 31
    }
   ],
   "source": [
    "joblib.dump(best_rf, '../static/model/titanic_rf.pkl')"
   ]
  },
  {
   "source": [
    "## 붓꽃"
   ],
   "cell_type": "markdown",
   "metadata": {}
  },
  {
   "cell_type": "code",
   "execution_count": 32,
   "metadata": {},
   "outputs": [],
   "source": [
    "iris_train = pd.read_csv('../static/data/iris_train.csv')\n",
    "iris_test = pd.read_csv('../static/data/iris_test.csv')"
   ]
  },
  {
   "cell_type": "code",
   "execution_count": 33,
   "metadata": {},
   "outputs": [
    {
     "output_type": "execute_result",
     "data": {
      "text/plain": [
       "((112, 4), (112,))"
      ]
     },
     "metadata": {},
     "execution_count": 33
    }
   ],
   "source": [
    "X_train = iris_train.drop('target', axis=1)\n",
    "y_train = iris_train.target.values\n",
    "X_train.shape, y_train.shape"
   ]
  },
  {
   "cell_type": "code",
   "execution_count": 34,
   "metadata": {},
   "outputs": [
    {
     "output_type": "execute_result",
     "data": {
      "text/plain": [
       "((38, 4), (38,))"
      ]
     },
     "metadata": {},
     "execution_count": 34
    }
   ],
   "source": [
    "X_test = iris_test.drop('target', axis=1)\n",
    "y_test = iris_test.target.values\n",
    "X_test.shape, y_test.shape"
   ]
  },
  {
   "cell_type": "code",
   "execution_count": 35,
   "metadata": {},
   "outputs": [],
   "source": [
    "from sklearn.neighbors import KNeighborsClassifier\n",
    "\n",
    "dt = DecisionTreeClassifier()\n",
    "rf = RandomForestClassifier()\n",
    "kn = KNeighborsClassifier()"
   ]
  },
  {
   "cell_type": "code",
   "execution_count": 36,
   "metadata": {},
   "outputs": [
    {
     "output_type": "execute_result",
     "data": {
      "text/plain": [
       "{'ccp_alpha': 0.0,\n",
       " 'class_weight': None,\n",
       " 'criterion': 'gini',\n",
       " 'max_depth': None,\n",
       " 'max_features': None,\n",
       " 'max_leaf_nodes': None,\n",
       " 'min_impurity_decrease': 0.0,\n",
       " 'min_impurity_split': None,\n",
       " 'min_samples_leaf': 1,\n",
       " 'min_samples_split': 2,\n",
       " 'min_weight_fraction_leaf': 0.0,\n",
       " 'presort': 'deprecated',\n",
       " 'random_state': None,\n",
       " 'splitter': 'best'}"
      ]
     },
     "metadata": {},
     "execution_count": 36
    }
   ],
   "source": [
    "dt.get_params()"
   ]
  },
  {
   "cell_type": "code",
   "execution_count": 37,
   "metadata": {},
   "outputs": [
    {
     "output_type": "execute_result",
     "data": {
      "text/plain": [
       "{'bootstrap': True,\n",
       " 'ccp_alpha': 0.0,\n",
       " 'class_weight': None,\n",
       " 'criterion': 'gini',\n",
       " 'max_depth': None,\n",
       " 'max_features': 'auto',\n",
       " 'max_leaf_nodes': None,\n",
       " 'max_samples': None,\n",
       " 'min_impurity_decrease': 0.0,\n",
       " 'min_impurity_split': None,\n",
       " 'min_samples_leaf': 1,\n",
       " 'min_samples_split': 2,\n",
       " 'min_weight_fraction_leaf': 0.0,\n",
       " 'n_estimators': 100,\n",
       " 'n_jobs': None,\n",
       " 'oob_score': False,\n",
       " 'random_state': None,\n",
       " 'verbose': 0,\n",
       " 'warm_start': False}"
      ]
     },
     "metadata": {},
     "execution_count": 37
    }
   ],
   "source": [
    "rf.get_params()"
   ]
  },
  {
   "cell_type": "code",
   "execution_count": 38,
   "metadata": {},
   "outputs": [
    {
     "output_type": "execute_result",
     "data": {
      "text/plain": [
       "{'algorithm': 'auto',\n",
       " 'leaf_size': 30,\n",
       " 'metric': 'minkowski',\n",
       " 'metric_params': None,\n",
       " 'n_jobs': None,\n",
       " 'n_neighbors': 5,\n",
       " 'p': 2,\n",
       " 'weights': 'uniform'}"
      ]
     },
     "metadata": {},
     "execution_count": 38
    }
   ],
   "source": [
    "kn.get_params()"
   ]
  },
  {
   "cell_type": "code",
   "execution_count": 39,
   "metadata": {},
   "outputs": [
    {
     "output_type": "stream",
     "name": "stdout",
     "text": [
      "최적 파라미터: {'max_depth': 3, 'min_samples_leaf': 1, 'min_samples_split': 3}\n최고 정확도: 0.9553\n"
     ]
    }
   ],
   "source": [
    "params = {\n",
    "    'max_depth': range(2, 10),\n",
    "    'min_samples_leaf': range(1, 5),\n",
    "    'min_samples_split': range(1, 5)\n",
    "}\n",
    "\n",
    "grid_cv = GridSearchCV(dt, param_grid=params, scoring='accuracy', cv=5)\n",
    "grid_cv.fit(X_train, y_train)\n",
    "print('최적 파라미터:', grid_cv.best_params_)\n",
    "print(f'최고 정확도: {grid_cv.best_score_:.4f}')"
   ]
  },
  {
   "cell_type": "code",
   "execution_count": 40,
   "metadata": {},
   "outputs": [
    {
     "output_type": "execute_result",
     "data": {
      "text/plain": [
       "0.9473684210526315"
      ]
     },
     "metadata": {},
     "execution_count": 40
    }
   ],
   "source": [
    "best_dt = grid_cv.best_estimator_\n",
    "pred = best_dt.predict(X_test)\n",
    "accuracy_score(y_test, pred)"
   ]
  },
  {
   "cell_type": "code",
   "execution_count": 41,
   "metadata": {},
   "outputs": [
    {
     "output_type": "execute_result",
     "data": {
      "text/plain": [
       "['../static/model/iris_dt.pkl']"
      ]
     },
     "metadata": {},
     "execution_count": 41
    }
   ],
   "source": [
    "joblib.dump(best_dt, '../static/model/iris_dt.pkl')"
   ]
  },
  {
   "cell_type": "code",
   "execution_count": 43,
   "metadata": {},
   "outputs": [
    {
     "output_type": "stream",
     "name": "stdout",
     "text": [
      "최적 파라미터: {'max_depth': 2, 'min_samples_leaf': 2, 'min_samples_split': 4}\n최고 정확도: 0.9640\n"
     ]
    }
   ],
   "source": [
    "params = {\n",
    "    'max_depth': range(1, 5),\n",
    "    'min_samples_leaf': range(1, 5),\n",
    "    'min_samples_split': range(2, 11)\n",
    "}\n",
    "\n",
    "grid_cv = GridSearchCV(rf, param_grid=params, scoring='accuracy', cv=5)\n",
    "grid_cv.fit(X_train, y_train)\n",
    "print('최적 파라미터:', grid_cv.best_params_)\n",
    "print(f'최고 정확도: {grid_cv.best_score_:.4f}')"
   ]
  },
  {
   "cell_type": "code",
   "execution_count": 44,
   "metadata": {},
   "outputs": [
    {
     "output_type": "execute_result",
     "data": {
      "text/plain": [
       "0.9473684210526315"
      ]
     },
     "metadata": {},
     "execution_count": 44
    }
   ],
   "source": [
    "best_rf = grid_cv.best_estimator_\n",
    "pred = best_rf.predict(X_test)\n",
    "accuracy_score(y_test, pred)"
   ]
  },
  {
   "cell_type": "code",
   "execution_count": 45,
   "metadata": {},
   "outputs": [
    {
     "output_type": "execute_result",
     "data": {
      "text/plain": [
       "['../static/model/iris_rf.pkl']"
      ]
     },
     "metadata": {},
     "execution_count": 45
    }
   ],
   "source": [
    "joblib.dump(best_rf, '../static/model/iris_rf.pkl')"
   ]
  },
  {
   "cell_type": "code",
   "execution_count": 46,
   "metadata": {},
   "outputs": [
    {
     "output_type": "stream",
     "name": "stdout",
     "text": [
      "최적 파라미터: {'n_neighbors': 4}\n최고 정확도: 0.9731\n"
     ]
    }
   ],
   "source": [
    "params = {'n_neighbors': range(3, 10)}\n",
    "\n",
    "grid_cv = GridSearchCV(kn, param_grid=params, scoring='accuracy', cv=5)\n",
    "grid_cv.fit(X_train, y_train)\n",
    "print('최적 파라미터:', grid_cv.best_params_)\n",
    "print(f'최고 정확도: {grid_cv.best_score_:.4f}')"
   ]
  },
  {
   "cell_type": "code",
   "execution_count": 47,
   "metadata": {},
   "outputs": [
    {
     "output_type": "execute_result",
     "data": {
      "text/plain": [
       "0.9736842105263158"
      ]
     },
     "metadata": {},
     "execution_count": 47
    }
   ],
   "source": [
    "best_kn = grid_cv.best_estimator_\n",
    "pred = best_kn.predict(X_test)\n",
    "accuracy_score(y_test, pred)"
   ]
  },
  {
   "cell_type": "code",
   "execution_count": 48,
   "metadata": {},
   "outputs": [
    {
     "output_type": "execute_result",
     "data": {
      "text/plain": [
       "['../static/model/iris_kn.pkl']"
      ]
     },
     "metadata": {},
     "execution_count": 48
    }
   ],
   "source": [
    "joblib.dump(best_kn, '../static/model/iris_kn.pkl')"
   ]
  },
  {
   "source": [
    "## 와인"
   ],
   "cell_type": "markdown",
   "metadata": {}
  },
  {
   "cell_type": "code",
   "execution_count": 49,
   "metadata": {},
   "outputs": [],
   "source": [
    "wine_train = pd.read_csv('../static/data/wine_train.csv')\n",
    "wine_test = pd.read_csv('../static/data/wine_test.csv')"
   ]
  },
  {
   "cell_type": "code",
   "execution_count": 50,
   "metadata": {},
   "outputs": [
    {
     "output_type": "execute_result",
     "data": {
      "text/plain": [
       "((133, 13), (45, 13), (133,), (45,))"
      ]
     },
     "metadata": {},
     "execution_count": 50
    }
   ],
   "source": [
    "X_train = wine_train.drop('target', axis=1)\n",
    "y_train = wine_train.target.values\n",
    "X_test = wine_test.drop('target', axis=1)\n",
    "y_test = wine_test.target.values\n",
    "X_train.shape, X_test.shape, y_train.shape, y_test.shape"
   ]
  },
  {
   "cell_type": "code",
   "execution_count": 51,
   "metadata": {},
   "outputs": [
    {
     "output_type": "stream",
     "name": "stdout",
     "text": [
      "최적 파라미터: {'max_depth': 4, 'min_samples_leaf': 1, 'min_samples_split': 4}\n최고 정확도: 0.9402\n"
     ]
    }
   ],
   "source": [
    "params = {\n",
    "    'max_depth': range(2, 10),\n",
    "    'min_samples_leaf': range(1, 5),\n",
    "    'min_samples_split': range(1, 5)\n",
    "}\n",
    "\n",
    "grid_cv = GridSearchCV(dt, param_grid=params, scoring='accuracy', cv=5)\n",
    "grid_cv.fit(X_train, y_train)\n",
    "print('최적 파라미터:', grid_cv.best_params_)\n",
    "print(f'최고 정확도: {grid_cv.best_score_:.4f}')"
   ]
  },
  {
   "cell_type": "code",
   "execution_count": 52,
   "metadata": {},
   "outputs": [
    {
     "output_type": "execute_result",
     "data": {
      "text/plain": [
       "0.9111111111111111"
      ]
     },
     "metadata": {},
     "execution_count": 52
    }
   ],
   "source": [
    "best_dt = grid_cv.best_estimator_\n",
    "pred = best_dt.predict(X_test)\n",
    "accuracy_score(y_test, pred)"
   ]
  },
  {
   "cell_type": "code",
   "execution_count": 53,
   "metadata": {},
   "outputs": [
    {
     "output_type": "execute_result",
     "data": {
      "text/plain": [
       "['../static/model/wine_dt.pkl']"
      ]
     },
     "metadata": {},
     "execution_count": 53
    }
   ],
   "source": [
    "joblib.dump(best_dt, '../static/model/wine_dt.pkl')"
   ]
  },
  {
   "cell_type": "code",
   "execution_count": 54,
   "metadata": {},
   "outputs": [
    {
     "output_type": "stream",
     "name": "stdout",
     "text": [
      "최적 파라미터: {'max_depth': 2, 'min_samples_leaf': 2, 'min_samples_split': 5}\n최고 정확도: 0.9852\n"
     ]
    }
   ],
   "source": [
    "params = {\n",
    "    'max_depth': range(1, 5),\n",
    "    'min_samples_leaf': range(1, 5),\n",
    "    'min_samples_split': range(2, 11)\n",
    "}\n",
    "\n",
    "grid_cv = GridSearchCV(rf, param_grid=params, scoring='accuracy', cv=5)\n",
    "grid_cv.fit(X_train, y_train)\n",
    "print('최적 파라미터:', grid_cv.best_params_)\n",
    "print(f'최고 정확도: {grid_cv.best_score_:.4f}')"
   ]
  },
  {
   "cell_type": "code",
   "execution_count": 55,
   "metadata": {},
   "outputs": [
    {
     "output_type": "execute_result",
     "data": {
      "text/plain": [
       "0.9555555555555556"
      ]
     },
     "metadata": {},
     "execution_count": 55
    }
   ],
   "source": [
    "best_rf = grid_cv.best_estimator_\n",
    "pred = best_rf.predict(X_test)\n",
    "accuracy_score(y_test, pred)"
   ]
  },
  {
   "cell_type": "code",
   "execution_count": 56,
   "metadata": {},
   "outputs": [
    {
     "output_type": "execute_result",
     "data": {
      "text/plain": [
       "['../static/model/wine_rf.pkl']"
      ]
     },
     "metadata": {},
     "execution_count": 56
    }
   ],
   "source": [
    "joblib.dump(best_rf, '../static/model/wine_rf.pkl')"
   ]
  },
  {
   "cell_type": "code",
   "execution_count": 57,
   "metadata": {},
   "outputs": [
    {
     "output_type": "stream",
     "name": "stdout",
     "text": [
      "최적 파라미터: {'n_neighbors': 8}\n최고 정확도: 0.7063\n"
     ]
    }
   ],
   "source": [
    "params = {'n_neighbors': range(3, 10)}\n",
    "\n",
    "grid_cv = GridSearchCV(kn, param_grid=params, scoring='accuracy', cv=5)\n",
    "grid_cv.fit(X_train, y_train)\n",
    "print('최적 파라미터:', grid_cv.best_params_)\n",
    "print(f'최고 정확도: {grid_cv.best_score_:.4f}')"
   ]
  },
  {
   "cell_type": "code",
   "execution_count": 58,
   "metadata": {},
   "outputs": [
    {
     "output_type": "execute_result",
     "data": {
      "text/plain": [
       "0.7111111111111111"
      ]
     },
     "metadata": {},
     "execution_count": 58
    }
   ],
   "source": [
    "best_kn = grid_cv.best_estimator_\n",
    "pred = best_kn.predict(X_test)\n",
    "accuracy_score(y_test, pred)"
   ]
  },
  {
   "cell_type": "code",
   "execution_count": 59,
   "metadata": {},
   "outputs": [
    {
     "output_type": "execute_result",
     "data": {
      "text/plain": [
       "['../static/model/wine_kn.pkl']"
      ]
     },
     "metadata": {},
     "execution_count": 59
    }
   ],
   "source": [
    "joblib.dump(best_kn, '../static/model/wine_kn.pkl')"
   ]
  },
  {
   "cell_type": "code",
   "execution_count": null,
   "metadata": {},
   "outputs": [],
   "source": []
  }
 ]
}