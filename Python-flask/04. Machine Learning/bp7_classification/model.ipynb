{
 "metadata": {
  "language_info": {
   "codemirror_mode": {
    "name": "ipython",
    "version": 3
   },
   "file_extension": ".py",
   "mimetype": "text/x-python",
   "name": "python",
   "nbconvert_exporter": "python",
   "pygments_lexer": "ipython3",
   "version": "3.8.3-final"
  },
  "orig_nbformat": 2,
  "kernelspec": {
   "name": "python3",
   "display_name": "Python 3",
   "language": "python"
  }
 },
 "nbformat": 4,
 "nbformat_minor": 2,
 "cells": [
  {
   "source": [
    "# 모델 생성"
   ],
   "cell_type": "markdown",
   "metadata": {}
  },
  {
   "cell_type": "code",
   "execution_count": 1,
   "metadata": {},
   "outputs": [],
   "source": [
    "import pandas as pd\n",
    "import joblib\n",
    "import sklearn.datasets as sd\n",
    "from sklearn.model_selection import GridSearchCV\n",
    "from sklearn.metrics import accuracy_score\n",
    "from sklearn.tree import DecisionTreeClassifier\n",
    "from sklearn.linear_model import LogisticRegression\n",
    "from sklearn.svm import SVC\n",
    "from sklearn.preprocessing import StandardScaler, MinMaxScaler"
   ]
  },
  {
   "source": [
    "## 유방암 데이터"
   ],
   "cell_type": "markdown",
   "metadata": {}
  },
  {
   "cell_type": "code",
   "execution_count": 2,
   "metadata": {},
   "outputs": [
    {
     "output_type": "execute_result",
     "data": {
      "text/plain": [
       "   mean radius  mean texture  mean perimeter  mean area  mean smoothness  \\\n",
       "0        15.66         23.20           110.2      773.5          0.11090   \n",
       "1        16.16         21.54           106.2      809.8          0.10080   \n",
       "2        22.27         19.67           152.8     1509.0          0.13260   \n",
       "3        11.76         18.14            75.0      431.1          0.09968   \n",
       "4        17.93         24.48           115.2      998.9          0.08855   \n",
       "\n",
       "   mean compactness  mean concavity  mean concave points  mean symmetry  \\\n",
       "0           0.31140         0.31760              0.13770         0.2495   \n",
       "1           0.12840         0.10430              0.05613         0.2160   \n",
       "2           0.27680         0.42640              0.18230         0.2556   \n",
       "3           0.05914         0.02685              0.03515         0.1619   \n",
       "4           0.07027         0.05699              0.04744         0.1538   \n",
       "\n",
       "   mean fractal dimension  ...  worst texture  worst perimeter  worst area  \\\n",
       "0                 0.08104  ...          31.64            143.7      1226.0   \n",
       "1                 0.05891  ...          31.68            129.7      1175.0   \n",
       "2                 0.07039  ...          28.01            206.8      2360.0   \n",
       "3                 0.06287  ...          23.39             85.1       553.6   \n",
       "4                 0.05510  ...          34.69            135.1      1320.0   \n",
       "\n",
       "   worst smoothness  worst compactness  worst concavity  worst concave points  \\\n",
       "0            0.1504            0.51720           0.6181                0.2462   \n",
       "1            0.1395            0.30550           0.2992                0.1312   \n",
       "2            0.1701            0.69970           0.9608                0.2910   \n",
       "3            0.1137            0.07974           0.0612                0.0716   \n",
       "4            0.1315            0.18060           0.2080                0.1136   \n",
       "\n",
       "   worst symmetry  worst fractal dimension  target  \n",
       "0          0.3277                  0.10190       0  \n",
       "1          0.3480                  0.07619       0  \n",
       "2          0.4055                  0.09789       0  \n",
       "3          0.1978                  0.06915       0  \n",
       "4          0.2504                  0.07948       0  \n",
       "\n",
       "[5 rows x 31 columns]"
      ],
      "text/html": "<div>\n<style scoped>\n    .dataframe tbody tr th:only-of-type {\n        vertical-align: middle;\n    }\n\n    .dataframe tbody tr th {\n        vertical-align: top;\n    }\n\n    .dataframe thead th {\n        text-align: right;\n    }\n</style>\n<table border=\"1\" class=\"dataframe\">\n  <thead>\n    <tr style=\"text-align: right;\">\n      <th></th>\n      <th>mean radius</th>\n      <th>mean texture</th>\n      <th>mean perimeter</th>\n      <th>mean area</th>\n      <th>mean smoothness</th>\n      <th>mean compactness</th>\n      <th>mean concavity</th>\n      <th>mean concave points</th>\n      <th>mean symmetry</th>\n      <th>mean fractal dimension</th>\n      <th>...</th>\n      <th>worst texture</th>\n      <th>worst perimeter</th>\n      <th>worst area</th>\n      <th>worst smoothness</th>\n      <th>worst compactness</th>\n      <th>worst concavity</th>\n      <th>worst concave points</th>\n      <th>worst symmetry</th>\n      <th>worst fractal dimension</th>\n      <th>target</th>\n    </tr>\n  </thead>\n  <tbody>\n    <tr>\n      <th>0</th>\n      <td>15.66</td>\n      <td>23.20</td>\n      <td>110.2</td>\n      <td>773.5</td>\n      <td>0.11090</td>\n      <td>0.31140</td>\n      <td>0.31760</td>\n      <td>0.13770</td>\n      <td>0.2495</td>\n      <td>0.08104</td>\n      <td>...</td>\n      <td>31.64</td>\n      <td>143.7</td>\n      <td>1226.0</td>\n      <td>0.1504</td>\n      <td>0.51720</td>\n      <td>0.6181</td>\n      <td>0.2462</td>\n      <td>0.3277</td>\n      <td>0.10190</td>\n      <td>0</td>\n    </tr>\n    <tr>\n      <th>1</th>\n      <td>16.16</td>\n      <td>21.54</td>\n      <td>106.2</td>\n      <td>809.8</td>\n      <td>0.10080</td>\n      <td>0.12840</td>\n      <td>0.10430</td>\n      <td>0.05613</td>\n      <td>0.2160</td>\n      <td>0.05891</td>\n      <td>...</td>\n      <td>31.68</td>\n      <td>129.7</td>\n      <td>1175.0</td>\n      <td>0.1395</td>\n      <td>0.30550</td>\n      <td>0.2992</td>\n      <td>0.1312</td>\n      <td>0.3480</td>\n      <td>0.07619</td>\n      <td>0</td>\n    </tr>\n    <tr>\n      <th>2</th>\n      <td>22.27</td>\n      <td>19.67</td>\n      <td>152.8</td>\n      <td>1509.0</td>\n      <td>0.13260</td>\n      <td>0.27680</td>\n      <td>0.42640</td>\n      <td>0.18230</td>\n      <td>0.2556</td>\n      <td>0.07039</td>\n      <td>...</td>\n      <td>28.01</td>\n      <td>206.8</td>\n      <td>2360.0</td>\n      <td>0.1701</td>\n      <td>0.69970</td>\n      <td>0.9608</td>\n      <td>0.2910</td>\n      <td>0.4055</td>\n      <td>0.09789</td>\n      <td>0</td>\n    </tr>\n    <tr>\n      <th>3</th>\n      <td>11.76</td>\n      <td>18.14</td>\n      <td>75.0</td>\n      <td>431.1</td>\n      <td>0.09968</td>\n      <td>0.05914</td>\n      <td>0.02685</td>\n      <td>0.03515</td>\n      <td>0.1619</td>\n      <td>0.06287</td>\n      <td>...</td>\n      <td>23.39</td>\n      <td>85.1</td>\n      <td>553.6</td>\n      <td>0.1137</td>\n      <td>0.07974</td>\n      <td>0.0612</td>\n      <td>0.0716</td>\n      <td>0.1978</td>\n      <td>0.06915</td>\n      <td>0</td>\n    </tr>\n    <tr>\n      <th>4</th>\n      <td>17.93</td>\n      <td>24.48</td>\n      <td>115.2</td>\n      <td>998.9</td>\n      <td>0.08855</td>\n      <td>0.07027</td>\n      <td>0.05699</td>\n      <td>0.04744</td>\n      <td>0.1538</td>\n      <td>0.05510</td>\n      <td>...</td>\n      <td>34.69</td>\n      <td>135.1</td>\n      <td>1320.0</td>\n      <td>0.1315</td>\n      <td>0.18060</td>\n      <td>0.2080</td>\n      <td>0.1136</td>\n      <td>0.2504</td>\n      <td>0.07948</td>\n      <td>0</td>\n    </tr>\n  </tbody>\n</table>\n<p>5 rows × 31 columns</p>\n</div>"
     },
     "metadata": {},
     "execution_count": 2
    }
   ],
   "source": [
    "df_train = pd.read_csv('../static/data/cancer_train.csv')\n",
    "df_train.head()"
   ]
  },
  {
   "source": [
    "### 결정 트리"
   ],
   "cell_type": "markdown",
   "metadata": {}
  },
  {
   "cell_type": "code",
   "execution_count": 3,
   "metadata": {},
   "outputs": [
    {
     "output_type": "execute_result",
     "data": {
      "text/plain": [
       "((426, 30), (426,))"
      ]
     },
     "metadata": {},
     "execution_count": 3
    }
   ],
   "source": [
    "X_train = df_train.drop(columns='target', axis=1)\n",
    "y_train = df_train.target.values\n",
    "X_train.shape, y_train.shape"
   ]
  },
  {
   "cell_type": "code",
   "execution_count": 4,
   "metadata": {},
   "outputs": [],
   "source": [
    "df_test = pd.read_csv('../static/data/cancer_test.csv')\n",
    "X_test = df_test.drop(columns='target', axis=1)\n",
    "y_test = df_test.target.values"
   ]
  },
  {
   "cell_type": "code",
   "execution_count": 5,
   "metadata": {},
   "outputs": [
    {
     "output_type": "execute_result",
     "data": {
      "text/plain": [
       "{'ccp_alpha': 0.0,\n",
       " 'class_weight': None,\n",
       " 'criterion': 'gini',\n",
       " 'max_depth': None,\n",
       " 'max_features': None,\n",
       " 'max_leaf_nodes': None,\n",
       " 'min_impurity_decrease': 0.0,\n",
       " 'min_impurity_split': None,\n",
       " 'min_samples_leaf': 1,\n",
       " 'min_samples_split': 2,\n",
       " 'min_weight_fraction_leaf': 0.0,\n",
       " 'presort': 'deprecated',\n",
       " 'random_state': None,\n",
       " 'splitter': 'best'}"
      ]
     },
     "metadata": {},
     "execution_count": 5
    }
   ],
   "source": [
    "dtc = DecisionTreeClassifier()\n",
    "dtc.get_params()"
   ]
  },
  {
   "cell_type": "code",
   "execution_count": 6,
   "metadata": {},
   "outputs": [],
   "source": [
    "params = {\n",
    "    'max_depth': [2, 3, 4, 5, 7],\n",
    "    'min_samples_split': [2, 3, 4, 5]\n",
    "}"
   ]
  },
  {
   "cell_type": "code",
   "execution_count": 7,
   "metadata": {},
   "outputs": [
    {
     "output_type": "stream",
     "name": "stdout",
     "text": [
      "최고 평균 정확도: 0.9272\n최적 파라미터: {'max_depth': 3, 'min_samples_split': 4}\n"
     ]
    }
   ],
   "source": [
    "grid_cv = GridSearchCV(dtc, param_grid=params, scoring='accuracy', cv=5)\n",
    "grid_cv.fit(X_train, y_train)\n",
    "print(f'최고 평균 정확도: {grid_cv.best_score_:.4f}')\n",
    "print('최적 파라미터:', grid_cv.best_params_)"
   ]
  },
  {
   "cell_type": "code",
   "execution_count": 8,
   "metadata": {},
   "outputs": [
    {
     "output_type": "execute_result",
     "data": {
      "text/plain": [
       "0.9440559440559441"
      ]
     },
     "metadata": {},
     "execution_count": 8
    }
   ],
   "source": [
    "best_dt = grid_cv.best_estimator_\n",
    "pred = best_dt.predict(X_test)\n",
    "accuracy_score(y_test, pred)"
   ]
  },
  {
   "cell_type": "code",
   "execution_count": 9,
   "metadata": {},
   "outputs": [
    {
     "output_type": "execute_result",
     "data": {
      "text/plain": [
       "['../static/model/cancer_dt.pkl']"
      ]
     },
     "metadata": {},
     "execution_count": 9
    }
   ],
   "source": [
    "joblib.dump(best_dt, '../static/model/cancer_dt.pkl')"
   ]
  },
  {
   "source": [
    "### 정규화"
   ],
   "cell_type": "markdown",
   "metadata": {}
  },
  {
   "cell_type": "code",
   "execution_count": 10,
   "metadata": {},
   "outputs": [],
   "source": [
    "scaler = MinMaxScaler()\n",
    "X_train_sc = scaler.fit_transform(df_train.drop(columns='target', axis=1))\n",
    "X_test_sc = scaler.fit_transform(df_test.drop(columns='target', axis=1))"
   ]
  },
  {
   "source": [
    "### SVM"
   ],
   "cell_type": "markdown",
   "metadata": {}
  },
  {
   "cell_type": "code",
   "execution_count": 11,
   "metadata": {},
   "outputs": [
    {
     "output_type": "execute_result",
     "data": {
      "text/plain": [
       "{'C': 1.0,\n",
       " 'break_ties': False,\n",
       " 'cache_size': 200,\n",
       " 'class_weight': None,\n",
       " 'coef0': 0.0,\n",
       " 'decision_function_shape': 'ovr',\n",
       " 'degree': 3,\n",
       " 'gamma': 'scale',\n",
       " 'kernel': 'rbf',\n",
       " 'max_iter': -1,\n",
       " 'probability': False,\n",
       " 'random_state': None,\n",
       " 'shrinking': True,\n",
       " 'tol': 0.001,\n",
       " 'verbose': False}"
      ]
     },
     "metadata": {},
     "execution_count": 11
    }
   ],
   "source": [
    "svc = SVC()\n",
    "svc.get_params()"
   ]
  },
  {
   "cell_type": "code",
   "execution_count": 24,
   "metadata": {},
   "outputs": [],
   "source": [
    "params = {'C': [6, 7, 8]}"
   ]
  },
  {
   "cell_type": "code",
   "execution_count": 25,
   "metadata": {},
   "outputs": [
    {
     "output_type": "stream",
     "name": "stdout",
     "text": [
      "최고 평균 정확도: 0.9766\n최적 파라미터: {'C': 8}\n"
     ]
    }
   ],
   "source": [
    "grid_cv = GridSearchCV(svc, param_grid=params, scoring='accuracy', cv=5)\n",
    "grid_cv.fit(X_train_sc, y_train)\n",
    "print(f'최고 평균 정확도: {grid_cv.best_score_:.4f}')\n",
    "print('최적 파라미터:', grid_cv.best_params_)"
   ]
  },
  {
   "cell_type": "code",
   "execution_count": 26,
   "metadata": {},
   "outputs": [
    {
     "output_type": "execute_result",
     "data": {
      "text/plain": [
       "0.8881118881118881"
      ]
     },
     "metadata": {},
     "execution_count": 26
    }
   ],
   "source": [
    "best_svc = grid_cv.best_estimator_\n",
    "pred = best_svc.predict(X_test_sc)\n",
    "accuracy_score(y_test, pred)"
   ]
  },
  {
   "cell_type": "code",
   "execution_count": 27,
   "metadata": {},
   "outputs": [
    {
     "output_type": "execute_result",
     "data": {
      "text/plain": [
       "['../static/model/cancer_sv.pkl']"
      ]
     },
     "metadata": {},
     "execution_count": 27
    }
   ],
   "source": [
    "joblib.dump(best_svc, '../static/model/cancer_sv.pkl')"
   ]
  },
  {
   "source": [
    "### Logistic Regression"
   ],
   "cell_type": "markdown",
   "metadata": {}
  },
  {
   "cell_type": "code",
   "execution_count": 28,
   "metadata": {},
   "outputs": [
    {
     "output_type": "execute_result",
     "data": {
      "text/plain": [
       "{'C': 1.0,\n",
       " 'class_weight': None,\n",
       " 'dual': False,\n",
       " 'fit_intercept': True,\n",
       " 'intercept_scaling': 1,\n",
       " 'l1_ratio': None,\n",
       " 'max_iter': 100,\n",
       " 'multi_class': 'auto',\n",
       " 'n_jobs': None,\n",
       " 'penalty': 'l2',\n",
       " 'random_state': None,\n",
       " 'solver': 'lbfgs',\n",
       " 'tol': 0.0001,\n",
       " 'verbose': 0,\n",
       " 'warm_start': False}"
      ]
     },
     "metadata": {},
     "execution_count": 28
    }
   ],
   "source": [
    "lr = LogisticRegression()\n",
    "lr.get_params()"
   ]
  },
  {
   "cell_type": "code",
   "execution_count": 33,
   "metadata": {},
   "outputs": [],
   "source": [
    "params = {'C': [5, 6, 7, 8]}"
   ]
  },
  {
   "cell_type": "code",
   "execution_count": 34,
   "metadata": {},
   "outputs": [
    {
     "output_type": "stream",
     "name": "stdout",
     "text": [
      "최고 평균 정확도: 0.9718\n최적 파라미터: {'C': 6}\n"
     ]
    }
   ],
   "source": [
    "grid_cv = GridSearchCV(lr, param_grid=params, scoring='accuracy', cv=5)\n",
    "grid_cv.fit(X_train_sc, y_train)\n",
    "print(f'최고 평균 정확도: {grid_cv.best_score_:.4f}')\n",
    "print('최적 파라미터:', grid_cv.best_params_)"
   ]
  },
  {
   "cell_type": "code",
   "execution_count": 35,
   "metadata": {},
   "outputs": [
    {
     "output_type": "execute_result",
     "data": {
      "text/plain": [
       "0.9300699300699301"
      ]
     },
     "metadata": {},
     "execution_count": 35
    }
   ],
   "source": [
    "best_lr = grid_cv.best_estimator_\n",
    "pred = best_lr.predict(X_test_sc)\n",
    "accuracy_score(y_test, pred)"
   ]
  },
  {
   "cell_type": "code",
   "execution_count": 36,
   "metadata": {},
   "outputs": [
    {
     "output_type": "execute_result",
     "data": {
      "text/plain": [
       "['../static/model/cancer_lr.pkl']"
      ]
     },
     "metadata": {},
     "execution_count": 36
    }
   ],
   "source": [
    "joblib.dump(best_lr, '../static/model/cancer_lr.pkl')"
   ]
  },
  {
   "cell_type": "code",
   "execution_count": null,
   "metadata": {},
   "outputs": [],
   "source": []
  }
 ]
}