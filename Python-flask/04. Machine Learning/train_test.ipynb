{
 "metadata": {
  "language_info": {
   "codemirror_mode": {
    "name": "ipython",
    "version": 3
   },
   "file_extension": ".py",
   "mimetype": "text/x-python",
   "name": "python",
   "nbconvert_exporter": "python",
   "pygments_lexer": "ipython3",
   "version": "3.8.3-final"
  },
  "orig_nbformat": 2,
  "kernelspec": {
   "name": "python3",
   "display_name": "Python 3",
   "language": "python"
  }
 },
 "nbformat": 4,
 "nbformat_minor": 2,
 "cells": [
  {
   "source": [
    "# Train/Test 데이터 세트 만들기"
   ],
   "cell_type": "markdown",
   "metadata": {}
  },
  {
   "cell_type": "code",
   "execution_count": 1,
   "metadata": {},
   "outputs": [],
   "source": [
    "import pandas as pd\n",
    "import sklearn.datasets as sd\n",
    "from sklearn.model_selection import train_test_split"
   ]
  },
  {
   "source": [
    "### 아이리스 데이터 세트"
   ],
   "cell_type": "markdown",
   "metadata": {}
  },
  {
   "cell_type": "code",
   "execution_count": 2,
   "metadata": {},
   "outputs": [],
   "source": [
    "iris = sd.load_iris()\n",
    "df_i = pd.DataFrame(iris.data, columns=iris.feature_names)\n",
    "df_i['target'] = iris.target\n",
    "X_train, X_test, y_train, y_test = train_test_split(df_i, iris.target, test_size=0.25, random_state=2021)"
   ]
  },
  {
   "cell_type": "code",
   "execution_count": 3,
   "metadata": {},
   "outputs": [],
   "source": [
    "X_train.to_csv('./static/data/iris_train.csv', index=False)\n",
    "X_test.to_csv('./static/data/iris_test.csv', index=False)"
   ]
  },
  {
   "source": [
    "### 와인 데이터 세트"
   ],
   "cell_type": "markdown",
   "metadata": {}
  },
  {
   "cell_type": "code",
   "execution_count": 4,
   "metadata": {},
   "outputs": [],
   "source": [
    "wine = sd.load_wine()\n",
    "df_w = pd.DataFrame(wine.data, columns=wine.feature_names)\n",
    "df_w['target'] = wine.target\n",
    "X_train, X_test, y_train, y_test = train_test_split(df_w, wine.target, test_size=0.25, random_state=2021)"
   ]
  },
  {
   "cell_type": "code",
   "execution_count": 5,
   "metadata": {},
   "outputs": [],
   "source": [
    "X_train.to_csv('./static/data/wine_train.csv', index=False)\n",
    "X_test.to_csv('./static/data/wine_test.csv', index=False)"
   ]
  },
  {
   "source": [
    "### MNIST Digit 데이터 세트"
   ],
   "cell_type": "markdown",
   "metadata": {}
  },
  {
   "cell_type": "code",
   "execution_count": 6,
   "metadata": {},
   "outputs": [],
   "source": [
    "digits = sd.load_digits()\n",
    "df = pd.DataFrame(digits.data, columns=digits.feature_names)\n",
    "df['target'] = digits.target\n",
    "X_train, X_test, y_train, y_test = train_test_split(df, digits.target, test_size=0.25, random_state=2021)"
   ]
  },
  {
   "cell_type": "code",
   "execution_count": 7,
   "metadata": {},
   "outputs": [],
   "source": [
    "X_train.to_csv('./static/data/digits_train.csv', index=False)\n",
    "X_test.reset_index(inplace=True)\n",
    "X_test.to_csv('./static/data/digits_test.csv', index=False)"
   ]
  },
  {
   "source": [
    "### 유방암 데이터 세트"
   ],
   "cell_type": "markdown",
   "metadata": {}
  },
  {
   "cell_type": "code",
   "execution_count": 8,
   "metadata": {},
   "outputs": [],
   "source": [
    "cancer = sd.load_breast_cancer()\n",
    "df = pd.DataFrame(cancer.data, columns=cancer.feature_names)\n",
    "df['target'] = cancer.target\n",
    "X_train, X_test, y_train, y_test = train_test_split(df, cancer.target, test_size=0.25, random_state=2021)"
   ]
  },
  {
   "cell_type": "code",
   "execution_count": 9,
   "metadata": {},
   "outputs": [],
   "source": [
    "X_train.to_csv('./static/data/cancer_train.csv', index=False)\n",
    "X_test.to_csv('./static/data/cancer_test.csv', index=False)"
   ]
  },
  {
   "source": [
    "### 당뇨병 데이터 세트"
   ],
   "cell_type": "markdown",
   "metadata": {}
  },
  {
   "cell_type": "code",
   "execution_count": 10,
   "metadata": {},
   "outputs": [],
   "source": [
    "diabetes = sd.load_diabetes()\n",
    "df = pd.DataFrame(diabetes.data, columns=diabetes.feature_names)\n",
    "df['target'] = diabetes.target\n",
    "X_train, X_test, y_train, y_test = train_test_split(df, diabetes.target, test_size=0.25, random_state=2021)"
   ]
  },
  {
   "cell_type": "code",
   "execution_count": 11,
   "metadata": {},
   "outputs": [],
   "source": [
    "X_train.to_csv('./static/data/diabetes_train.csv', index=False)\n",
    "X_test.to_csv('./static/data/diabetes_test.csv', index=False)"
   ]
  },
  {
   "source": [
    "### Boston 데이터 세트"
   ],
   "cell_type": "markdown",
   "metadata": {}
  },
  {
   "cell_type": "code",
   "execution_count": 12,
   "metadata": {},
   "outputs": [],
   "source": [
    "boston = sd.load_boston()\n",
    "df = pd.DataFrame(boston.data, columns=boston.feature_names)\n",
    "df['target'] = boston.target\n",
    "X_train, X_test, y_train, y_test = train_test_split(df, boston.target, test_size=0.25, random_state=2021)"
   ]
  },
  {
   "cell_type": "code",
   "execution_count": 13,
   "metadata": {},
   "outputs": [],
   "source": [
    "X_train.to_csv('./static/data/boston_train.csv', index=False)\n",
    "X_test.to_csv('./static/data/boston_test.csv', index=False)"
   ]
  },
  {
   "cell_type": "code",
   "execution_count": null,
   "metadata": {},
   "outputs": [],
   "source": []
  }
 ]
}