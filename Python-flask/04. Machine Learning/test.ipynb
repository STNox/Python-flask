{
 "metadata": {
  "language_info": {
   "codemirror_mode": {
    "name": "ipython",
    "version": 3
   },
   "file_extension": ".py",
   "mimetype": "text/x-python",
   "name": "python",
   "nbconvert_exporter": "python",
   "pygments_lexer": "ipython3",
   "version": "3.8.3-final"
  },
  "orig_nbformat": 2,
  "kernelspec": {
   "name": "python3",
   "display_name": "Python 3",
   "language": "python"
  }
 },
 "nbformat": 4,
 "nbformat_minor": 2,
 "cells": [
  {
   "cell_type": "code",
   "execution_count": 4,
   "metadata": {},
   "outputs": [],
   "source": [
    "from sklearn.datasets import load_iris\n",
    "iris = load_iris()\n",
    "filename = iris.filename"
   ]
  },
  {
   "cell_type": "code",
   "execution_count": 5,
   "metadata": {},
   "outputs": [
    {
     "output_type": "execute_result",
     "data": {
      "text/plain": [
       "     150    4  setosa  versicolor  virginica\n",
       "0    5.1  3.5     1.4         0.2          0\n",
       "1    4.9  3.0     1.4         0.2          0\n",
       "2    4.7  3.2     1.3         0.2          0\n",
       "3    4.6  3.1     1.5         0.2          0\n",
       "4    5.0  3.6     1.4         0.2          0\n",
       "..   ...  ...     ...         ...        ...\n",
       "145  6.7  3.0     5.2         2.3          2\n",
       "146  6.3  2.5     5.0         1.9          2\n",
       "147  6.5  3.0     5.2         2.0          2\n",
       "148  6.2  3.4     5.4         2.3          2\n",
       "149  5.9  3.0     5.1         1.8          2\n",
       "\n",
       "[150 rows x 5 columns]"
      ],
      "text/html": "<div>\n<style scoped>\n    .dataframe tbody tr th:only-of-type {\n        vertical-align: middle;\n    }\n\n    .dataframe tbody tr th {\n        vertical-align: top;\n    }\n\n    .dataframe thead th {\n        text-align: right;\n    }\n</style>\n<table border=\"1\" class=\"dataframe\">\n  <thead>\n    <tr style=\"text-align: right;\">\n      <th></th>\n      <th>150</th>\n      <th>4</th>\n      <th>setosa</th>\n      <th>versicolor</th>\n      <th>virginica</th>\n    </tr>\n  </thead>\n  <tbody>\n    <tr>\n      <th>0</th>\n      <td>5.1</td>\n      <td>3.5</td>\n      <td>1.4</td>\n      <td>0.2</td>\n      <td>0</td>\n    </tr>\n    <tr>\n      <th>1</th>\n      <td>4.9</td>\n      <td>3.0</td>\n      <td>1.4</td>\n      <td>0.2</td>\n      <td>0</td>\n    </tr>\n    <tr>\n      <th>2</th>\n      <td>4.7</td>\n      <td>3.2</td>\n      <td>1.3</td>\n      <td>0.2</td>\n      <td>0</td>\n    </tr>\n    <tr>\n      <th>3</th>\n      <td>4.6</td>\n      <td>3.1</td>\n      <td>1.5</td>\n      <td>0.2</td>\n      <td>0</td>\n    </tr>\n    <tr>\n      <th>4</th>\n      <td>5.0</td>\n      <td>3.6</td>\n      <td>1.4</td>\n      <td>0.2</td>\n      <td>0</td>\n    </tr>\n    <tr>\n      <th>...</th>\n      <td>...</td>\n      <td>...</td>\n      <td>...</td>\n      <td>...</td>\n      <td>...</td>\n    </tr>\n    <tr>\n      <th>145</th>\n      <td>6.7</td>\n      <td>3.0</td>\n      <td>5.2</td>\n      <td>2.3</td>\n      <td>2</td>\n    </tr>\n    <tr>\n      <th>146</th>\n      <td>6.3</td>\n      <td>2.5</td>\n      <td>5.0</td>\n      <td>1.9</td>\n      <td>2</td>\n    </tr>\n    <tr>\n      <th>147</th>\n      <td>6.5</td>\n      <td>3.0</td>\n      <td>5.2</td>\n      <td>2.0</td>\n      <td>2</td>\n    </tr>\n    <tr>\n      <th>148</th>\n      <td>6.2</td>\n      <td>3.4</td>\n      <td>5.4</td>\n      <td>2.3</td>\n      <td>2</td>\n    </tr>\n    <tr>\n      <th>149</th>\n      <td>5.9</td>\n      <td>3.0</td>\n      <td>5.1</td>\n      <td>1.8</td>\n      <td>2</td>\n    </tr>\n  </tbody>\n</table>\n<p>150 rows × 5 columns</p>\n</div>"
     },
     "metadata": {},
     "execution_count": 5
    }
   ],
   "source": [
    "import pandas as pd\n",
    "df = pd.read_csv(filename)\n",
    "df"
   ]
  },
  {
   "cell_type": "code",
   "execution_count": 6,
   "metadata": {},
   "outputs": [
    {
     "output_type": "execute_result",
     "data": {
      "text/plain": [
       "     sepal length (cm)  sepal width (cm)  petal length (cm)  petal width (cm)\n",
       "0                  5.1               3.5                1.4               0.2\n",
       "1                  4.9               3.0                1.4               0.2\n",
       "2                  4.7               3.2                1.3               0.2\n",
       "3                  4.6               3.1                1.5               0.2\n",
       "4                  5.0               3.6                1.4               0.2\n",
       "..                 ...               ...                ...               ...\n",
       "145                6.7               3.0                5.2               2.3\n",
       "146                6.3               2.5                5.0               1.9\n",
       "147                6.5               3.0                5.2               2.0\n",
       "148                6.2               3.4                5.4               2.3\n",
       "149                5.9               3.0                5.1               1.8\n",
       "\n",
       "[150 rows x 4 columns]"
      ],
      "text/html": "<div>\n<style scoped>\n    .dataframe tbody tr th:only-of-type {\n        vertical-align: middle;\n    }\n\n    .dataframe tbody tr th {\n        vertical-align: top;\n    }\n\n    .dataframe thead th {\n        text-align: right;\n    }\n</style>\n<table border=\"1\" class=\"dataframe\">\n  <thead>\n    <tr style=\"text-align: right;\">\n      <th></th>\n      <th>sepal length (cm)</th>\n      <th>sepal width (cm)</th>\n      <th>petal length (cm)</th>\n      <th>petal width (cm)</th>\n    </tr>\n  </thead>\n  <tbody>\n    <tr>\n      <th>0</th>\n      <td>5.1</td>\n      <td>3.5</td>\n      <td>1.4</td>\n      <td>0.2</td>\n    </tr>\n    <tr>\n      <th>1</th>\n      <td>4.9</td>\n      <td>3.0</td>\n      <td>1.4</td>\n      <td>0.2</td>\n    </tr>\n    <tr>\n      <th>2</th>\n      <td>4.7</td>\n      <td>3.2</td>\n      <td>1.3</td>\n      <td>0.2</td>\n    </tr>\n    <tr>\n      <th>3</th>\n      <td>4.6</td>\n      <td>3.1</td>\n      <td>1.5</td>\n      <td>0.2</td>\n    </tr>\n    <tr>\n      <th>4</th>\n      <td>5.0</td>\n      <td>3.6</td>\n      <td>1.4</td>\n      <td>0.2</td>\n    </tr>\n    <tr>\n      <th>...</th>\n      <td>...</td>\n      <td>...</td>\n      <td>...</td>\n      <td>...</td>\n    </tr>\n    <tr>\n      <th>145</th>\n      <td>6.7</td>\n      <td>3.0</td>\n      <td>5.2</td>\n      <td>2.3</td>\n    </tr>\n    <tr>\n      <th>146</th>\n      <td>6.3</td>\n      <td>2.5</td>\n      <td>5.0</td>\n      <td>1.9</td>\n    </tr>\n    <tr>\n      <th>147</th>\n      <td>6.5</td>\n      <td>3.0</td>\n      <td>5.2</td>\n      <td>2.0</td>\n    </tr>\n    <tr>\n      <th>148</th>\n      <td>6.2</td>\n      <td>3.4</td>\n      <td>5.4</td>\n      <td>2.3</td>\n    </tr>\n    <tr>\n      <th>149</th>\n      <td>5.9</td>\n      <td>3.0</td>\n      <td>5.1</td>\n      <td>1.8</td>\n    </tr>\n  </tbody>\n</table>\n<p>150 rows × 4 columns</p>\n</div>"
     },
     "metadata": {},
     "execution_count": 6
    }
   ],
   "source": [
    "df2 = pd.DataFrame(iris.data, columns=iris.feature_names)\n",
    "df2"
   ]
  },
  {
   "cell_type": "code",
   "execution_count": 9,
   "metadata": {},
   "outputs": [
    {
     "output_type": "error",
     "ename": "AttributeError",
     "evalue": "'DataFrame' object has no attribute 'data'",
     "traceback": [
      "\u001b[1;31m---------------------------------------------------------------------------\u001b[0m",
      "\u001b[1;31mAttributeError\u001b[0m                            Traceback (most recent call last)",
      "\u001b[1;32m<ipython-input-9-7218c6e9dcff>\u001b[0m in \u001b[0;36m<module>\u001b[1;34m\u001b[0m\n\u001b[1;32m----> 1\u001b[1;33m \u001b[0mdf\u001b[0m\u001b[1;33m.\u001b[0m\u001b[0mdata\u001b[0m\u001b[1;33m\u001b[0m\u001b[1;33m\u001b[0m\u001b[0m\n\u001b[0m",
      "\u001b[1;32m~\\anaconda3\\lib\\site-packages\\pandas\\core\\generic.py\u001b[0m in \u001b[0;36m__getattr__\u001b[1;34m(self, name)\u001b[0m\n\u001b[0;32m   5272\u001b[0m             \u001b[1;32mif\u001b[0m \u001b[0mself\u001b[0m\u001b[1;33m.\u001b[0m\u001b[0m_info_axis\u001b[0m\u001b[1;33m.\u001b[0m\u001b[0m_can_hold_identifiers_and_holds_name\u001b[0m\u001b[1;33m(\u001b[0m\u001b[0mname\u001b[0m\u001b[1;33m)\u001b[0m\u001b[1;33m:\u001b[0m\u001b[1;33m\u001b[0m\u001b[1;33m\u001b[0m\u001b[0m\n\u001b[0;32m   5273\u001b[0m                 \u001b[1;32mreturn\u001b[0m \u001b[0mself\u001b[0m\u001b[1;33m[\u001b[0m\u001b[0mname\u001b[0m\u001b[1;33m]\u001b[0m\u001b[1;33m\u001b[0m\u001b[1;33m\u001b[0m\u001b[0m\n\u001b[1;32m-> 5274\u001b[1;33m             \u001b[1;32mreturn\u001b[0m \u001b[0mobject\u001b[0m\u001b[1;33m.\u001b[0m\u001b[0m__getattribute__\u001b[0m\u001b[1;33m(\u001b[0m\u001b[0mself\u001b[0m\u001b[1;33m,\u001b[0m \u001b[0mname\u001b[0m\u001b[1;33m)\u001b[0m\u001b[1;33m\u001b[0m\u001b[1;33m\u001b[0m\u001b[0m\n\u001b[0m\u001b[0;32m   5275\u001b[0m \u001b[1;33m\u001b[0m\u001b[0m\n\u001b[0;32m   5276\u001b[0m     \u001b[1;32mdef\u001b[0m \u001b[0m__setattr__\u001b[0m\u001b[1;33m(\u001b[0m\u001b[0mself\u001b[0m\u001b[1;33m,\u001b[0m \u001b[0mname\u001b[0m\u001b[1;33m:\u001b[0m \u001b[0mstr\u001b[0m\u001b[1;33m,\u001b[0m \u001b[0mvalue\u001b[0m\u001b[1;33m)\u001b[0m \u001b[1;33m->\u001b[0m \u001b[1;32mNone\u001b[0m\u001b[1;33m:\u001b[0m\u001b[1;33m\u001b[0m\u001b[1;33m\u001b[0m\u001b[0m\n",
      "\u001b[1;31mAttributeError\u001b[0m: 'DataFrame' object has no attribute 'data'"
     ]
    }
   ],
   "source": [
    "df.data"
   ]
  },
  {
   "cell_type": "code",
   "execution_count": 10,
   "metadata": {},
   "outputs": [
    {
     "output_type": "execute_result",
     "data": {
      "text/plain": [
       "'C:\\\\Users\\\\caush\\\\anaconda3\\\\lib\\\\site-packages\\\\sklearn\\\\datasets\\\\data\\\\iris.csv'"
      ]
     },
     "metadata": {},
     "execution_count": 10
    }
   ],
   "source": [
    "iris.filename"
   ]
  },
  {
   "cell_type": "code",
   "execution_count": 11,
   "metadata": {},
   "outputs": [
    {
     "output_type": "execute_result",
     "data": {
      "text/plain": [
       "     mean radius  mean texture  mean perimeter  mean area  mean smoothness  \\\n",
       "0         15.660         23.20          110.20      773.5          0.11090   \n",
       "1         16.160         21.54          106.20      809.8          0.10080   \n",
       "2         22.270         19.67          152.80     1509.0          0.13260   \n",
       "3         11.760         18.14           75.00      431.1          0.09968   \n",
       "4         17.930         24.48          115.20      998.9          0.08855   \n",
       "..           ...           ...             ...        ...              ...   \n",
       "421       13.170         21.81           85.42      531.5          0.09714   \n",
       "422       15.100         16.39           99.58      674.5          0.11500   \n",
       "423       14.710         21.59           95.55      656.9          0.11370   \n",
       "424        9.606         16.84           61.64      280.5          0.08481   \n",
       "425        8.950         15.76           58.74      245.2          0.09462   \n",
       "\n",
       "     mean compactness  mean concavity  mean concave points  mean symmetry  \\\n",
       "0             0.31140         0.31760              0.13770         0.2495   \n",
       "1             0.12840         0.10430              0.05613         0.2160   \n",
       "2             0.27680         0.42640              0.18230         0.2556   \n",
       "3             0.05914         0.02685              0.03515         0.1619   \n",
       "4             0.07027         0.05699              0.04744         0.1538   \n",
       "..                ...             ...                  ...            ...   \n",
       "421           0.10470         0.08259              0.05252         0.1746   \n",
       "422           0.18070         0.11380              0.08534         0.2001   \n",
       "423           0.13650         0.12930              0.08123         0.2027   \n",
       "424           0.09228         0.08422              0.02292         0.2036   \n",
       "425           0.12430         0.09263              0.02308         0.1305   \n",
       "\n",
       "     mean fractal dimension  ...  worst texture  worst perimeter  worst area  \\\n",
       "0                   0.08104  ...          31.64           143.70      1226.0   \n",
       "1                   0.05891  ...          31.68           129.70      1175.0   \n",
       "2                   0.07039  ...          28.01           206.80      2360.0   \n",
       "3                   0.06287  ...          23.39            85.10       553.6   \n",
       "4                   0.05510  ...          34.69           135.10      1320.0   \n",
       "..                      ...  ...            ...              ...         ...   \n",
       "421                 0.06177  ...          29.89           105.50       740.7   \n",
       "422                 0.06467  ...          18.33           105.90       762.6   \n",
       "423                 0.06758  ...          30.70           115.70       985.5   \n",
       "424                 0.07125  ...          23.07            71.25       353.6   \n",
       "425                 0.07163  ...          17.07            63.34       270.0   \n",
       "\n",
       "     worst smoothness  worst compactness  worst concavity  \\\n",
       "0              0.1504            0.51720           0.6181   \n",
       "1              0.1395            0.30550           0.2992   \n",
       "2              0.1701            0.69970           0.9608   \n",
       "3              0.1137            0.07974           0.0612   \n",
       "4              0.1315            0.18060           0.2080   \n",
       "..                ...                ...              ...   \n",
       "421            0.1503            0.39040           0.3728   \n",
       "422            0.1386            0.28830           0.1960   \n",
       "423            0.1368            0.42900           0.3587   \n",
       "424            0.1233            0.34160           0.4341   \n",
       "425            0.1179            0.18790           0.1544   \n",
       "\n",
       "     worst concave points  worst symmetry  worst fractal dimension  target  \n",
       "0                 0.24620          0.3277                  0.10190       0  \n",
       "1                 0.13120          0.3480                  0.07619       0  \n",
       "2                 0.29100          0.4055                  0.09789       0  \n",
       "3                 0.07160          0.1978                  0.06915       0  \n",
       "4                 0.11360          0.2504                  0.07948       0  \n",
       "..                    ...             ...                      ...     ...  \n",
       "421               0.16070          0.3693                  0.09618       0  \n",
       "422               0.14230          0.2590                  0.07779       1  \n",
       "423               0.18340          0.3698                  0.10940       0  \n",
       "424               0.08120          0.2982                  0.09825       1  \n",
       "425               0.03846          0.1652                  0.07722       1  \n",
       "\n",
       "[426 rows x 31 columns]"
      ],
      "text/html": "<div>\n<style scoped>\n    .dataframe tbody tr th:only-of-type {\n        vertical-align: middle;\n    }\n\n    .dataframe tbody tr th {\n        vertical-align: top;\n    }\n\n    .dataframe thead th {\n        text-align: right;\n    }\n</style>\n<table border=\"1\" class=\"dataframe\">\n  <thead>\n    <tr style=\"text-align: right;\">\n      <th></th>\n      <th>mean radius</th>\n      <th>mean texture</th>\n      <th>mean perimeter</th>\n      <th>mean area</th>\n      <th>mean smoothness</th>\n      <th>mean compactness</th>\n      <th>mean concavity</th>\n      <th>mean concave points</th>\n      <th>mean symmetry</th>\n      <th>mean fractal dimension</th>\n      <th>...</th>\n      <th>worst texture</th>\n      <th>worst perimeter</th>\n      <th>worst area</th>\n      <th>worst smoothness</th>\n      <th>worst compactness</th>\n      <th>worst concavity</th>\n      <th>worst concave points</th>\n      <th>worst symmetry</th>\n      <th>worst fractal dimension</th>\n      <th>target</th>\n    </tr>\n  </thead>\n  <tbody>\n    <tr>\n      <th>0</th>\n      <td>15.660</td>\n      <td>23.20</td>\n      <td>110.20</td>\n      <td>773.5</td>\n      <td>0.11090</td>\n      <td>0.31140</td>\n      <td>0.31760</td>\n      <td>0.13770</td>\n      <td>0.2495</td>\n      <td>0.08104</td>\n      <td>...</td>\n      <td>31.64</td>\n      <td>143.70</td>\n      <td>1226.0</td>\n      <td>0.1504</td>\n      <td>0.51720</td>\n      <td>0.6181</td>\n      <td>0.24620</td>\n      <td>0.3277</td>\n      <td>0.10190</td>\n      <td>0</td>\n    </tr>\n    <tr>\n      <th>1</th>\n      <td>16.160</td>\n      <td>21.54</td>\n      <td>106.20</td>\n      <td>809.8</td>\n      <td>0.10080</td>\n      <td>0.12840</td>\n      <td>0.10430</td>\n      <td>0.05613</td>\n      <td>0.2160</td>\n      <td>0.05891</td>\n      <td>...</td>\n      <td>31.68</td>\n      <td>129.70</td>\n      <td>1175.0</td>\n      <td>0.1395</td>\n      <td>0.30550</td>\n      <td>0.2992</td>\n      <td>0.13120</td>\n      <td>0.3480</td>\n      <td>0.07619</td>\n      <td>0</td>\n    </tr>\n    <tr>\n      <th>2</th>\n      <td>22.270</td>\n      <td>19.67</td>\n      <td>152.80</td>\n      <td>1509.0</td>\n      <td>0.13260</td>\n      <td>0.27680</td>\n      <td>0.42640</td>\n      <td>0.18230</td>\n      <td>0.2556</td>\n      <td>0.07039</td>\n      <td>...</td>\n      <td>28.01</td>\n      <td>206.80</td>\n      <td>2360.0</td>\n      <td>0.1701</td>\n      <td>0.69970</td>\n      <td>0.9608</td>\n      <td>0.29100</td>\n      <td>0.4055</td>\n      <td>0.09789</td>\n      <td>0</td>\n    </tr>\n    <tr>\n      <th>3</th>\n      <td>11.760</td>\n      <td>18.14</td>\n      <td>75.00</td>\n      <td>431.1</td>\n      <td>0.09968</td>\n      <td>0.05914</td>\n      <td>0.02685</td>\n      <td>0.03515</td>\n      <td>0.1619</td>\n      <td>0.06287</td>\n      <td>...</td>\n      <td>23.39</td>\n      <td>85.10</td>\n      <td>553.6</td>\n      <td>0.1137</td>\n      <td>0.07974</td>\n      <td>0.0612</td>\n      <td>0.07160</td>\n      <td>0.1978</td>\n      <td>0.06915</td>\n      <td>0</td>\n    </tr>\n    <tr>\n      <th>4</th>\n      <td>17.930</td>\n      <td>24.48</td>\n      <td>115.20</td>\n      <td>998.9</td>\n      <td>0.08855</td>\n      <td>0.07027</td>\n      <td>0.05699</td>\n      <td>0.04744</td>\n      <td>0.1538</td>\n      <td>0.05510</td>\n      <td>...</td>\n      <td>34.69</td>\n      <td>135.10</td>\n      <td>1320.0</td>\n      <td>0.1315</td>\n      <td>0.18060</td>\n      <td>0.2080</td>\n      <td>0.11360</td>\n      <td>0.2504</td>\n      <td>0.07948</td>\n      <td>0</td>\n    </tr>\n    <tr>\n      <th>...</th>\n      <td>...</td>\n      <td>...</td>\n      <td>...</td>\n      <td>...</td>\n      <td>...</td>\n      <td>...</td>\n      <td>...</td>\n      <td>...</td>\n      <td>...</td>\n      <td>...</td>\n      <td>...</td>\n      <td>...</td>\n      <td>...</td>\n      <td>...</td>\n      <td>...</td>\n      <td>...</td>\n      <td>...</td>\n      <td>...</td>\n      <td>...</td>\n      <td>...</td>\n      <td>...</td>\n    </tr>\n    <tr>\n      <th>421</th>\n      <td>13.170</td>\n      <td>21.81</td>\n      <td>85.42</td>\n      <td>531.5</td>\n      <td>0.09714</td>\n      <td>0.10470</td>\n      <td>0.08259</td>\n      <td>0.05252</td>\n      <td>0.1746</td>\n      <td>0.06177</td>\n      <td>...</td>\n      <td>29.89</td>\n      <td>105.50</td>\n      <td>740.7</td>\n      <td>0.1503</td>\n      <td>0.39040</td>\n      <td>0.3728</td>\n      <td>0.16070</td>\n      <td>0.3693</td>\n      <td>0.09618</td>\n      <td>0</td>\n    </tr>\n    <tr>\n      <th>422</th>\n      <td>15.100</td>\n      <td>16.39</td>\n      <td>99.58</td>\n      <td>674.5</td>\n      <td>0.11500</td>\n      <td>0.18070</td>\n      <td>0.11380</td>\n      <td>0.08534</td>\n      <td>0.2001</td>\n      <td>0.06467</td>\n      <td>...</td>\n      <td>18.33</td>\n      <td>105.90</td>\n      <td>762.6</td>\n      <td>0.1386</td>\n      <td>0.28830</td>\n      <td>0.1960</td>\n      <td>0.14230</td>\n      <td>0.2590</td>\n      <td>0.07779</td>\n      <td>1</td>\n    </tr>\n    <tr>\n      <th>423</th>\n      <td>14.710</td>\n      <td>21.59</td>\n      <td>95.55</td>\n      <td>656.9</td>\n      <td>0.11370</td>\n      <td>0.13650</td>\n      <td>0.12930</td>\n      <td>0.08123</td>\n      <td>0.2027</td>\n      <td>0.06758</td>\n      <td>...</td>\n      <td>30.70</td>\n      <td>115.70</td>\n      <td>985.5</td>\n      <td>0.1368</td>\n      <td>0.42900</td>\n      <td>0.3587</td>\n      <td>0.18340</td>\n      <td>0.3698</td>\n      <td>0.10940</td>\n      <td>0</td>\n    </tr>\n    <tr>\n      <th>424</th>\n      <td>9.606</td>\n      <td>16.84</td>\n      <td>61.64</td>\n      <td>280.5</td>\n      <td>0.08481</td>\n      <td>0.09228</td>\n      <td>0.08422</td>\n      <td>0.02292</td>\n      <td>0.2036</td>\n      <td>0.07125</td>\n      <td>...</td>\n      <td>23.07</td>\n      <td>71.25</td>\n      <td>353.6</td>\n      <td>0.1233</td>\n      <td>0.34160</td>\n      <td>0.4341</td>\n      <td>0.08120</td>\n      <td>0.2982</td>\n      <td>0.09825</td>\n      <td>1</td>\n    </tr>\n    <tr>\n      <th>425</th>\n      <td>8.950</td>\n      <td>15.76</td>\n      <td>58.74</td>\n      <td>245.2</td>\n      <td>0.09462</td>\n      <td>0.12430</td>\n      <td>0.09263</td>\n      <td>0.02308</td>\n      <td>0.1305</td>\n      <td>0.07163</td>\n      <td>...</td>\n      <td>17.07</td>\n      <td>63.34</td>\n      <td>270.0</td>\n      <td>0.1179</td>\n      <td>0.18790</td>\n      <td>0.1544</td>\n      <td>0.03846</td>\n      <td>0.1652</td>\n      <td>0.07722</td>\n      <td>1</td>\n    </tr>\n  </tbody>\n</table>\n<p>426 rows × 31 columns</p>\n</div>"
     },
     "metadata": {},
     "execution_count": 11
    }
   ],
   "source": [
    "cancer = pd.read_csv('./static/data/cancer_train.csv')\n",
    "cancer"
   ]
  },
  {
   "cell_type": "code",
   "execution_count": 8,
   "metadata": {},
   "outputs": [
    {
     "output_type": "execute_result",
     "data": {
      "text/plain": [
       "sepal length (cm)    4.4\n",
       "sepal width (cm)     3.2\n",
       "petal length (cm)    1.3\n",
       "petal width (cm)     0.2\n",
       "target               0.0\n",
       "Name: 0, dtype: float64"
      ]
     },
     "metadata": {},
     "execution_count": 8
    }
   ],
   "source": [
    "import pandas as pd\n",
    "df = pd.read_csv('./static/data/iris_test.csv')\n",
    "X_test = df.iloc[0, :]\n",
    "X_test"
   ]
  },
  {
   "cell_type": "code",
   "execution_count": 9,
   "metadata": {},
   "outputs": [
    {
     "output_type": "execute_result",
     "data": {
      "text/plain": [
       "    sepal length (cm)  sepal width (cm)  petal length (cm)  petal width (cm)  \\\n",
       "0                 4.4               3.2                1.3               0.2   \n",
       "1                 4.6               3.6                1.0               0.2   \n",
       "2                 5.5               2.4                3.8               1.1   \n",
       "3                 4.3               3.0                1.1               0.1   \n",
       "4                 5.2               3.4                1.4               0.2   \n",
       "5                 5.1               3.5                1.4               0.2   \n",
       "6                 4.4               2.9                1.4               0.2   \n",
       "7                 4.8               3.1                1.6               0.2   \n",
       "8                 4.7               3.2                1.3               0.2   \n",
       "9                 5.0               3.5                1.6               0.6   \n",
       "10                5.0               3.2                1.2               0.2   \n",
       "11                6.1               2.8                4.7               1.2   \n",
       "12                5.7               2.5                5.0               2.0   \n",
       "13                6.4               3.2                5.3               2.3   \n",
       "14                6.1               3.0                4.6               1.4   \n",
       "15                7.2               3.2                6.0               1.8   \n",
       "16                5.7               2.8                4.5               1.3   \n",
       "17                5.6               2.5                3.9               1.1   \n",
       "18                5.1               3.3                1.7               0.5   \n",
       "19                5.6               3.0                4.5               1.5   \n",
       "20                5.9               3.0                4.2               1.5   \n",
       "21                6.8               3.0                5.5               2.1   \n",
       "22                6.1               2.6                5.6               1.4   \n",
       "23                5.0               3.6                1.4               0.2   \n",
       "24                6.3               2.8                5.1               1.5   \n",
       "25                6.7               3.1                4.4               1.4   \n",
       "26                6.4               2.9                4.3               1.3   \n",
       "27                6.3               2.5                4.9               1.5   \n",
       "28                4.8               3.0                1.4               0.1   \n",
       "29                4.6               3.4                1.4               0.3   \n",
       "30                5.5               2.4                3.7               1.0   \n",
       "31                6.2               2.9                4.3               1.3   \n",
       "32                4.9               3.1                1.5               0.2   \n",
       "33                6.4               2.8                5.6               2.2   \n",
       "34                6.6               2.9                4.6               1.3   \n",
       "35                6.2               2.2                4.5               1.5   \n",
       "36                6.5               3.0                5.8               2.2   \n",
       "37                4.8               3.4                1.9               0.2   \n",
       "\n",
       "    target  \n",
       "0        0  \n",
       "1        0  \n",
       "2        1  \n",
       "3        0  \n",
       "4        0  \n",
       "5        0  \n",
       "6        0  \n",
       "7        0  \n",
       "8        0  \n",
       "9        0  \n",
       "10       0  \n",
       "11       1  \n",
       "12       2  \n",
       "13       2  \n",
       "14       1  \n",
       "15       2  \n",
       "16       1  \n",
       "17       1  \n",
       "18       0  \n",
       "19       1  \n",
       "20       1  \n",
       "21       2  \n",
       "22       2  \n",
       "23       0  \n",
       "24       2  \n",
       "25       1  \n",
       "26       1  \n",
       "27       1  \n",
       "28       0  \n",
       "29       0  \n",
       "30       1  \n",
       "31       1  \n",
       "32       0  \n",
       "33       2  \n",
       "34       1  \n",
       "35       1  \n",
       "36       2  \n",
       "37       0  "
      ],
      "text/html": "<div>\n<style scoped>\n    .dataframe tbody tr th:only-of-type {\n        vertical-align: middle;\n    }\n\n    .dataframe tbody tr th {\n        vertical-align: top;\n    }\n\n    .dataframe thead th {\n        text-align: right;\n    }\n</style>\n<table border=\"1\" class=\"dataframe\">\n  <thead>\n    <tr style=\"text-align: right;\">\n      <th></th>\n      <th>sepal length (cm)</th>\n      <th>sepal width (cm)</th>\n      <th>petal length (cm)</th>\n      <th>petal width (cm)</th>\n      <th>target</th>\n    </tr>\n  </thead>\n  <tbody>\n    <tr>\n      <th>0</th>\n      <td>4.4</td>\n      <td>3.2</td>\n      <td>1.3</td>\n      <td>0.2</td>\n      <td>0</td>\n    </tr>\n    <tr>\n      <th>1</th>\n      <td>4.6</td>\n      <td>3.6</td>\n      <td>1.0</td>\n      <td>0.2</td>\n      <td>0</td>\n    </tr>\n    <tr>\n      <th>2</th>\n      <td>5.5</td>\n      <td>2.4</td>\n      <td>3.8</td>\n      <td>1.1</td>\n      <td>1</td>\n    </tr>\n    <tr>\n      <th>3</th>\n      <td>4.3</td>\n      <td>3.0</td>\n      <td>1.1</td>\n      <td>0.1</td>\n      <td>0</td>\n    </tr>\n    <tr>\n      <th>4</th>\n      <td>5.2</td>\n      <td>3.4</td>\n      <td>1.4</td>\n      <td>0.2</td>\n      <td>0</td>\n    </tr>\n    <tr>\n      <th>5</th>\n      <td>5.1</td>\n      <td>3.5</td>\n      <td>1.4</td>\n      <td>0.2</td>\n      <td>0</td>\n    </tr>\n    <tr>\n      <th>6</th>\n      <td>4.4</td>\n      <td>2.9</td>\n      <td>1.4</td>\n      <td>0.2</td>\n      <td>0</td>\n    </tr>\n    <tr>\n      <th>7</th>\n      <td>4.8</td>\n      <td>3.1</td>\n      <td>1.6</td>\n      <td>0.2</td>\n      <td>0</td>\n    </tr>\n    <tr>\n      <th>8</th>\n      <td>4.7</td>\n      <td>3.2</td>\n      <td>1.3</td>\n      <td>0.2</td>\n      <td>0</td>\n    </tr>\n    <tr>\n      <th>9</th>\n      <td>5.0</td>\n      <td>3.5</td>\n      <td>1.6</td>\n      <td>0.6</td>\n      <td>0</td>\n    </tr>\n    <tr>\n      <th>10</th>\n      <td>5.0</td>\n      <td>3.2</td>\n      <td>1.2</td>\n      <td>0.2</td>\n      <td>0</td>\n    </tr>\n    <tr>\n      <th>11</th>\n      <td>6.1</td>\n      <td>2.8</td>\n      <td>4.7</td>\n      <td>1.2</td>\n      <td>1</td>\n    </tr>\n    <tr>\n      <th>12</th>\n      <td>5.7</td>\n      <td>2.5</td>\n      <td>5.0</td>\n      <td>2.0</td>\n      <td>2</td>\n    </tr>\n    <tr>\n      <th>13</th>\n      <td>6.4</td>\n      <td>3.2</td>\n      <td>5.3</td>\n      <td>2.3</td>\n      <td>2</td>\n    </tr>\n    <tr>\n      <th>14</th>\n      <td>6.1</td>\n      <td>3.0</td>\n      <td>4.6</td>\n      <td>1.4</td>\n      <td>1</td>\n    </tr>\n    <tr>\n      <th>15</th>\n      <td>7.2</td>\n      <td>3.2</td>\n      <td>6.0</td>\n      <td>1.8</td>\n      <td>2</td>\n    </tr>\n    <tr>\n      <th>16</th>\n      <td>5.7</td>\n      <td>2.8</td>\n      <td>4.5</td>\n      <td>1.3</td>\n      <td>1</td>\n    </tr>\n    <tr>\n      <th>17</th>\n      <td>5.6</td>\n      <td>2.5</td>\n      <td>3.9</td>\n      <td>1.1</td>\n      <td>1</td>\n    </tr>\n    <tr>\n      <th>18</th>\n      <td>5.1</td>\n      <td>3.3</td>\n      <td>1.7</td>\n      <td>0.5</td>\n      <td>0</td>\n    </tr>\n    <tr>\n      <th>19</th>\n      <td>5.6</td>\n      <td>3.0</td>\n      <td>4.5</td>\n      <td>1.5</td>\n      <td>1</td>\n    </tr>\n    <tr>\n      <th>20</th>\n      <td>5.9</td>\n      <td>3.0</td>\n      <td>4.2</td>\n      <td>1.5</td>\n      <td>1</td>\n    </tr>\n    <tr>\n      <th>21</th>\n      <td>6.8</td>\n      <td>3.0</td>\n      <td>5.5</td>\n      <td>2.1</td>\n      <td>2</td>\n    </tr>\n    <tr>\n      <th>22</th>\n      <td>6.1</td>\n      <td>2.6</td>\n      <td>5.6</td>\n      <td>1.4</td>\n      <td>2</td>\n    </tr>\n    <tr>\n      <th>23</th>\n      <td>5.0</td>\n      <td>3.6</td>\n      <td>1.4</td>\n      <td>0.2</td>\n      <td>0</td>\n    </tr>\n    <tr>\n      <th>24</th>\n      <td>6.3</td>\n      <td>2.8</td>\n      <td>5.1</td>\n      <td>1.5</td>\n      <td>2</td>\n    </tr>\n    <tr>\n      <th>25</th>\n      <td>6.7</td>\n      <td>3.1</td>\n      <td>4.4</td>\n      <td>1.4</td>\n      <td>1</td>\n    </tr>\n    <tr>\n      <th>26</th>\n      <td>6.4</td>\n      <td>2.9</td>\n      <td>4.3</td>\n      <td>1.3</td>\n      <td>1</td>\n    </tr>\n    <tr>\n      <th>27</th>\n      <td>6.3</td>\n      <td>2.5</td>\n      <td>4.9</td>\n      <td>1.5</td>\n      <td>1</td>\n    </tr>\n    <tr>\n      <th>28</th>\n      <td>4.8</td>\n      <td>3.0</td>\n      <td>1.4</td>\n      <td>0.1</td>\n      <td>0</td>\n    </tr>\n    <tr>\n      <th>29</th>\n      <td>4.6</td>\n      <td>3.4</td>\n      <td>1.4</td>\n      <td>0.3</td>\n      <td>0</td>\n    </tr>\n    <tr>\n      <th>30</th>\n      <td>5.5</td>\n      <td>2.4</td>\n      <td>3.7</td>\n      <td>1.0</td>\n      <td>1</td>\n    </tr>\n    <tr>\n      <th>31</th>\n      <td>6.2</td>\n      <td>2.9</td>\n      <td>4.3</td>\n      <td>1.3</td>\n      <td>1</td>\n    </tr>\n    <tr>\n      <th>32</th>\n      <td>4.9</td>\n      <td>3.1</td>\n      <td>1.5</td>\n      <td>0.2</td>\n      <td>0</td>\n    </tr>\n    <tr>\n      <th>33</th>\n      <td>6.4</td>\n      <td>2.8</td>\n      <td>5.6</td>\n      <td>2.2</td>\n      <td>2</td>\n    </tr>\n    <tr>\n      <th>34</th>\n      <td>6.6</td>\n      <td>2.9</td>\n      <td>4.6</td>\n      <td>1.3</td>\n      <td>1</td>\n    </tr>\n    <tr>\n      <th>35</th>\n      <td>6.2</td>\n      <td>2.2</td>\n      <td>4.5</td>\n      <td>1.5</td>\n      <td>1</td>\n    </tr>\n    <tr>\n      <th>36</th>\n      <td>6.5</td>\n      <td>3.0</td>\n      <td>5.8</td>\n      <td>2.2</td>\n      <td>2</td>\n    </tr>\n    <tr>\n      <th>37</th>\n      <td>4.8</td>\n      <td>3.4</td>\n      <td>1.9</td>\n      <td>0.2</td>\n      <td>0</td>\n    </tr>\n  </tbody>\n</table>\n</div>"
     },
     "metadata": {},
     "execution_count": 9
    }
   ],
   "source": [
    "df"
   ]
  },
  {
   "cell_type": "code",
   "execution_count": 7,
   "metadata": {},
   "outputs": [],
   "source": [
    "import pandas as pd\n",
    "from sklearn.datasets import load_digits\n",
    "digit = load_digits()\n",
    "df = pd.DataFrame(digit.data, columns=digit.feature_names)\n",
    "df['target'] = digit.target\n",
    "df.to_csv('./static/data/digit.csv')"
   ]
  },
  {
   "cell_type": "code",
   "execution_count": 6,
   "metadata": {},
   "outputs": [
    {
     "output_type": "display_data",
     "data": {
      "text/plain": "<Figure size 432x288 with 1 Axes>",
      "image/svg+xml": "<?xml version=\"1.0\" encoding=\"utf-8\" standalone=\"no\"?>\r\n<!DOCTYPE svg PUBLIC \"-//W3C//DTD SVG 1.1//EN\"\r\n  \"http://www.w3.org/Graphics/SVG/1.1/DTD/svg11.dtd\">\r\n<!-- Created with matplotlib (https://matplotlib.org/) -->\r\n<svg height=\"235.34pt\" version=\"1.1\" viewBox=\"0 0 235.34 235.34\" width=\"235.34pt\" xmlns=\"http://www.w3.org/2000/svg\" xmlns:xlink=\"http://www.w3.org/1999/xlink\">\r\n <defs>\r\n  <style type=\"text/css\">\r\n*{stroke-linecap:butt;stroke-linejoin:round;}\r\n  </style>\r\n </defs>\r\n <g id=\"figure_1\">\r\n  <g id=\"patch_1\">\r\n   <path d=\"M 0 235.34 \r\nL 235.34 235.34 \r\nL 235.34 0 \r\nL 0 0 \r\nz\r\n\" style=\"fill:none;\"/>\r\n  </g>\r\n  <g id=\"axes_1\">\r\n   <g id=\"patch_2\">\r\n    <path d=\"M 10.7 224.64 \r\nL 228.14 224.64 \r\nL 228.14 7.2 \r\nL 10.7 7.2 \r\nz\r\n\" style=\"fill:#ffffff;\"/>\r\n   </g>\r\n   <g clip-path=\"url(#p4b6d6540af)\">\r\n    <image height=\"218\" id=\"image32e01ccc70\" transform=\"scale(1 -1)translate(0 -218)\" width=\"218\" x=\"10.7\" xlink:href=\"data:image/png;base64,\r\niVBORw0KGgoAAAANSUhEUgAAANoAAADaCAYAAADAHVzbAAAABHNCSVQICAgIfAhkiAAAA1lJREFUeJzt3GHRqVEYRuH9nTkFRECEVwQVVFBBBSqIQAQq0IAIRHBarDPju64CN8Oa/e/5+Xw+n/GFjsdjurff77Ot1WqVbZ1Op2zrm/353x8AfgOhQUBoEBAaBIQGAaFBQGgQEBoEhAYBoUFAaBAQGgSEBgGhQUBoEBAaBIQGAaFBQGgQEBoEhAYBoUFAaBAQGgSEBgGhQeCnPAn+fD6rqTFNU7Y1RnuC/Hw+Z1uPxyPbut1u2VbNiwYBoUFAaBAQGgSEBgGhQUBoEBAaBIQGAaFBQGgQEBoEhAYBoUFAaBAQGgSEBgGhQUBoEBAaBIQGAaFBQGgQEBoEhAYBoUFAaBD4W46Vt/dXq1W2NcYYm80m21qv11+5dTgcsq0xxtjtdtmWFw0CQoOA0CAgNAgIDQJCg4DQICA0CAgNAkKDgNAgIDQICA0CQoOA0CAgNAgIDQJCg4DQICA0CAgNAkKDgNAgIDQICA0CQoNAehL8/X5nW9M0ZVu12WyWbZWn1cv/R82LBgGhQUBoEBAaBIQGAaFBQGgQEBoEhAYBoUFAaBAQGgSEBgGhQUBoEBAaBIQGAaFBQGgQEBoEhAYBoUFAaBAQGgSEBgGhQSA9CV6esr5cLtnWGGPs9/t0r1L+Zt/MiwYBoUFAaBAQGgSEBgGhQUBoEBAaBIQGAaFBQGgQEBoEhAYBoUFAaBAQGgSEBgGhQUBoEBAaBIQGAaFBQGgQEBoEhAYBoUHga0+C3+/3bGuMMZ7PZ7a1WCyyrdvtlm1N05Rt1bxoEBAaBIQGAaFBQGgQEBoEhAYBoUFAaBAQGgSEBgGhQUBoEBAaBIQGAaFBQGgQEBoEhAYBoUFAaBAQGgSEBgGhQUBoEBAaBIQGgfT2fnlbfT6fZ1tjjLFcLrOtzWaTbV2v12xru91mWzUvGgSEBgGhQUBoEBAaBIQGAaFBQGgQEBoEhAYBoUFAaBAQGgSEBgGhQUBoEBAaBIQGAaFBQGgQEBoEhAYBoUFAaBAQGgSEBoH0JHjpcDike7vdLtuazWbZ1uv1yrbK71XzokFAaBAQGgSEBgGhQUBoEBAaBIQGAaFBQGgQEBoEhAYBoUFAaBAQGgSEBgGhQUBoEBAaBIQGAaFBQGgQEBoEhAYBoUFAaBD4B6cPREy0TB3BAAAAAElFTkSuQmCC\" y=\"-6.64\"/>\r\n   </g>\r\n   <g id=\"matplotlib.axis_1\"/>\r\n   <g id=\"matplotlib.axis_2\"/>\r\n   <g id=\"patch_3\">\r\n    <path d=\"M 10.7 224.64 \r\nL 10.7 7.2 \r\n\" style=\"fill:none;stroke:#000000;stroke-linecap:square;stroke-linejoin:miter;stroke-width:0.8;\"/>\r\n   </g>\r\n   <g id=\"patch_4\">\r\n    <path d=\"M 228.14 224.64 \r\nL 228.14 7.2 \r\n\" style=\"fill:none;stroke:#000000;stroke-linecap:square;stroke-linejoin:miter;stroke-width:0.8;\"/>\r\n   </g>\r\n   <g id=\"patch_5\">\r\n    <path d=\"M 10.7 224.64 \r\nL 228.14 224.64 \r\n\" style=\"fill:none;stroke:#000000;stroke-linecap:square;stroke-linejoin:miter;stroke-width:0.8;\"/>\r\n   </g>\r\n   <g id=\"patch_6\">\r\n    <path d=\"M 10.7 7.2 \r\nL 228.14 7.2 \r\n\" style=\"fill:none;stroke:#000000;stroke-linecap:square;stroke-linejoin:miter;stroke-width:0.8;\"/>\r\n   </g>\r\n  </g>\r\n </g>\r\n <defs>\r\n  <clipPath id=\"p4b6d6540af\">\r\n   <rect height=\"217.44\" width=\"217.44\" x=\"10.7\" y=\"7.2\"/>\r\n  </clipPath>\r\n </defs>\r\n</svg>\r\n",
      "image/png": "[encoded data removed]"
     },
     "metadata": {}
    }
   ],
   "source": [
    "import matplotlib.pyplot as plt\n",
    "plt.imshow(digit['images'][0], cmap=plt.cm.binary, interpolation='nearest')\n",
    "plt.xticks([]); plt.yticks([])\n",
    "plt.show()"
   ]
  },
  {
   "cell_type": "code",
   "execution_count": 8,
   "metadata": {},
   "outputs": [
    {
     "output_type": "execute_result",
     "data": {
      "text/plain": [
       "     index  pixel_0_0  pixel_0_1  pixel_0_2  pixel_0_3  pixel_0_4  pixel_0_5  \\\n",
       "0     1271        0.0        1.0        3.0       15.0       15.0        2.0   \n",
       "1     1402        0.0        0.0       11.0       16.0       11.0        0.0   \n",
       "2      501        0.0        1.0       11.0       12.0        1.0        0.0   \n",
       "3     1134        0.0        0.0        3.0       16.0       12.0        2.0   \n",
       "4      300        0.0        0.0        1.0       11.0       16.0       16.0   \n",
       "..     ...        ...        ...        ...        ...        ...        ...   \n",
       "445   1339        0.0        0.0        7.0       15.0       16.0       15.0   \n",
       "446    467        0.0        0.0        1.0       11.0       12.0       13.0   \n",
       "447   1738        0.0        0.0        7.0       12.0       16.0        9.0   \n",
       "448   1215        0.0        0.0        0.0       14.0       13.0        1.0   \n",
       "449   1210        0.0        0.0        5.0       12.0       16.0       10.0   \n",
       "\n",
       "     pixel_0_6  pixel_0_7  pixel_1_0  ...  pixel_6_7  pixel_7_0  pixel_7_1  \\\n",
       "0          0.0        0.0        2.0  ...        0.0        0.0        0.0   \n",
       "1          0.0        0.0        0.0  ...        0.0        0.0        0.0   \n",
       "2          0.0        0.0        0.0  ...        0.0        0.0        0.0   \n",
       "3          0.0        0.0        0.0  ...        0.0        0.0        0.0   \n",
       "4         10.0        0.0        0.0  ...        0.0        0.0        0.0   \n",
       "..         ...        ...        ...  ...        ...        ...        ...   \n",
       "445        0.0        0.0        0.0  ...        0.0        0.0        0.0   \n",
       "446       14.0        5.0        0.0  ...        0.0        0.0        0.0   \n",
       "447        0.0        0.0        0.0  ...        0.0        0.0        0.0   \n",
       "448        0.0        0.0        0.0  ...        1.0        0.0        0.0   \n",
       "449        0.0        0.0        0.0  ...        0.0        0.0        0.0   \n",
       "\n",
       "     pixel_7_2  pixel_7_3  pixel_7_4  pixel_7_5  pixel_7_6  pixel_7_7  target  \n",
       "0          4.0       15.0       16.0       14.0        0.0        0.0       8  \n",
       "1         11.0       11.0        8.0       13.0       16.0        7.0       2  \n",
       "2         13.0       11.0        8.0       12.0        8.0        0.0       2  \n",
       "3          3.0       14.0       16.0        3.0        0.0        0.0       1  \n",
       "4          0.0       13.0        3.0        0.0        0.0        0.0       7  \n",
       "..         ...        ...        ...        ...        ...        ...     ...  \n",
       "445       10.0       12.0        0.0        0.0        0.0        0.0       7  \n",
       "446        0.0       15.0        7.0        0.0        0.0        0.0       7  \n",
       "447       10.0       11.0        4.0        0.0        0.0        0.0       5  \n",
       "448        1.0       14.0       16.0       14.0        2.0        0.0       6  \n",
       "449        5.0       15.0        4.0        0.0        0.0        0.0       8  \n",
       "\n",
       "[450 rows x 66 columns]"
      ],
      "text/html": "<div>\n<style scoped>\n    .dataframe tbody tr th:only-of-type {\n        vertical-align: middle;\n    }\n\n    .dataframe tbody tr th {\n        vertical-align: top;\n    }\n\n    .dataframe thead th {\n        text-align: right;\n    }\n</style>\n<table border=\"1\" class=\"dataframe\">\n  <thead>\n    <tr style=\"text-align: right;\">\n      <th></th>\n      <th>index</th>\n      <th>pixel_0_0</th>\n      <th>pixel_0_1</th>\n      <th>pixel_0_2</th>\n      <th>pixel_0_3</th>\n      <th>pixel_0_4</th>\n      <th>pixel_0_5</th>\n      <th>pixel_0_6</th>\n      <th>pixel_0_7</th>\n      <th>pixel_1_0</th>\n      <th>...</th>\n      <th>pixel_6_7</th>\n      <th>pixel_7_0</th>\n      <th>pixel_7_1</th>\n      <th>pixel_7_2</th>\n      <th>pixel_7_3</th>\n      <th>pixel_7_4</th>\n      <th>pixel_7_5</th>\n      <th>pixel_7_6</th>\n      <th>pixel_7_7</th>\n      <th>target</th>\n    </tr>\n  </thead>\n  <tbody>\n    <tr>\n      <th>0</th>\n      <td>1271</td>\n      <td>0.0</td>\n      <td>1.0</td>\n      <td>3.0</td>\n      <td>15.0</td>\n      <td>15.0</td>\n      <td>2.0</td>\n      <td>0.0</td>\n      <td>0.0</td>\n      <td>2.0</td>\n      <td>...</td>\n      <td>0.0</td>\n      <td>0.0</td>\n      <td>0.0</td>\n      <td>4.0</td>\n      <td>15.0</td>\n      <td>16.0</td>\n      <td>14.0</td>\n      <td>0.0</td>\n      <td>0.0</td>\n      <td>8</td>\n    </tr>\n    <tr>\n      <th>1</th>\n      <td>1402</td>\n      <td>0.0</td>\n      <td>0.0</td>\n      <td>11.0</td>\n      <td>16.0</td>\n      <td>11.0</td>\n      <td>0.0</td>\n      <td>0.0</td>\n      <td>0.0</td>\n      <td>0.0</td>\n      <td>...</td>\n      <td>0.0</td>\n      <td>0.0</td>\n      <td>0.0</td>\n      <td>11.0</td>\n      <td>11.0</td>\n      <td>8.0</td>\n      <td>13.0</td>\n      <td>16.0</td>\n      <td>7.0</td>\n      <td>2</td>\n    </tr>\n    <tr>\n      <th>2</th>\n      <td>501</td>\n      <td>0.0</td>\n      <td>1.0</td>\n      <td>11.0</td>\n      <td>12.0</td>\n      <td>1.0</td>\n      <td>0.0</td>\n      <td>0.0</td>\n      <td>0.0</td>\n      <td>0.0</td>\n      <td>...</td>\n      <td>0.0</td>\n      <td>0.0</td>\n      <td>0.0</td>\n      <td>13.0</td>\n      <td>11.0</td>\n      <td>8.0</td>\n      <td>12.0</td>\n      <td>8.0</td>\n      <td>0.0</td>\n      <td>2</td>\n    </tr>\n    <tr>\n      <th>3</th>\n      <td>1134</td>\n      <td>0.0</td>\n      <td>0.0</td>\n      <td>3.0</td>\n      <td>16.0</td>\n      <td>12.0</td>\n      <td>2.0</td>\n      <td>0.0</td>\n      <td>0.0</td>\n      <td>0.0</td>\n      <td>...</td>\n      <td>0.0</td>\n      <td>0.0</td>\n      <td>0.0</td>\n      <td>3.0</td>\n      <td>14.0</td>\n      <td>16.0</td>\n      <td>3.0</td>\n      <td>0.0</td>\n      <td>0.0</td>\n      <td>1</td>\n    </tr>\n    <tr>\n      <th>4</th>\n      <td>300</td>\n      <td>0.0</td>\n      <td>0.0</td>\n      <td>1.0</td>\n      <td>11.0</td>\n      <td>16.0</td>\n      <td>16.0</td>\n      <td>10.0</td>\n      <td>0.0</td>\n      <td>0.0</td>\n      <td>...</td>\n      <td>0.0</td>\n      <td>0.0</td>\n      <td>0.0</td>\n      <td>0.0</td>\n      <td>13.0</td>\n      <td>3.0</td>\n      <td>0.0</td>\n      <td>0.0</td>\n      <td>0.0</td>\n      <td>7</td>\n    </tr>\n    <tr>\n      <th>...</th>\n      <td>...</td>\n      <td>...</td>\n      <td>...</td>\n      <td>...</td>\n      <td>...</td>\n      <td>...</td>\n      <td>...</td>\n      <td>...</td>\n      <td>...</td>\n      <td>...</td>\n      <td>...</td>\n      <td>...</td>\n      <td>...</td>\n      <td>...</td>\n      <td>...</td>\n      <td>...</td>\n      <td>...</td>\n      <td>...</td>\n      <td>...</td>\n      <td>...</td>\n      <td>...</td>\n    </tr>\n    <tr>\n      <th>445</th>\n      <td>1339</td>\n      <td>0.0</td>\n      <td>0.0</td>\n      <td>7.0</td>\n      <td>15.0</td>\n      <td>16.0</td>\n      <td>15.0</td>\n      <td>0.0</td>\n      <td>0.0</td>\n      <td>0.0</td>\n      <td>...</td>\n      <td>0.0</td>\n      <td>0.0</td>\n      <td>0.0</td>\n      <td>10.0</td>\n      <td>12.0</td>\n      <td>0.0</td>\n      <td>0.0</td>\n      <td>0.0</td>\n      <td>0.0</td>\n      <td>7</td>\n    </tr>\n    <tr>\n      <th>446</th>\n      <td>467</td>\n      <td>0.0</td>\n      <td>0.0</td>\n      <td>1.0</td>\n      <td>11.0</td>\n      <td>12.0</td>\n      <td>13.0</td>\n      <td>14.0</td>\n      <td>5.0</td>\n      <td>0.0</td>\n      <td>...</td>\n      <td>0.0</td>\n      <td>0.0</td>\n      <td>0.0</td>\n      <td>0.0</td>\n      <td>15.0</td>\n      <td>7.0</td>\n      <td>0.0</td>\n      <td>0.0</td>\n      <td>0.0</td>\n      <td>7</td>\n    </tr>\n    <tr>\n      <th>447</th>\n      <td>1738</td>\n      <td>0.0</td>\n      <td>0.0</td>\n      <td>7.0</td>\n      <td>12.0</td>\n      <td>16.0</td>\n      <td>9.0</td>\n      <td>0.0</td>\n      <td>0.0</td>\n      <td>0.0</td>\n      <td>...</td>\n      <td>0.0</td>\n      <td>0.0</td>\n      <td>0.0</td>\n      <td>10.0</td>\n      <td>11.0</td>\n      <td>4.0</td>\n      <td>0.0</td>\n      <td>0.0</td>\n      <td>0.0</td>\n      <td>5</td>\n    </tr>\n    <tr>\n      <th>448</th>\n      <td>1215</td>\n      <td>0.0</td>\n      <td>0.0</td>\n      <td>0.0</td>\n      <td>14.0</td>\n      <td>13.0</td>\n      <td>1.0</td>\n      <td>0.0</td>\n      <td>0.0</td>\n      <td>0.0</td>\n      <td>...</td>\n      <td>1.0</td>\n      <td>0.0</td>\n      <td>0.0</td>\n      <td>1.0</td>\n      <td>14.0</td>\n      <td>16.0</td>\n      <td>14.0</td>\n      <td>2.0</td>\n      <td>0.0</td>\n      <td>6</td>\n    </tr>\n    <tr>\n      <th>449</th>\n      <td>1210</td>\n      <td>0.0</td>\n      <td>0.0</td>\n      <td>5.0</td>\n      <td>12.0</td>\n      <td>16.0</td>\n      <td>10.0</td>\n      <td>0.0</td>\n      <td>0.0</td>\n      <td>0.0</td>\n      <td>...</td>\n      <td>0.0</td>\n      <td>0.0</td>\n      <td>0.0</td>\n      <td>5.0</td>\n      <td>15.0</td>\n      <td>4.0</td>\n      <td>0.0</td>\n      <td>0.0</td>\n      <td>0.0</td>\n      <td>8</td>\n    </tr>\n  </tbody>\n</table>\n<p>450 rows × 66 columns</p>\n</div>"
     },
     "metadata": {},
     "execution_count": 8
    }
   ],
   "source": [
    "digits_test = pd.read_csv('./static/data/digits_test.csv')\n",
    "digits_test"
   ]
  },
  {
   "cell_type": "code",
   "execution_count": 9,
   "metadata": {},
   "outputs": [
    {
     "output_type": "execute_result",
     "data": {
      "text/plain": [
       "501"
      ]
     },
     "metadata": {},
     "execution_count": 9
    }
   ],
   "source": [
    "digits_test.iloc[2, 0]"
   ]
  },
  {
   "cell_type": "code",
   "execution_count": 1,
   "metadata": {},
   "outputs": [
    {
     "output_type": "execute_result",
     "data": {
      "text/plain": [
       "   Pregnancies  Glucose  BloodPressure  SkinThickness  Insulin   BMI  \\\n",
       "0            6      148             72             35        0  33.6   \n",
       "1            1       85             66             29        0  26.6   \n",
       "2            8      183             64              0        0  23.3   \n",
       "3            1       89             66             23       94  28.1   \n",
       "4            0      137             40             35      168  43.1   \n",
       "\n",
       "   DiabetesPedigreeFunction  Age  Outcome  \n",
       "0                     0.627   50        1  \n",
       "1                     0.351   31        0  \n",
       "2                     0.672   32        1  \n",
       "3                     0.167   21        0  \n",
       "4                     2.288   33        1  "
      ],
      "text/html": "<div>\n<style scoped>\n    .dataframe tbody tr th:only-of-type {\n        vertical-align: middle;\n    }\n\n    .dataframe tbody tr th {\n        vertical-align: top;\n    }\n\n    .dataframe thead th {\n        text-align: right;\n    }\n</style>\n<table border=\"1\" class=\"dataframe\">\n  <thead>\n    <tr style=\"text-align: right;\">\n      <th></th>\n      <th>Pregnancies</th>\n      <th>Glucose</th>\n      <th>BloodPressure</th>\n      <th>SkinThickness</th>\n      <th>Insulin</th>\n      <th>BMI</th>\n      <th>DiabetesPedigreeFunction</th>\n      <th>Age</th>\n      <th>Outcome</th>\n    </tr>\n  </thead>\n  <tbody>\n    <tr>\n      <th>0</th>\n      <td>6</td>\n      <td>148</td>\n      <td>72</td>\n      <td>35</td>\n      <td>0</td>\n      <td>33.6</td>\n      <td>0.627</td>\n      <td>50</td>\n      <td>1</td>\n    </tr>\n    <tr>\n      <th>1</th>\n      <td>1</td>\n      <td>85</td>\n      <td>66</td>\n      <td>29</td>\n      <td>0</td>\n      <td>26.6</td>\n      <td>0.351</td>\n      <td>31</td>\n      <td>0</td>\n    </tr>\n    <tr>\n      <th>2</th>\n      <td>8</td>\n      <td>183</td>\n      <td>64</td>\n      <td>0</td>\n      <td>0</td>\n      <td>23.3</td>\n      <td>0.672</td>\n      <td>32</td>\n      <td>1</td>\n    </tr>\n    <tr>\n      <th>3</th>\n      <td>1</td>\n      <td>89</td>\n      <td>66</td>\n      <td>23</td>\n      <td>94</td>\n      <td>28.1</td>\n      <td>0.167</td>\n      <td>21</td>\n      <td>0</td>\n    </tr>\n    <tr>\n      <th>4</th>\n      <td>0</td>\n      <td>137</td>\n      <td>40</td>\n      <td>35</td>\n      <td>168</td>\n      <td>43.1</td>\n      <td>2.288</td>\n      <td>33</td>\n      <td>1</td>\n    </tr>\n  </tbody>\n</table>\n</div>"
     },
     "metadata": {},
     "execution_count": 1
    }
   ],
   "source": [
    "import pandas as pd\n",
    "import numpy as np\n",
    "\n",
    "pima = pd.read_csv('./static/data/pima/diabetes.csv')\n",
    "pima.head()"
   ]
  },
  {
   "cell_type": "code",
   "execution_count": 2,
   "metadata": {},
   "outputs": [],
   "source": [
    "zero_features = ['Glucose', 'BloodPressure', 'SkinThickness', 'Insulin', 'BMI']\n",
    "pima[zero_features] = pima[zero_features].replace(0, pima[zero_features].mean())"
   ]
  },
  {
   "cell_type": "code",
   "execution_count": 3,
   "metadata": {},
   "outputs": [],
   "source": [
    "from sklearn.preprocessing import MinMaxScaler\n",
    "from sklearn.model_selection import train_test_split, GridSearchCV\n",
    "X = pima.iloc[:, :-1]\n",
    "y = pima.iloc[:, -1]\n",
    "\n",
    "scaler = MinMaxScaler()\n",
    "X_scaled = scaler.fit_transform(X)\n",
    "\n",
    "X_train, X_test, y_train, y_test = train_test_split(X_scaled, y, test_size=0.25, random_state=2021)"
   ]
  },
  {
   "cell_type": "code",
   "execution_count": 34,
   "metadata": {},
   "outputs": [
    {
     "output_type": "execute_result",
     "data": {
      "text/plain": [
       "array([[0.05882353, 0.27741935, 0.36734694, ..., 0.38854806, 0.18403074,\n",
       "        0.01666667],\n",
       "       [0.17647059, 0.83225806, 0.59183673, ..., 0.41308793, 0.87916311,\n",
       "        0.06666667],\n",
       "       [0.47058824, 0.98709677, 0.51020408, ..., 0.15746421, 0.47523484,\n",
       "        0.3       ],\n",
       "       ...,\n",
       "       [0.        , 0.36129032, 0.65306122, ..., 0.58486708, 0.37745517,\n",
       "        0.16666667],\n",
       "       [0.05882353, 0.32903226, 0.51020408, ..., 0.15746421, 0.25405636,\n",
       "        0.25      ],\n",
       "       [0.29411765, 0.51612903, 0.51020408, ..., 0.32310838, 0.06063194,\n",
       "        0.28333333]])"
      ]
     },
     "metadata": {},
     "execution_count": 34
    }
   ],
   "source": [
    "X_train"
   ]
  },
  {
   "cell_type": "code",
   "execution_count": 4,
   "metadata": {},
   "outputs": [],
   "source": [
    "from sklearn.linear_model import LogisticRegression\n",
    "from sklearn.svm import SVC\n",
    "from sklearn.tree import DecisionTreeClassifier\n",
    "from sklearn.ensemble import RandomForestClassifier\n",
    "\n",
    "lr = LogisticRegression()\n",
    "sv = SVC()\n",
    "dt = DecisionTreeClassifier()\n",
    "rf = RandomForestClassifier()"
   ]
  },
  {
   "cell_type": "code",
   "execution_count": 5,
   "metadata": {},
   "outputs": [
    {
     "output_type": "execute_result",
     "data": {
      "text/plain": [
       "{'C': 1.0,\n",
       " 'class_weight': None,\n",
       " 'dual': False,\n",
       " 'fit_intercept': True,\n",
       " 'intercept_scaling': 1,\n",
       " 'l1_ratio': None,\n",
       " 'max_iter': 100,\n",
       " 'multi_class': 'auto',\n",
       " 'n_jobs': None,\n",
       " 'penalty': 'l2',\n",
       " 'random_state': None,\n",
       " 'solver': 'lbfgs',\n",
       " 'tol': 0.0001,\n",
       " 'verbose': 0,\n",
       " 'warm_start': False}"
      ]
     },
     "metadata": {},
     "execution_count": 5
    }
   ],
   "source": [
    "lr.get_params()"
   ]
  },
  {
   "cell_type": "code",
   "execution_count": 11,
   "metadata": {},
   "outputs": [
    {
     "output_type": "stream",
     "name": "stdout",
     "text": [
      "최적 파라미터: {'C': 0.5}\n최고 정확도: 0.7725\n"
     ]
    }
   ],
   "source": [
    "params = {'C': [0.4, 0.5, 0.6]}\n",
    "\n",
    "grid_cv = GridSearchCV(lr, param_grid=params, scoring='accuracy', cv=5)\n",
    "grid_cv.fit(X_train, y_train)\n",
    "print('최적 파라미터:', grid_cv.best_params_)\n",
    "print(f'최고 정확도: {grid_cv.best_score_:.4f}')"
   ]
  },
  {
   "cell_type": "code",
   "execution_count": 7,
   "metadata": {},
   "outputs": [
    {
     "output_type": "execute_result",
     "data": {
      "text/plain": [
       "{'C': 1.0,\n",
       " 'break_ties': False,\n",
       " 'cache_size': 200,\n",
       " 'class_weight': None,\n",
       " 'coef0': 0.0,\n",
       " 'decision_function_shape': 'ovr',\n",
       " 'degree': 3,\n",
       " 'gamma': 'scale',\n",
       " 'kernel': 'rbf',\n",
       " 'max_iter': -1,\n",
       " 'probability': False,\n",
       " 'random_state': None,\n",
       " 'shrinking': True,\n",
       " 'tol': 0.001,\n",
       " 'verbose': False}"
      ]
     },
     "metadata": {},
     "execution_count": 7
    }
   ],
   "source": [
    "sv.get_params()"
   ]
  },
  {
   "cell_type": "code",
   "execution_count": 13,
   "metadata": {},
   "outputs": [
    {
     "output_type": "stream",
     "name": "stdout",
     "text": [
      "최적 파라미터: {'C': 0.7}\n최고 정확도: 0.7709\n"
     ]
    }
   ],
   "source": [
    "params = {'C': [0.5, 0.6, 0.7, 0.8]}\n",
    "\n",
    "grid_cv = GridSearchCV(sv, param_grid=params, scoring='accuracy', cv=5)\n",
    "grid_cv.fit(X_train, y_train)\n",
    "print('최적 파라미터:', grid_cv.best_params_)\n",
    "print(f'최고 정확도: {grid_cv.best_score_:.4f}')"
   ]
  },
  {
   "cell_type": "code",
   "execution_count": 14,
   "metadata": {},
   "outputs": [
    {
     "output_type": "execute_result",
     "data": {
      "text/plain": [
       "{'ccp_alpha': 0.0,\n",
       " 'class_weight': None,\n",
       " 'criterion': 'gini',\n",
       " 'max_depth': None,\n",
       " 'max_features': None,\n",
       " 'max_leaf_nodes': None,\n",
       " 'min_impurity_decrease': 0.0,\n",
       " 'min_impurity_split': None,\n",
       " 'min_samples_leaf': 1,\n",
       " 'min_samples_split': 2,\n",
       " 'min_weight_fraction_leaf': 0.0,\n",
       " 'presort': 'deprecated',\n",
       " 'random_state': None,\n",
       " 'splitter': 'best'}"
      ]
     },
     "metadata": {},
     "execution_count": 14
    }
   ],
   "source": [
    "dt.get_params()"
   ]
  },
  {
   "cell_type": "code",
   "execution_count": 22,
   "metadata": {},
   "outputs": [
    {
     "output_type": "stream",
     "name": "stdout",
     "text": [
      "최적 파라미터: {'max_depth': 5, 'min_samples_leaf': 3, 'min_samples_split': 3}\n최고 정확도: 0.7690\n"
     ]
    }
   ],
   "source": [
    "params = {\n",
    "    'max_depth': [3, 5, 7],\n",
    "    'min_samples_split': [2, 3, 4],\n",
    "    'min_samples_leaf': [2, 3, 4]\n",
    "}\n",
    "\n",
    "grid_cv = GridSearchCV(dt, param_grid=params, scoring='accuracy', cv=5)\n",
    "grid_cv.fit(X_train, y_train)\n",
    "print('최적 파라미터:', grid_cv.best_params_)\n",
    "print(f'최고 정확도: {grid_cv.best_score_:.4f}')"
   ]
  },
  {
   "cell_type": "code",
   "execution_count": 23,
   "metadata": {},
   "outputs": [
    {
     "output_type": "execute_result",
     "data": {
      "text/plain": [
       "{'bootstrap': True,\n",
       " 'ccp_alpha': 0.0,\n",
       " 'class_weight': None,\n",
       " 'criterion': 'gini',\n",
       " 'max_depth': None,\n",
       " 'max_features': 'auto',\n",
       " 'max_leaf_nodes': None,\n",
       " 'max_samples': None,\n",
       " 'min_impurity_decrease': 0.0,\n",
       " 'min_impurity_split': None,\n",
       " 'min_samples_leaf': 1,\n",
       " 'min_samples_split': 2,\n",
       " 'min_weight_fraction_leaf': 0.0,\n",
       " 'n_estimators': 100,\n",
       " 'n_jobs': None,\n",
       " 'oob_score': False,\n",
       " 'random_state': None,\n",
       " 'verbose': 0,\n",
       " 'warm_start': False}"
      ]
     },
     "metadata": {},
     "execution_count": 23
    }
   ],
   "source": [
    "rf.get_params()"
   ]
  },
  {
   "cell_type": "code",
   "execution_count": 32,
   "metadata": {},
   "outputs": [
    {
     "output_type": "stream",
     "name": "stdout",
     "text": [
      "최적 파라미터: {'max_depth': 8, 'min_samples_leaf': 2, 'min_samples_split': 9}\n최고 정확도: 0.7968\n"
     ]
    }
   ],
   "source": [
    "params = {\n",
    "    'max_depth': [8, 10, 12],\n",
    "    'min_samples_leaf': [2, 4, 6],\n",
    "    'min_samples_split': [5, 7, 9]\n",
    "}\n",
    "\n",
    "grid_cv = GridSearchCV(rf, param_grid=params, scoring='accuracy', cv=5)\n",
    "grid_cv.fit(X_train, y_train)\n",
    "print('최적 파라미터:', grid_cv.best_params_)\n",
    "print(f'최고 정확도: {grid_cv.best_score_:.4f}')"
   ]
  },
  {
   "cell_type": "code",
   "execution_count": 33,
   "metadata": {},
   "outputs": [
    {
     "output_type": "execute_result",
     "data": {
      "text/plain": [
       "array([[0.05882353, 0.27741935, 0.36734694, ..., 0.38854806, 0.18403074,\n",
       "        0.01666667],\n",
       "       [0.17647059, 0.83225806, 0.59183673, ..., 0.41308793, 0.87916311,\n",
       "        0.06666667],\n",
       "       [0.47058824, 0.98709677, 0.51020408, ..., 0.15746421, 0.47523484,\n",
       "        0.3       ],\n",
       "       ...,\n",
       "       [0.        , 0.36129032, 0.65306122, ..., 0.58486708, 0.37745517,\n",
       "        0.16666667],\n",
       "       [0.05882353, 0.32903226, 0.51020408, ..., 0.15746421, 0.25405636,\n",
       "        0.25      ],\n",
       "       [0.29411765, 0.51612903, 0.51020408, ..., 0.32310838, 0.06063194,\n",
       "        0.28333333]])"
      ]
     },
     "metadata": {},
     "execution_count": 33
    }
   ],
   "source": [
    "X_train"
   ]
  },
  {
   "cell_type": "code",
   "execution_count": 1,
   "metadata": {},
   "outputs": [],
   "source": [
    "import numpy as np\n",
    "import pandas as pd"
   ]
  },
  {
   "cell_type": "code",
   "execution_count": 2,
   "metadata": {},
   "outputs": [
    {
     "output_type": "execute_result",
     "data": {
      "text/plain": [
       "{1: 0, 2: 0, 3: 0, 4: 0, 5: 0}"
      ]
     },
     "metadata": {},
     "execution_count": 2
    }
   ],
   "source": [
    "temp = dict(zip([1, 2, 3, 4, 5], [0] * 5))\n",
    "temp"
   ]
  },
  {
   "cell_type": "code",
   "execution_count": 3,
   "metadata": {},
   "outputs": [
    {
     "output_type": "execute_result",
     "data": {
      "text/plain": [
       "array([0.1, 0.2, 0.5, 0.6, 0.3])"
      ]
     },
     "metadata": {},
     "execution_count": 3
    }
   ],
   "source": [
    "w = np.array([0.1, 0.2, 0.5, 0.6, 0.3])\n",
    "b = 0.5\n",
    "w"
   ]
  },
  {
   "cell_type": "code",
   "execution_count": 11,
   "metadata": {},
   "outputs": [],
   "source": [
    "temp_arr = np.array(list(temp.values()))"
   ]
  },
  {
   "cell_type": "code",
   "execution_count": 12,
   "metadata": {},
   "outputs": [
    {
     "output_type": "execute_result",
     "data": {
      "text/plain": [
       "array([0, 0, 0, 0, 0])"
      ]
     },
     "metadata": {},
     "execution_count": 12
    }
   ],
   "source": [
    "temp_arr"
   ]
  },
  {
   "cell_type": "code",
   "execution_count": 16,
   "metadata": {},
   "outputs": [
    {
     "output_type": "execute_result",
     "data": {
      "text/plain": [
       "array([0.4, 1. , 1. , 0.6, 1.8])"
      ]
     },
     "metadata": {},
     "execution_count": 16
    }
   ],
   "source": [
    "x = np.array([4, 5, 2, 1, 6])\n",
    "t = w * x\n",
    "t"
   ]
  },
  {
   "cell_type": "code",
   "execution_count": 28,
   "metadata": {},
   "outputs": [],
   "source": [
    "df = pd.read_csv('./static/data/boston_test.csv')\n",
    "columns = df.columns.tolist()[:-1]\n",
    "index = 20\n",
    "feature = ['CRIM', 'LSTAT']\n",
    "feature_dict = dict(zip(columns, [0] * len(columns)))\n",
    "for f in feature:\n",
    "    feature_dict.update({f: 1})\n",
    "temp = np.array(list(feature_dict.values()))\n",
    "X = df.iloc[index, :-1].values\n",
    "temp_X = temp * X"
   ]
  },
  {
   "cell_type": "code",
   "execution_count": 20,
   "metadata": {},
   "outputs": [
    {
     "output_type": "execute_result",
     "data": {
      "text/plain": [
       "13"
      ]
     },
     "metadata": {},
     "execution_count": 20
    }
   ],
   "source": [
    "len(columns)"
   ]
  },
  {
   "cell_type": "code",
   "execution_count": 30,
   "metadata": {},
   "outputs": [
    {
     "output_type": "execute_result",
     "data": {
      "text/plain": [
       "array([1, 0, 0, 0, 0, 0, 0, 0, 0, 0, 0, 0, 1])"
      ]
     },
     "metadata": {},
     "execution_count": 30
    }
   ],
   "source": [
    "temp"
   ]
  },
  {
   "cell_type": "code",
   "execution_count": 29,
   "metadata": {},
   "outputs": [
    {
     "output_type": "execute_result",
     "data": {
      "text/plain": [
       "{'CRIM': 1,\n",
       " 'ZN': 0,\n",
       " 'INDUS': 0,\n",
       " 'CHAS': 0,\n",
       " 'NOX': 0,\n",
       " 'RM': 0,\n",
       " 'AGE': 0,\n",
       " 'DIS': 0,\n",
       " 'RAD': 0,\n",
       " 'TAX': 0,\n",
       " 'PTRATIO': 0,\n",
       " 'B': 0,\n",
       " 'LSTAT': 1}"
      ]
     },
     "metadata": {},
     "execution_count": 29
    }
   ],
   "source": [
    "feature_dict"
   ]
  },
  {
   "cell_type": "code",
   "execution_count": 31,
   "metadata": {},
   "outputs": [
    {
     "output_type": "execute_result",
     "data": {
      "text/plain": [
       "array([0.06151, 0.     , 0.     , 0.     , 0.     , 0.     , 0.     ,\n",
       "       0.     , 0.     , 0.     , 0.     , 0.     , 9.29   ])"
      ]
     },
     "metadata": {},
     "execution_count": 31
    }
   ],
   "source": [
    "temp_X"
   ]
  },
  {
   "cell_type": "code",
   "execution_count": null,
   "metadata": {},
   "outputs": [],
   "source": []
  }
 ]
}