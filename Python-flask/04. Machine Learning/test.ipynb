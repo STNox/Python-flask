{
 "metadata": {
  "language_info": {
   "codemirror_mode": {
    "name": "ipython",
    "version": 3
   },
   "file_extension": ".py",
   "mimetype": "text/x-python",
   "name": "python",
   "nbconvert_exporter": "python",
   "pygments_lexer": "ipython3",
   "version": "3.8.3-final"
  },
  "orig_nbformat": 2,
  "kernelspec": {
   "name": "python3",
   "display_name": "Python 3",
   "language": "python"
  }
 },
 "nbformat": 4,
 "nbformat_minor": 2,
 "cells": [
  {
   "cell_type": "code",
   "execution_count": 4,
   "metadata": {},
   "outputs": [],
   "source": [
    "from sklearn.datasets import load_iris\n",
    "iris = load_iris()\n",
    "filename = iris.filename"
   ]
  },
  {
   "cell_type": "code",
   "execution_count": 5,
   "metadata": {},
   "outputs": [
    {
     "output_type": "execute_result",
     "data": {
      "text/plain": [
       "     150    4  setosa  versicolor  virginica\n",
       "0    5.1  3.5     1.4         0.2          0\n",
       "1    4.9  3.0     1.4         0.2          0\n",
       "2    4.7  3.2     1.3         0.2          0\n",
       "3    4.6  3.1     1.5         0.2          0\n",
       "4    5.0  3.6     1.4         0.2          0\n",
       "..   ...  ...     ...         ...        ...\n",
       "145  6.7  3.0     5.2         2.3          2\n",
       "146  6.3  2.5     5.0         1.9          2\n",
       "147  6.5  3.0     5.2         2.0          2\n",
       "148  6.2  3.4     5.4         2.3          2\n",
       "149  5.9  3.0     5.1         1.8          2\n",
       "\n",
       "[150 rows x 5 columns]"
      ],
      "text/html": "<div>\n<style scoped>\n    .dataframe tbody tr th:only-of-type {\n        vertical-align: middle;\n    }\n\n    .dataframe tbody tr th {\n        vertical-align: top;\n    }\n\n    .dataframe thead th {\n        text-align: right;\n    }\n</style>\n<table border=\"1\" class=\"dataframe\">\n  <thead>\n    <tr style=\"text-align: right;\">\n      <th></th>\n      <th>150</th>\n      <th>4</th>\n      <th>setosa</th>\n      <th>versicolor</th>\n      <th>virginica</th>\n    </tr>\n  </thead>\n  <tbody>\n    <tr>\n      <th>0</th>\n      <td>5.1</td>\n      <td>3.5</td>\n      <td>1.4</td>\n      <td>0.2</td>\n      <td>0</td>\n    </tr>\n    <tr>\n      <th>1</th>\n      <td>4.9</td>\n      <td>3.0</td>\n      <td>1.4</td>\n      <td>0.2</td>\n      <td>0</td>\n    </tr>\n    <tr>\n      <th>2</th>\n      <td>4.7</td>\n      <td>3.2</td>\n      <td>1.3</td>\n      <td>0.2</td>\n      <td>0</td>\n    </tr>\n    <tr>\n      <th>3</th>\n      <td>4.6</td>\n      <td>3.1</td>\n      <td>1.5</td>\n      <td>0.2</td>\n      <td>0</td>\n    </tr>\n    <tr>\n      <th>4</th>\n      <td>5.0</td>\n      <td>3.6</td>\n      <td>1.4</td>\n      <td>0.2</td>\n      <td>0</td>\n    </tr>\n    <tr>\n      <th>...</th>\n      <td>...</td>\n      <td>...</td>\n      <td>...</td>\n      <td>...</td>\n      <td>...</td>\n    </tr>\n    <tr>\n      <th>145</th>\n      <td>6.7</td>\n      <td>3.0</td>\n      <td>5.2</td>\n      <td>2.3</td>\n      <td>2</td>\n    </tr>\n    <tr>\n      <th>146</th>\n      <td>6.3</td>\n      <td>2.5</td>\n      <td>5.0</td>\n      <td>1.9</td>\n      <td>2</td>\n    </tr>\n    <tr>\n      <th>147</th>\n      <td>6.5</td>\n      <td>3.0</td>\n      <td>5.2</td>\n      <td>2.0</td>\n      <td>2</td>\n    </tr>\n    <tr>\n      <th>148</th>\n      <td>6.2</td>\n      <td>3.4</td>\n      <td>5.4</td>\n      <td>2.3</td>\n      <td>2</td>\n    </tr>\n    <tr>\n      <th>149</th>\n      <td>5.9</td>\n      <td>3.0</td>\n      <td>5.1</td>\n      <td>1.8</td>\n      <td>2</td>\n    </tr>\n  </tbody>\n</table>\n<p>150 rows × 5 columns</p>\n</div>"
     },
     "metadata": {},
     "execution_count": 5
    }
   ],
   "source": [
    "import pandas as pd\n",
    "df = pd.read_csv(filename)\n",
    "df"
   ]
  },
  {
   "cell_type": "code",
   "execution_count": 6,
   "metadata": {},
   "outputs": [
    {
     "output_type": "execute_result",
     "data": {
      "text/plain": [
       "     sepal length (cm)  sepal width (cm)  petal length (cm)  petal width (cm)\n",
       "0                  5.1               3.5                1.4               0.2\n",
       "1                  4.9               3.0                1.4               0.2\n",
       "2                  4.7               3.2                1.3               0.2\n",
       "3                  4.6               3.1                1.5               0.2\n",
       "4                  5.0               3.6                1.4               0.2\n",
       "..                 ...               ...                ...               ...\n",
       "145                6.7               3.0                5.2               2.3\n",
       "146                6.3               2.5                5.0               1.9\n",
       "147                6.5               3.0                5.2               2.0\n",
       "148                6.2               3.4                5.4               2.3\n",
       "149                5.9               3.0                5.1               1.8\n",
       "\n",
       "[150 rows x 4 columns]"
      ],
      "text/html": "<div>\n<style scoped>\n    .dataframe tbody tr th:only-of-type {\n        vertical-align: middle;\n    }\n\n    .dataframe tbody tr th {\n        vertical-align: top;\n    }\n\n    .dataframe thead th {\n        text-align: right;\n    }\n</style>\n<table border=\"1\" class=\"dataframe\">\n  <thead>\n    <tr style=\"text-align: right;\">\n      <th></th>\n      <th>sepal length (cm)</th>\n      <th>sepal width (cm)</th>\n      <th>petal length (cm)</th>\n      <th>petal width (cm)</th>\n    </tr>\n  </thead>\n  <tbody>\n    <tr>\n      <th>0</th>\n      <td>5.1</td>\n      <td>3.5</td>\n      <td>1.4</td>\n      <td>0.2</td>\n    </tr>\n    <tr>\n      <th>1</th>\n      <td>4.9</td>\n      <td>3.0</td>\n      <td>1.4</td>\n      <td>0.2</td>\n    </tr>\n    <tr>\n      <th>2</th>\n      <td>4.7</td>\n      <td>3.2</td>\n      <td>1.3</td>\n      <td>0.2</td>\n    </tr>\n    <tr>\n      <th>3</th>\n      <td>4.6</td>\n      <td>3.1</td>\n      <td>1.5</td>\n      <td>0.2</td>\n    </tr>\n    <tr>\n      <th>4</th>\n      <td>5.0</td>\n      <td>3.6</td>\n      <td>1.4</td>\n      <td>0.2</td>\n    </tr>\n    <tr>\n      <th>...</th>\n      <td>...</td>\n      <td>...</td>\n      <td>...</td>\n      <td>...</td>\n    </tr>\n    <tr>\n      <th>145</th>\n      <td>6.7</td>\n      <td>3.0</td>\n      <td>5.2</td>\n      <td>2.3</td>\n    </tr>\n    <tr>\n      <th>146</th>\n      <td>6.3</td>\n      <td>2.5</td>\n      <td>5.0</td>\n      <td>1.9</td>\n    </tr>\n    <tr>\n      <th>147</th>\n      <td>6.5</td>\n      <td>3.0</td>\n      <td>5.2</td>\n      <td>2.0</td>\n    </tr>\n    <tr>\n      <th>148</th>\n      <td>6.2</td>\n      <td>3.4</td>\n      <td>5.4</td>\n      <td>2.3</td>\n    </tr>\n    <tr>\n      <th>149</th>\n      <td>5.9</td>\n      <td>3.0</td>\n      <td>5.1</td>\n      <td>1.8</td>\n    </tr>\n  </tbody>\n</table>\n<p>150 rows × 4 columns</p>\n</div>"
     },
     "metadata": {},
     "execution_count": 6
    }
   ],
   "source": [
    "df2 = pd.DataFrame(iris.data, columns=iris.feature_names)\n",
    "df2"
   ]
  },
  {
   "cell_type": "code",
   "execution_count": 9,
   "metadata": {},
   "outputs": [
    {
     "output_type": "error",
     "ename": "AttributeError",
     "evalue": "'DataFrame' object has no attribute 'data'",
     "traceback": [
      "\u001b[1;31m---------------------------------------------------------------------------\u001b[0m",
      "\u001b[1;31mAttributeError\u001b[0m                            Traceback (most recent call last)",
      "\u001b[1;32m<ipython-input-9-7218c6e9dcff>\u001b[0m in \u001b[0;36m<module>\u001b[1;34m\u001b[0m\n\u001b[1;32m----> 1\u001b[1;33m \u001b[0mdf\u001b[0m\u001b[1;33m.\u001b[0m\u001b[0mdata\u001b[0m\u001b[1;33m\u001b[0m\u001b[1;33m\u001b[0m\u001b[0m\n\u001b[0m",
      "\u001b[1;32m~\\anaconda3\\lib\\site-packages\\pandas\\core\\generic.py\u001b[0m in \u001b[0;36m__getattr__\u001b[1;34m(self, name)\u001b[0m\n\u001b[0;32m   5272\u001b[0m             \u001b[1;32mif\u001b[0m \u001b[0mself\u001b[0m\u001b[1;33m.\u001b[0m\u001b[0m_info_axis\u001b[0m\u001b[1;33m.\u001b[0m\u001b[0m_can_hold_identifiers_and_holds_name\u001b[0m\u001b[1;33m(\u001b[0m\u001b[0mname\u001b[0m\u001b[1;33m)\u001b[0m\u001b[1;33m:\u001b[0m\u001b[1;33m\u001b[0m\u001b[1;33m\u001b[0m\u001b[0m\n\u001b[0;32m   5273\u001b[0m                 \u001b[1;32mreturn\u001b[0m \u001b[0mself\u001b[0m\u001b[1;33m[\u001b[0m\u001b[0mname\u001b[0m\u001b[1;33m]\u001b[0m\u001b[1;33m\u001b[0m\u001b[1;33m\u001b[0m\u001b[0m\n\u001b[1;32m-> 5274\u001b[1;33m             \u001b[1;32mreturn\u001b[0m \u001b[0mobject\u001b[0m\u001b[1;33m.\u001b[0m\u001b[0m__getattribute__\u001b[0m\u001b[1;33m(\u001b[0m\u001b[0mself\u001b[0m\u001b[1;33m,\u001b[0m \u001b[0mname\u001b[0m\u001b[1;33m)\u001b[0m\u001b[1;33m\u001b[0m\u001b[1;33m\u001b[0m\u001b[0m\n\u001b[0m\u001b[0;32m   5275\u001b[0m \u001b[1;33m\u001b[0m\u001b[0m\n\u001b[0;32m   5276\u001b[0m     \u001b[1;32mdef\u001b[0m \u001b[0m__setattr__\u001b[0m\u001b[1;33m(\u001b[0m\u001b[0mself\u001b[0m\u001b[1;33m,\u001b[0m \u001b[0mname\u001b[0m\u001b[1;33m:\u001b[0m \u001b[0mstr\u001b[0m\u001b[1;33m,\u001b[0m \u001b[0mvalue\u001b[0m\u001b[1;33m)\u001b[0m \u001b[1;33m->\u001b[0m \u001b[1;32mNone\u001b[0m\u001b[1;33m:\u001b[0m\u001b[1;33m\u001b[0m\u001b[1;33m\u001b[0m\u001b[0m\n",
      "\u001b[1;31mAttributeError\u001b[0m: 'DataFrame' object has no attribute 'data'"
     ]
    }
   ],
   "source": [
    "df.data"
   ]
  },
  {
   "cell_type": "code",
   "execution_count": 10,
   "metadata": {},
   "outputs": [
    {
     "output_type": "execute_result",
     "data": {
      "text/plain": [
       "'C:\\\\Users\\\\caush\\\\anaconda3\\\\lib\\\\site-packages\\\\sklearn\\\\datasets\\\\data\\\\iris.csv'"
      ]
     },
     "metadata": {},
     "execution_count": 10
    }
   ],
   "source": [
    "iris.filename"
   ]
  },
  {
   "cell_type": "code",
   "execution_count": 11,
   "metadata": {},
   "outputs": [
    {
     "output_type": "execute_result",
     "data": {
      "text/plain": [
       "     mean radius  mean texture  mean perimeter  mean area  mean smoothness  \\\n",
       "0         15.660         23.20          110.20      773.5          0.11090   \n",
       "1         16.160         21.54          106.20      809.8          0.10080   \n",
       "2         22.270         19.67          152.80     1509.0          0.13260   \n",
       "3         11.760         18.14           75.00      431.1          0.09968   \n",
       "4         17.930         24.48          115.20      998.9          0.08855   \n",
       "..           ...           ...             ...        ...              ...   \n",
       "421       13.170         21.81           85.42      531.5          0.09714   \n",
       "422       15.100         16.39           99.58      674.5          0.11500   \n",
       "423       14.710         21.59           95.55      656.9          0.11370   \n",
       "424        9.606         16.84           61.64      280.5          0.08481   \n",
       "425        8.950         15.76           58.74      245.2          0.09462   \n",
       "\n",
       "     mean compactness  mean concavity  mean concave points  mean symmetry  \\\n",
       "0             0.31140         0.31760              0.13770         0.2495   \n",
       "1             0.12840         0.10430              0.05613         0.2160   \n",
       "2             0.27680         0.42640              0.18230         0.2556   \n",
       "3             0.05914         0.02685              0.03515         0.1619   \n",
       "4             0.07027         0.05699              0.04744         0.1538   \n",
       "..                ...             ...                  ...            ...   \n",
       "421           0.10470         0.08259              0.05252         0.1746   \n",
       "422           0.18070         0.11380              0.08534         0.2001   \n",
       "423           0.13650         0.12930              0.08123         0.2027   \n",
       "424           0.09228         0.08422              0.02292         0.2036   \n",
       "425           0.12430         0.09263              0.02308         0.1305   \n",
       "\n",
       "     mean fractal dimension  ...  worst texture  worst perimeter  worst area  \\\n",
       "0                   0.08104  ...          31.64           143.70      1226.0   \n",
       "1                   0.05891  ...          31.68           129.70      1175.0   \n",
       "2                   0.07039  ...          28.01           206.80      2360.0   \n",
       "3                   0.06287  ...          23.39            85.10       553.6   \n",
       "4                   0.05510  ...          34.69           135.10      1320.0   \n",
       "..                      ...  ...            ...              ...         ...   \n",
       "421                 0.06177  ...          29.89           105.50       740.7   \n",
       "422                 0.06467  ...          18.33           105.90       762.6   \n",
       "423                 0.06758  ...          30.70           115.70       985.5   \n",
       "424                 0.07125  ...          23.07            71.25       353.6   \n",
       "425                 0.07163  ...          17.07            63.34       270.0   \n",
       "\n",
       "     worst smoothness  worst compactness  worst concavity  \\\n",
       "0              0.1504            0.51720           0.6181   \n",
       "1              0.1395            0.30550           0.2992   \n",
       "2              0.1701            0.69970           0.9608   \n",
       "3              0.1137            0.07974           0.0612   \n",
       "4              0.1315            0.18060           0.2080   \n",
       "..                ...                ...              ...   \n",
       "421            0.1503            0.39040           0.3728   \n",
       "422            0.1386            0.28830           0.1960   \n",
       "423            0.1368            0.42900           0.3587   \n",
       "424            0.1233            0.34160           0.4341   \n",
       "425            0.1179            0.18790           0.1544   \n",
       "\n",
       "     worst concave points  worst symmetry  worst fractal dimension  target  \n",
       "0                 0.24620          0.3277                  0.10190       0  \n",
       "1                 0.13120          0.3480                  0.07619       0  \n",
       "2                 0.29100          0.4055                  0.09789       0  \n",
       "3                 0.07160          0.1978                  0.06915       0  \n",
       "4                 0.11360          0.2504                  0.07948       0  \n",
       "..                    ...             ...                      ...     ...  \n",
       "421               0.16070          0.3693                  0.09618       0  \n",
       "422               0.14230          0.2590                  0.07779       1  \n",
       "423               0.18340          0.3698                  0.10940       0  \n",
       "424               0.08120          0.2982                  0.09825       1  \n",
       "425               0.03846          0.1652                  0.07722       1  \n",
       "\n",
       "[426 rows x 31 columns]"
      ],
      "text/html": "<div>\n<style scoped>\n    .dataframe tbody tr th:only-of-type {\n        vertical-align: middle;\n    }\n\n    .dataframe tbody tr th {\n        vertical-align: top;\n    }\n\n    .dataframe thead th {\n        text-align: right;\n    }\n</style>\n<table border=\"1\" class=\"dataframe\">\n  <thead>\n    <tr style=\"text-align: right;\">\n      <th></th>\n      <th>mean radius</th>\n      <th>mean texture</th>\n      <th>mean perimeter</th>\n      <th>mean area</th>\n      <th>mean smoothness</th>\n      <th>mean compactness</th>\n      <th>mean concavity</th>\n      <th>mean concave points</th>\n      <th>mean symmetry</th>\n      <th>mean fractal dimension</th>\n      <th>...</th>\n      <th>worst texture</th>\n      <th>worst perimeter</th>\n      <th>worst area</th>\n      <th>worst smoothness</th>\n      <th>worst compactness</th>\n      <th>worst concavity</th>\n      <th>worst concave points</th>\n      <th>worst symmetry</th>\n      <th>worst fractal dimension</th>\n      <th>target</th>\n    </tr>\n  </thead>\n  <tbody>\n    <tr>\n      <th>0</th>\n      <td>15.660</td>\n      <td>23.20</td>\n      <td>110.20</td>\n      <td>773.5</td>\n      <td>0.11090</td>\n      <td>0.31140</td>\n      <td>0.31760</td>\n      <td>0.13770</td>\n      <td>0.2495</td>\n      <td>0.08104</td>\n      <td>...</td>\n      <td>31.64</td>\n      <td>143.70</td>\n      <td>1226.0</td>\n      <td>0.1504</td>\n      <td>0.51720</td>\n      <td>0.6181</td>\n      <td>0.24620</td>\n      <td>0.3277</td>\n      <td>0.10190</td>\n      <td>0</td>\n    </tr>\n    <tr>\n      <th>1</th>\n      <td>16.160</td>\n      <td>21.54</td>\n      <td>106.20</td>\n      <td>809.8</td>\n      <td>0.10080</td>\n      <td>0.12840</td>\n      <td>0.10430</td>\n      <td>0.05613</td>\n      <td>0.2160</td>\n      <td>0.05891</td>\n      <td>...</td>\n      <td>31.68</td>\n      <td>129.70</td>\n      <td>1175.0</td>\n      <td>0.1395</td>\n      <td>0.30550</td>\n      <td>0.2992</td>\n      <td>0.13120</td>\n      <td>0.3480</td>\n      <td>0.07619</td>\n      <td>0</td>\n    </tr>\n    <tr>\n      <th>2</th>\n      <td>22.270</td>\n      <td>19.67</td>\n      <td>152.80</td>\n      <td>1509.0</td>\n      <td>0.13260</td>\n      <td>0.27680</td>\n      <td>0.42640</td>\n      <td>0.18230</td>\n      <td>0.2556</td>\n      <td>0.07039</td>\n      <td>...</td>\n      <td>28.01</td>\n      <td>206.80</td>\n      <td>2360.0</td>\n      <td>0.1701</td>\n      <td>0.69970</td>\n      <td>0.9608</td>\n      <td>0.29100</td>\n      <td>0.4055</td>\n      <td>0.09789</td>\n      <td>0</td>\n    </tr>\n    <tr>\n      <th>3</th>\n      <td>11.760</td>\n      <td>18.14</td>\n      <td>75.00</td>\n      <td>431.1</td>\n      <td>0.09968</td>\n      <td>0.05914</td>\n      <td>0.02685</td>\n      <td>0.03515</td>\n      <td>0.1619</td>\n      <td>0.06287</td>\n      <td>...</td>\n      <td>23.39</td>\n      <td>85.10</td>\n      <td>553.6</td>\n      <td>0.1137</td>\n      <td>0.07974</td>\n      <td>0.0612</td>\n      <td>0.07160</td>\n      <td>0.1978</td>\n      <td>0.06915</td>\n      <td>0</td>\n    </tr>\n    <tr>\n      <th>4</th>\n      <td>17.930</td>\n      <td>24.48</td>\n      <td>115.20</td>\n      <td>998.9</td>\n      <td>0.08855</td>\n      <td>0.07027</td>\n      <td>0.05699</td>\n      <td>0.04744</td>\n      <td>0.1538</td>\n      <td>0.05510</td>\n      <td>...</td>\n      <td>34.69</td>\n      <td>135.10</td>\n      <td>1320.0</td>\n      <td>0.1315</td>\n      <td>0.18060</td>\n      <td>0.2080</td>\n      <td>0.11360</td>\n      <td>0.2504</td>\n      <td>0.07948</td>\n      <td>0</td>\n    </tr>\n    <tr>\n      <th>...</th>\n      <td>...</td>\n      <td>...</td>\n      <td>...</td>\n      <td>...</td>\n      <td>...</td>\n      <td>...</td>\n      <td>...</td>\n      <td>...</td>\n      <td>...</td>\n      <td>...</td>\n      <td>...</td>\n      <td>...</td>\n      <td>...</td>\n      <td>...</td>\n      <td>...</td>\n      <td>...</td>\n      <td>...</td>\n      <td>...</td>\n      <td>...</td>\n      <td>...</td>\n      <td>...</td>\n    </tr>\n    <tr>\n      <th>421</th>\n      <td>13.170</td>\n      <td>21.81</td>\n      <td>85.42</td>\n      <td>531.5</td>\n      <td>0.09714</td>\n      <td>0.10470</td>\n      <td>0.08259</td>\n      <td>0.05252</td>\n      <td>0.1746</td>\n      <td>0.06177</td>\n      <td>...</td>\n      <td>29.89</td>\n      <td>105.50</td>\n      <td>740.7</td>\n      <td>0.1503</td>\n      <td>0.39040</td>\n      <td>0.3728</td>\n      <td>0.16070</td>\n      <td>0.3693</td>\n      <td>0.09618</td>\n      <td>0</td>\n    </tr>\n    <tr>\n      <th>422</th>\n      <td>15.100</td>\n      <td>16.39</td>\n      <td>99.58</td>\n      <td>674.5</td>\n      <td>0.11500</td>\n      <td>0.18070</td>\n      <td>0.11380</td>\n      <td>0.08534</td>\n      <td>0.2001</td>\n      <td>0.06467</td>\n      <td>...</td>\n      <td>18.33</td>\n      <td>105.90</td>\n      <td>762.6</td>\n      <td>0.1386</td>\n      <td>0.28830</td>\n      <td>0.1960</td>\n      <td>0.14230</td>\n      <td>0.2590</td>\n      <td>0.07779</td>\n      <td>1</td>\n    </tr>\n    <tr>\n      <th>423</th>\n      <td>14.710</td>\n      <td>21.59</td>\n      <td>95.55</td>\n      <td>656.9</td>\n      <td>0.11370</td>\n      <td>0.13650</td>\n      <td>0.12930</td>\n      <td>0.08123</td>\n      <td>0.2027</td>\n      <td>0.06758</td>\n      <td>...</td>\n      <td>30.70</td>\n      <td>115.70</td>\n      <td>985.5</td>\n      <td>0.1368</td>\n      <td>0.42900</td>\n      <td>0.3587</td>\n      <td>0.18340</td>\n      <td>0.3698</td>\n      <td>0.10940</td>\n      <td>0</td>\n    </tr>\n    <tr>\n      <th>424</th>\n      <td>9.606</td>\n      <td>16.84</td>\n      <td>61.64</td>\n      <td>280.5</td>\n      <td>0.08481</td>\n      <td>0.09228</td>\n      <td>0.08422</td>\n      <td>0.02292</td>\n      <td>0.2036</td>\n      <td>0.07125</td>\n      <td>...</td>\n      <td>23.07</td>\n      <td>71.25</td>\n      <td>353.6</td>\n      <td>0.1233</td>\n      <td>0.34160</td>\n      <td>0.4341</td>\n      <td>0.08120</td>\n      <td>0.2982</td>\n      <td>0.09825</td>\n      <td>1</td>\n    </tr>\n    <tr>\n      <th>425</th>\n      <td>8.950</td>\n      <td>15.76</td>\n      <td>58.74</td>\n      <td>245.2</td>\n      <td>0.09462</td>\n      <td>0.12430</td>\n      <td>0.09263</td>\n      <td>0.02308</td>\n      <td>0.1305</td>\n      <td>0.07163</td>\n      <td>...</td>\n      <td>17.07</td>\n      <td>63.34</td>\n      <td>270.0</td>\n      <td>0.1179</td>\n      <td>0.18790</td>\n      <td>0.1544</td>\n      <td>0.03846</td>\n      <td>0.1652</td>\n      <td>0.07722</td>\n      <td>1</td>\n    </tr>\n  </tbody>\n</table>\n<p>426 rows × 31 columns</p>\n</div>"
     },
     "metadata": {},
     "execution_count": 11
    }
   ],
   "source": [
    "cancer = pd.read_csv('./static/data/cancer_train.csv')\n",
    "cancer"
   ]
  },
  {
   "cell_type": "code",
   "execution_count": 8,
   "metadata": {},
   "outputs": [
    {
     "output_type": "execute_result",
     "data": {
      "text/plain": [
       "sepal length (cm)    4.4\n",
       "sepal width (cm)     3.2\n",
       "petal length (cm)    1.3\n",
       "petal width (cm)     0.2\n",
       "target               0.0\n",
       "Name: 0, dtype: float64"
      ]
     },
     "metadata": {},
     "execution_count": 8
    }
   ],
   "source": [
    "import pandas as pd\n",
    "df = pd.read_csv('./static/data/iris_test.csv')\n",
    "X_test = df.iloc[0, :]\n",
    "X_test"
   ]
  },
  {
   "cell_type": "code",
   "execution_count": 9,
   "metadata": {},
   "outputs": [
    {
     "output_type": "execute_result",
     "data": {
      "text/plain": [
       "    sepal length (cm)  sepal width (cm)  petal length (cm)  petal width (cm)  \\\n",
       "0                 4.4               3.2                1.3               0.2   \n",
       "1                 4.6               3.6                1.0               0.2   \n",
       "2                 5.5               2.4                3.8               1.1   \n",
       "3                 4.3               3.0                1.1               0.1   \n",
       "4                 5.2               3.4                1.4               0.2   \n",
       "5                 5.1               3.5                1.4               0.2   \n",
       "6                 4.4               2.9                1.4               0.2   \n",
       "7                 4.8               3.1                1.6               0.2   \n",
       "8                 4.7               3.2                1.3               0.2   \n",
       "9                 5.0               3.5                1.6               0.6   \n",
       "10                5.0               3.2                1.2               0.2   \n",
       "11                6.1               2.8                4.7               1.2   \n",
       "12                5.7               2.5                5.0               2.0   \n",
       "13                6.4               3.2                5.3               2.3   \n",
       "14                6.1               3.0                4.6               1.4   \n",
       "15                7.2               3.2                6.0               1.8   \n",
       "16                5.7               2.8                4.5               1.3   \n",
       "17                5.6               2.5                3.9               1.1   \n",
       "18                5.1               3.3                1.7               0.5   \n",
       "19                5.6               3.0                4.5               1.5   \n",
       "20                5.9               3.0                4.2               1.5   \n",
       "21                6.8               3.0                5.5               2.1   \n",
       "22                6.1               2.6                5.6               1.4   \n",
       "23                5.0               3.6                1.4               0.2   \n",
       "24                6.3               2.8                5.1               1.5   \n",
       "25                6.7               3.1                4.4               1.4   \n",
       "26                6.4               2.9                4.3               1.3   \n",
       "27                6.3               2.5                4.9               1.5   \n",
       "28                4.8               3.0                1.4               0.1   \n",
       "29                4.6               3.4                1.4               0.3   \n",
       "30                5.5               2.4                3.7               1.0   \n",
       "31                6.2               2.9                4.3               1.3   \n",
       "32                4.9               3.1                1.5               0.2   \n",
       "33                6.4               2.8                5.6               2.2   \n",
       "34                6.6               2.9                4.6               1.3   \n",
       "35                6.2               2.2                4.5               1.5   \n",
       "36                6.5               3.0                5.8               2.2   \n",
       "37                4.8               3.4                1.9               0.2   \n",
       "\n",
       "    target  \n",
       "0        0  \n",
       "1        0  \n",
       "2        1  \n",
       "3        0  \n",
       "4        0  \n",
       "5        0  \n",
       "6        0  \n",
       "7        0  \n",
       "8        0  \n",
       "9        0  \n",
       "10       0  \n",
       "11       1  \n",
       "12       2  \n",
       "13       2  \n",
       "14       1  \n",
       "15       2  \n",
       "16       1  \n",
       "17       1  \n",
       "18       0  \n",
       "19       1  \n",
       "20       1  \n",
       "21       2  \n",
       "22       2  \n",
       "23       0  \n",
       "24       2  \n",
       "25       1  \n",
       "26       1  \n",
       "27       1  \n",
       "28       0  \n",
       "29       0  \n",
       "30       1  \n",
       "31       1  \n",
       "32       0  \n",
       "33       2  \n",
       "34       1  \n",
       "35       1  \n",
       "36       2  \n",
       "37       0  "
      ],
      "text/html": "<div>\n<style scoped>\n    .dataframe tbody tr th:only-of-type {\n        vertical-align: middle;\n    }\n\n    .dataframe tbody tr th {\n        vertical-align: top;\n    }\n\n    .dataframe thead th {\n        text-align: right;\n    }\n</style>\n<table border=\"1\" class=\"dataframe\">\n  <thead>\n    <tr style=\"text-align: right;\">\n      <th></th>\n      <th>sepal length (cm)</th>\n      <th>sepal width (cm)</th>\n      <th>petal length (cm)</th>\n      <th>petal width (cm)</th>\n      <th>target</th>\n    </tr>\n  </thead>\n  <tbody>\n    <tr>\n      <th>0</th>\n      <td>4.4</td>\n      <td>3.2</td>\n      <td>1.3</td>\n      <td>0.2</td>\n      <td>0</td>\n    </tr>\n    <tr>\n      <th>1</th>\n      <td>4.6</td>\n      <td>3.6</td>\n      <td>1.0</td>\n      <td>0.2</td>\n      <td>0</td>\n    </tr>\n    <tr>\n      <th>2</th>\n      <td>5.5</td>\n      <td>2.4</td>\n      <td>3.8</td>\n      <td>1.1</td>\n      <td>1</td>\n    </tr>\n    <tr>\n      <th>3</th>\n      <td>4.3</td>\n      <td>3.0</td>\n      <td>1.1</td>\n      <td>0.1</td>\n      <td>0</td>\n    </tr>\n    <tr>\n      <th>4</th>\n      <td>5.2</td>\n      <td>3.4</td>\n      <td>1.4</td>\n      <td>0.2</td>\n      <td>0</td>\n    </tr>\n    <tr>\n      <th>5</th>\n      <td>5.1</td>\n      <td>3.5</td>\n      <td>1.4</td>\n      <td>0.2</td>\n      <td>0</td>\n    </tr>\n    <tr>\n      <th>6</th>\n      <td>4.4</td>\n      <td>2.9</td>\n      <td>1.4</td>\n      <td>0.2</td>\n      <td>0</td>\n    </tr>\n    <tr>\n      <th>7</th>\n      <td>4.8</td>\n      <td>3.1</td>\n      <td>1.6</td>\n      <td>0.2</td>\n      <td>0</td>\n    </tr>\n    <tr>\n      <th>8</th>\n      <td>4.7</td>\n      <td>3.2</td>\n      <td>1.3</td>\n      <td>0.2</td>\n      <td>0</td>\n    </tr>\n    <tr>\n      <th>9</th>\n      <td>5.0</td>\n      <td>3.5</td>\n      <td>1.6</td>\n      <td>0.6</td>\n      <td>0</td>\n    </tr>\n    <tr>\n      <th>10</th>\n      <td>5.0</td>\n      <td>3.2</td>\n      <td>1.2</td>\n      <td>0.2</td>\n      <td>0</td>\n    </tr>\n    <tr>\n      <th>11</th>\n      <td>6.1</td>\n      <td>2.8</td>\n      <td>4.7</td>\n      <td>1.2</td>\n      <td>1</td>\n    </tr>\n    <tr>\n      <th>12</th>\n      <td>5.7</td>\n      <td>2.5</td>\n      <td>5.0</td>\n      <td>2.0</td>\n      <td>2</td>\n    </tr>\n    <tr>\n      <th>13</th>\n      <td>6.4</td>\n      <td>3.2</td>\n      <td>5.3</td>\n      <td>2.3</td>\n      <td>2</td>\n    </tr>\n    <tr>\n      <th>14</th>\n      <td>6.1</td>\n      <td>3.0</td>\n      <td>4.6</td>\n      <td>1.4</td>\n      <td>1</td>\n    </tr>\n    <tr>\n      <th>15</th>\n      <td>7.2</td>\n      <td>3.2</td>\n      <td>6.0</td>\n      <td>1.8</td>\n      <td>2</td>\n    </tr>\n    <tr>\n      <th>16</th>\n      <td>5.7</td>\n      <td>2.8</td>\n      <td>4.5</td>\n      <td>1.3</td>\n      <td>1</td>\n    </tr>\n    <tr>\n      <th>17</th>\n      <td>5.6</td>\n      <td>2.5</td>\n      <td>3.9</td>\n      <td>1.1</td>\n      <td>1</td>\n    </tr>\n    <tr>\n      <th>18</th>\n      <td>5.1</td>\n      <td>3.3</td>\n      <td>1.7</td>\n      <td>0.5</td>\n      <td>0</td>\n    </tr>\n    <tr>\n      <th>19</th>\n      <td>5.6</td>\n      <td>3.0</td>\n      <td>4.5</td>\n      <td>1.5</td>\n      <td>1</td>\n    </tr>\n    <tr>\n      <th>20</th>\n      <td>5.9</td>\n      <td>3.0</td>\n      <td>4.2</td>\n      <td>1.5</td>\n      <td>1</td>\n    </tr>\n    <tr>\n      <th>21</th>\n      <td>6.8</td>\n      <td>3.0</td>\n      <td>5.5</td>\n      <td>2.1</td>\n      <td>2</td>\n    </tr>\n    <tr>\n      <th>22</th>\n      <td>6.1</td>\n      <td>2.6</td>\n      <td>5.6</td>\n      <td>1.4</td>\n      <td>2</td>\n    </tr>\n    <tr>\n      <th>23</th>\n      <td>5.0</td>\n      <td>3.6</td>\n      <td>1.4</td>\n      <td>0.2</td>\n      <td>0</td>\n    </tr>\n    <tr>\n      <th>24</th>\n      <td>6.3</td>\n      <td>2.8</td>\n      <td>5.1</td>\n      <td>1.5</td>\n      <td>2</td>\n    </tr>\n    <tr>\n      <th>25</th>\n      <td>6.7</td>\n      <td>3.1</td>\n      <td>4.4</td>\n      <td>1.4</td>\n      <td>1</td>\n    </tr>\n    <tr>\n      <th>26</th>\n      <td>6.4</td>\n      <td>2.9</td>\n      <td>4.3</td>\n      <td>1.3</td>\n      <td>1</td>\n    </tr>\n    <tr>\n      <th>27</th>\n      <td>6.3</td>\n      <td>2.5</td>\n      <td>4.9</td>\n      <td>1.5</td>\n      <td>1</td>\n    </tr>\n    <tr>\n      <th>28</th>\n      <td>4.8</td>\n      <td>3.0</td>\n      <td>1.4</td>\n      <td>0.1</td>\n      <td>0</td>\n    </tr>\n    <tr>\n      <th>29</th>\n      <td>4.6</td>\n      <td>3.4</td>\n      <td>1.4</td>\n      <td>0.3</td>\n      <td>0</td>\n    </tr>\n    <tr>\n      <th>30</th>\n      <td>5.5</td>\n      <td>2.4</td>\n      <td>3.7</td>\n      <td>1.0</td>\n      <td>1</td>\n    </tr>\n    <tr>\n      <th>31</th>\n      <td>6.2</td>\n      <td>2.9</td>\n      <td>4.3</td>\n      <td>1.3</td>\n      <td>1</td>\n    </tr>\n    <tr>\n      <th>32</th>\n      <td>4.9</td>\n      <td>3.1</td>\n      <td>1.5</td>\n      <td>0.2</td>\n      <td>0</td>\n    </tr>\n    <tr>\n      <th>33</th>\n      <td>6.4</td>\n      <td>2.8</td>\n      <td>5.6</td>\n      <td>2.2</td>\n      <td>2</td>\n    </tr>\n    <tr>\n      <th>34</th>\n      <td>6.6</td>\n      <td>2.9</td>\n      <td>4.6</td>\n      <td>1.3</td>\n      <td>1</td>\n    </tr>\n    <tr>\n      <th>35</th>\n      <td>6.2</td>\n      <td>2.2</td>\n      <td>4.5</td>\n      <td>1.5</td>\n      <td>1</td>\n    </tr>\n    <tr>\n      <th>36</th>\n      <td>6.5</td>\n      <td>3.0</td>\n      <td>5.8</td>\n      <td>2.2</td>\n      <td>2</td>\n    </tr>\n    <tr>\n      <th>37</th>\n      <td>4.8</td>\n      <td>3.4</td>\n      <td>1.9</td>\n      <td>0.2</td>\n      <td>0</td>\n    </tr>\n  </tbody>\n</table>\n</div>"
     },
     "metadata": {},
     "execution_count": 9
    }
   ],
   "source": [
    "df"
   ]
  },
  {
   "cell_type": "code",
   "execution_count": null,
   "metadata": {},
   "outputs": [],
   "source": []
  }
 ]
}