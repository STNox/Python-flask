{
 "metadata": {
  "language_info": {
   "codemirror_mode": {
    "name": "ipython",
    "version": 3
   },
   "file_extension": ".py",
   "mimetype": "text/x-python",
   "name": "python",
   "nbconvert_exporter": "python",
   "pygments_lexer": "ipython3",
   "version": "3.8.3-final"
  },
  "orig_nbformat": 2,
  "kernelspec": {
   "name": "python3",
   "display_name": "Python 3",
   "language": "python"
  }
 },
 "nbformat": 4,
 "nbformat_minor": 2,
 "cells": [
  {
   "source": [
    "# Train/Test 데이터 세트 만들기"
   ],
   "cell_type": "markdown",
   "metadata": {}
  },
  {
   "cell_type": "code",
   "execution_count": 2,
   "metadata": {},
   "outputs": [],
   "source": [
    "import pandas as pd\n",
    "import sklearn.datasets as sd\n",
    "from sklearn.model_selection import train_test_split"
   ]
  },
  {
   "source": [
    "### 아이리스 데이터 세트"
   ],
   "cell_type": "markdown",
   "metadata": {}
  },
  {
   "cell_type": "code",
   "execution_count": 2,
   "metadata": {},
   "outputs": [],
   "source": [
    "iris = sd.load_iris()\n",
    "df_i = pd.DataFrame(iris.data, columns=iris.feature_names)\n",
    "df_i['target'] = iris.target\n",
    "X_train, X_test, y_train, y_test = train_test_split(df_i, iris.target, test_size=0.25, random_state=2021)"
   ]
  },
  {
   "cell_type": "code",
   "execution_count": 3,
   "metadata": {},
   "outputs": [],
   "source": [
    "X_train.to_csv('./static/data/iris_train.csv', index=False)\n",
    "X_test.to_csv('./static/data/iris_test.csv', index=False)"
   ]
  },
  {
   "source": [
    "### 와인 데이터 세트"
   ],
   "cell_type": "markdown",
   "metadata": {}
  },
  {
   "cell_type": "code",
   "execution_count": 4,
   "metadata": {},
   "outputs": [],
   "source": [
    "wine = sd.load_wine()\n",
    "df_w = pd.DataFrame(wine.data, columns=wine.feature_names)\n",
    "df_w['target'] = wine.target\n",
    "X_train, X_test, y_train, y_test = train_test_split(df_w, wine.target, test_size=0.25, random_state=2021)"
   ]
  },
  {
   "cell_type": "code",
   "execution_count": 5,
   "metadata": {},
   "outputs": [],
   "source": [
    "X_train.to_csv('./static/data/wine_train.csv', index=False)\n",
    "X_test.to_csv('./static/data/wine_test.csv', index=False)"
   ]
  },
  {
   "source": [
    "### MNIST Digit 데이터 세트"
   ],
   "cell_type": "markdown",
   "metadata": {}
  },
  {
   "cell_type": "code",
   "execution_count": 6,
   "metadata": {},
   "outputs": [],
   "source": [
    "digits = sd.load_digits()\n",
    "df = pd.DataFrame(digits.data, columns=digits.feature_names)\n",
    "df['target'] = digits.target\n",
    "X_train, X_test, y_train, y_test = train_test_split(df, digits.target, test_size=0.25, random_state=2021)"
   ]
  },
  {
   "cell_type": "code",
   "execution_count": 7,
   "metadata": {},
   "outputs": [],
   "source": [
    "X_train.to_csv('./static/data/digits_train.csv', index=False)\n",
    "X_test.reset_index(inplace=True)\n",
    "X_test.to_csv('./static/data/digits_test.csv', index=False)"
   ]
  },
  {
   "source": [
    "### 유방암 데이터 세트"
   ],
   "cell_type": "markdown",
   "metadata": {}
  },
  {
   "cell_type": "code",
   "execution_count": 8,
   "metadata": {},
   "outputs": [],
   "source": [
    "cancer = sd.load_breast_cancer()\n",
    "df = pd.DataFrame(cancer.data, columns=cancer.feature_names)\n",
    "df['target'] = cancer.target\n",
    "X_train, X_test, y_train, y_test = train_test_split(df, cancer.target, test_size=0.25, random_state=2021)"
   ]
  },
  {
   "cell_type": "code",
   "execution_count": 9,
   "metadata": {},
   "outputs": [],
   "source": [
    "X_train.to_csv('./static/data/cancer_train.csv', index=False)\n",
    "X_test.to_csv('./static/data/cancer_test.csv', index=False)"
   ]
  },
  {
   "source": [
    "### 당뇨병 데이터 세트"
   ],
   "cell_type": "markdown",
   "metadata": {}
  },
  {
   "cell_type": "code",
   "execution_count": 3,
   "metadata": {},
   "outputs": [],
   "source": [
    "diabetes = sd.load_diabetes()\n",
    "df = pd.DataFrame(diabetes.data, columns=diabetes.feature_names)\n",
    "df['target'] = diabetes.target\n",
    "X_train, X_test, y_train, y_test = train_test_split(df, diabetes.target, test_size=0.25, random_state=2021)"
   ]
  },
  {
   "cell_type": "code",
   "execution_count": 4,
   "metadata": {},
   "outputs": [
    {
     "output_type": "execute_result",
     "data": {
      "text/plain": [
       "          age       sex       bmi        bp        s1        s2        s3  \\\n",
       "338 -0.063635 -0.044642 -0.033151 -0.033214  0.001183  0.024051 -0.024993   \n",
       "90   0.012648 -0.044642 -0.025607 -0.040099 -0.030464 -0.045155  0.078093   \n",
       "271  0.038076  0.050680  0.008883  0.042530 -0.042848 -0.021042 -0.039719   \n",
       "422 -0.078165  0.050680  0.077863  0.052858  0.078236  0.064447  0.026550   \n",
       "373 -0.074533 -0.044642 -0.010517 -0.005671 -0.066239 -0.057054 -0.002903   \n",
       "..        ...       ...       ...       ...       ...       ...       ...   \n",
       "109  0.038076  0.050680 -0.009439  0.002363  0.001183  0.037517 -0.054446   \n",
       "128 -0.052738 -0.044642 -0.062252 -0.026328 -0.005697 -0.005072  0.030232   \n",
       "57  -0.027310 -0.044642 -0.063330 -0.050428 -0.089630 -0.104340  0.052322   \n",
       "341  0.030811  0.050680  0.059541  0.056301 -0.022208  0.001191 -0.032356   \n",
       "116  0.048974  0.050680  0.058463  0.070073  0.013567  0.020607 -0.021311   \n",
       "\n",
       "           s4        s5        s6  target  \n",
       "338 -0.002592 -0.022512 -0.059067   214.0  \n",
       "90  -0.076395 -0.072128  0.011349    98.0  \n",
       "271 -0.002592 -0.018118  0.007207   127.0  \n",
       "422 -0.002592  0.040672 -0.009362   233.0  \n",
       "373 -0.039493 -0.042572 -0.001078   168.0  \n",
       "..        ...       ...       ...     ...  \n",
       "109  0.050176 -0.025952  0.106617    81.0  \n",
       "128 -0.039493 -0.030751 -0.071494   115.0  \n",
       "57  -0.076395 -0.056158 -0.067351    37.0  \n",
       "341 -0.002592 -0.024791 -0.017646   263.0  \n",
       "116  0.034309  0.022004  0.027917   275.0  \n",
       "\n",
       "[331 rows x 11 columns]"
      ],
      "text/html": "<div>\n<style scoped>\n    .dataframe tbody tr th:only-of-type {\n        vertical-align: middle;\n    }\n\n    .dataframe tbody tr th {\n        vertical-align: top;\n    }\n\n    .dataframe thead th {\n        text-align: right;\n    }\n</style>\n<table border=\"1\" class=\"dataframe\">\n  <thead>\n    <tr style=\"text-align: right;\">\n      <th></th>\n      <th>age</th>\n      <th>sex</th>\n      <th>bmi</th>\n      <th>bp</th>\n      <th>s1</th>\n      <th>s2</th>\n      <th>s3</th>\n      <th>s4</th>\n      <th>s5</th>\n      <th>s6</th>\n      <th>target</th>\n    </tr>\n  </thead>\n  <tbody>\n    <tr>\n      <th>338</th>\n      <td>-0.063635</td>\n      <td>-0.044642</td>\n      <td>-0.033151</td>\n      <td>-0.033214</td>\n      <td>0.001183</td>\n      <td>0.024051</td>\n      <td>-0.024993</td>\n      <td>-0.002592</td>\n      <td>-0.022512</td>\n      <td>-0.059067</td>\n      <td>214.0</td>\n    </tr>\n    <tr>\n      <th>90</th>\n      <td>0.012648</td>\n      <td>-0.044642</td>\n      <td>-0.025607</td>\n      <td>-0.040099</td>\n      <td>-0.030464</td>\n      <td>-0.045155</td>\n      <td>0.078093</td>\n      <td>-0.076395</td>\n      <td>-0.072128</td>\n      <td>0.011349</td>\n      <td>98.0</td>\n    </tr>\n    <tr>\n      <th>271</th>\n      <td>0.038076</td>\n      <td>0.050680</td>\n      <td>0.008883</td>\n      <td>0.042530</td>\n      <td>-0.042848</td>\n      <td>-0.021042</td>\n      <td>-0.039719</td>\n      <td>-0.002592</td>\n      <td>-0.018118</td>\n      <td>0.007207</td>\n      <td>127.0</td>\n    </tr>\n    <tr>\n      <th>422</th>\n      <td>-0.078165</td>\n      <td>0.050680</td>\n      <td>0.077863</td>\n      <td>0.052858</td>\n      <td>0.078236</td>\n      <td>0.064447</td>\n      <td>0.026550</td>\n      <td>-0.002592</td>\n      <td>0.040672</td>\n      <td>-0.009362</td>\n      <td>233.0</td>\n    </tr>\n    <tr>\n      <th>373</th>\n      <td>-0.074533</td>\n      <td>-0.044642</td>\n      <td>-0.010517</td>\n      <td>-0.005671</td>\n      <td>-0.066239</td>\n      <td>-0.057054</td>\n      <td>-0.002903</td>\n      <td>-0.039493</td>\n      <td>-0.042572</td>\n      <td>-0.001078</td>\n      <td>168.0</td>\n    </tr>\n    <tr>\n      <th>...</th>\n      <td>...</td>\n      <td>...</td>\n      <td>...</td>\n      <td>...</td>\n      <td>...</td>\n      <td>...</td>\n      <td>...</td>\n      <td>...</td>\n      <td>...</td>\n      <td>...</td>\n      <td>...</td>\n    </tr>\n    <tr>\n      <th>109</th>\n      <td>0.038076</td>\n      <td>0.050680</td>\n      <td>-0.009439</td>\n      <td>0.002363</td>\n      <td>0.001183</td>\n      <td>0.037517</td>\n      <td>-0.054446</td>\n      <td>0.050176</td>\n      <td>-0.025952</td>\n      <td>0.106617</td>\n      <td>81.0</td>\n    </tr>\n    <tr>\n      <th>128</th>\n      <td>-0.052738</td>\n      <td>-0.044642</td>\n      <td>-0.062252</td>\n      <td>-0.026328</td>\n      <td>-0.005697</td>\n      <td>-0.005072</td>\n      <td>0.030232</td>\n      <td>-0.039493</td>\n      <td>-0.030751</td>\n      <td>-0.071494</td>\n      <td>115.0</td>\n    </tr>\n    <tr>\n      <th>57</th>\n      <td>-0.027310</td>\n      <td>-0.044642</td>\n      <td>-0.063330</td>\n      <td>-0.050428</td>\n      <td>-0.089630</td>\n      <td>-0.104340</td>\n      <td>0.052322</td>\n      <td>-0.076395</td>\n      <td>-0.056158</td>\n      <td>-0.067351</td>\n      <td>37.0</td>\n    </tr>\n    <tr>\n      <th>341</th>\n      <td>0.030811</td>\n      <td>0.050680</td>\n      <td>0.059541</td>\n      <td>0.056301</td>\n      <td>-0.022208</td>\n      <td>0.001191</td>\n      <td>-0.032356</td>\n      <td>-0.002592</td>\n      <td>-0.024791</td>\n      <td>-0.017646</td>\n      <td>263.0</td>\n    </tr>\n    <tr>\n      <th>116</th>\n      <td>0.048974</td>\n      <td>0.050680</td>\n      <td>0.058463</td>\n      <td>0.070073</td>\n      <td>0.013567</td>\n      <td>0.020607</td>\n      <td>-0.021311</td>\n      <td>0.034309</td>\n      <td>0.022004</td>\n      <td>0.027917</td>\n      <td>275.0</td>\n    </tr>\n  </tbody>\n</table>\n<p>331 rows × 11 columns</p>\n</div>"
     },
     "metadata": {},
     "execution_count": 4
    }
   ],
   "source": [
    "X_train"
   ]
  },
  {
   "cell_type": "code",
   "execution_count": 11,
   "metadata": {},
   "outputs": [],
   "source": [
    "X_train.to_csv('./static/data/diabetes_train.csv', index=False)\n",
    "X_test.to_csv('./static/data/diabetes_test.csv', index=False)"
   ]
  },
  {
   "source": [
    "### Boston 데이터 세트"
   ],
   "cell_type": "markdown",
   "metadata": {}
  },
  {
   "cell_type": "code",
   "execution_count": 12,
   "metadata": {},
   "outputs": [],
   "source": [
    "boston = sd.load_boston()\n",
    "df = pd.DataFrame(boston.data, columns=boston.feature_names)\n",
    "df['target'] = boston.target\n",
    "X_train, X_test, y_train, y_test = train_test_split(df, boston.target, test_size=0.25, random_state=2021)"
   ]
  },
  {
   "cell_type": "code",
   "execution_count": 13,
   "metadata": {},
   "outputs": [],
   "source": [
    "X_train.to_csv('./static/data/boston_train.csv', index=False)\n",
    "X_test.to_csv('./static/data/boston_test.csv', index=False)"
   ]
  },
  {
   "cell_type": "code",
   "execution_count": null,
   "metadata": {},
   "outputs": [],
   "source": []
  }
 ]
}