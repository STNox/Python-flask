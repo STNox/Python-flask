{
 "metadata": {
  "language_info": {
   "codemirror_mode": {
    "name": "ipython",
    "version": 3
   },
   "file_extension": ".py",
   "mimetype": "text/x-python",
   "name": "python",
   "nbconvert_exporter": "python",
   "pygments_lexer": "ipython3",
   "version": "3.8.3-final"
  },
  "orig_nbformat": 2,
  "kernelspec": {
   "name": "python3",
   "display_name": "Python 3",
   "language": "python"
  }
 },
 "nbformat": 4,
 "nbformat_minor": 2,
 "cells": [
  {
   "cell_type": "code",
   "execution_count": 3,
   "metadata": {},
   "outputs": [],
   "source": [
    "import pandas as pd"
   ]
  },
  {
   "cell_type": "code",
   "execution_count": 2,
   "metadata": {},
   "outputs": [
    {
     "output_type": "execute_result",
     "data": {
      "text/plain": [
       "    구별     인구수     한국인    외국인    고령자  공원수     면적    1인당공원면적     공원면적합  \\\n",
       "0  종로구  159842  149952   9890  28396   12  23.91  24.447145  3.907681   \n",
       "1   중구  135321  125800   9521  24265    5   9.96  21.824324  2.953289   \n",
       "2  용산구  244953  229786  15167  39995    2  21.87   1.009149  0.247194   \n",
       "3  성동구  302695  295591   7104  45372    5  16.86   2.070859  0.626839   \n",
       "4  광진구  361923  348064  13859  50047    2  17.06   1.613608  0.584002   \n",
       "\n",
       "       공원면적비  \n",
       "0  16.343290  \n",
       "1  29.651500  \n",
       "2   1.130289  \n",
       "3   3.717905  \n",
       "4   3.423224  "
      ],
      "text/html": "<div>\n<style scoped>\n    .dataframe tbody tr th:only-of-type {\n        vertical-align: middle;\n    }\n\n    .dataframe tbody tr th {\n        vertical-align: top;\n    }\n\n    .dataframe thead th {\n        text-align: right;\n    }\n</style>\n<table border=\"1\" class=\"dataframe\">\n  <thead>\n    <tr style=\"text-align: right;\">\n      <th></th>\n      <th>구별</th>\n      <th>인구수</th>\n      <th>한국인</th>\n      <th>외국인</th>\n      <th>고령자</th>\n      <th>공원수</th>\n      <th>면적</th>\n      <th>1인당공원면적</th>\n      <th>공원면적합</th>\n      <th>공원면적비</th>\n    </tr>\n  </thead>\n  <tbody>\n    <tr>\n      <th>0</th>\n      <td>종로구</td>\n      <td>159842</td>\n      <td>149952</td>\n      <td>9890</td>\n      <td>28396</td>\n      <td>12</td>\n      <td>23.91</td>\n      <td>24.447145</td>\n      <td>3.907681</td>\n      <td>16.343290</td>\n    </tr>\n    <tr>\n      <th>1</th>\n      <td>중구</td>\n      <td>135321</td>\n      <td>125800</td>\n      <td>9521</td>\n      <td>24265</td>\n      <td>5</td>\n      <td>9.96</td>\n      <td>21.824324</td>\n      <td>2.953289</td>\n      <td>29.651500</td>\n    </tr>\n    <tr>\n      <th>2</th>\n      <td>용산구</td>\n      <td>244953</td>\n      <td>229786</td>\n      <td>15167</td>\n      <td>39995</td>\n      <td>2</td>\n      <td>21.87</td>\n      <td>1.009149</td>\n      <td>0.247194</td>\n      <td>1.130289</td>\n    </tr>\n    <tr>\n      <th>3</th>\n      <td>성동구</td>\n      <td>302695</td>\n      <td>295591</td>\n      <td>7104</td>\n      <td>45372</td>\n      <td>5</td>\n      <td>16.86</td>\n      <td>2.070859</td>\n      <td>0.626839</td>\n      <td>3.717905</td>\n    </tr>\n    <tr>\n      <th>4</th>\n      <td>광진구</td>\n      <td>361923</td>\n      <td>348064</td>\n      <td>13859</td>\n      <td>50047</td>\n      <td>2</td>\n      <td>17.06</td>\n      <td>1.613608</td>\n      <td>0.584002</td>\n      <td>3.423224</td>\n    </tr>\n  </tbody>\n</table>\n</div>"
     },
     "metadata": {},
     "execution_count": 2
    }
   ],
   "source": [
    "df = pd.read_csv('./static/data/dist_info.csv')\n",
    "df.head()"
   ]
  },
  {
   "cell_type": "code",
   "execution_count": 3,
   "metadata": {},
   "outputs": [],
   "source": [
    "import requests\n",
    "from urllib.parse import urlparse, quote"
   ]
  },
  {
   "cell_type": "code",
   "execution_count": 4,
   "metadata": {},
   "outputs": [],
   "source": [
    "key_fd = open('roadapikey.txt', mode='r')\n",
    "roadapi_key = key_fd.read(100)\n",
    "key_fd.close()"
   ]
  },
  {
   "cell_type": "code",
   "execution_count": 5,
   "metadata": {},
   "outputs": [
    {
     "output_type": "execute_result",
     "data": {
      "text/plain": [
       "['서울특별시 종로구 삼봉로 43 (수송동)',\n",
       " '부산광역시 중구 중구로 120 (대청동1가)',\n",
       " '서울특별시 용산구 백범로79길 64 (청파동3가)',\n",
       " '서울특별시 성동구 고산자로 270 (행당동)',\n",
       " '서울특별시 광진구 자양로 117 (자양동)',\n",
       " '서울특별시 동대문구 천호대로 145 (용두동)',\n",
       " '서울특별시 중랑구 봉화산로 179 (신내동)',\n",
       " '서울특별시 성북구 보문로 168 (삼선동5가)',\n",
       " '서울특별시 강북구 도봉로89길 13 (수유동)',\n",
       " '서울특별시 도봉구 마들로 656 (방학동)',\n",
       " '서울특별시 노원구 노해로 437 (상계동)',\n",
       " '서울특별시 은평구 은평로 195 (녹번동)',\n",
       " '서울특별시 서대문구 연희로 247 (연희동)',\n",
       " '서울특별시 마포구 월드컵로 212 (성산동)',\n",
       " '서울특별시 양천구 목동동로 105 (신정동)',\n",
       " '서울특별시 강서구 남부순환로 208 (외발산동)',\n",
       " '서울특별시 구로구 가마산로 245 (구로동)',\n",
       " '서울특별시 금천구 시흥대로73길 70 (시흥동)',\n",
       " '서울특별시 영등포구 당산로 123 (당산동3가)',\n",
       " '서울특별시 동작구 장승배기로 161 (노량진동)',\n",
       " '서울특별시 관악구 관악로 145 (봉천동)',\n",
       " '서울특별시 서초구 남부순환로 2584 (서초동)',\n",
       " '서울특별시 강남구 도곡로18길 7 (도곡동)',\n",
       " '서울특별시 송파구 올림픽로 326 (신천동)',\n",
       " '서울특별시 강동구 동남로 942 (고덕동)']"
      ]
     },
     "metadata": {},
     "execution_count": 5
    }
   ],
   "source": [
    "road_addrs = []\n",
    "dists = list(df['구별'])\n",
    "for i in range(len(dists)):\n",
    "    dists[i] += '청'\n",
    "for dist in dists:\n",
    "    road_url = 'https://www.juso.go.kr/addrlink/addrLinkApi.do'\n",
    "    url = f'{road_url}?confmKey={roadapi_key}&currentPage=1&coutPerPage=10&keyword={quote(dist)}&resultType=json'\n",
    "    result = requests.get(url).json()\n",
    "    road_addr = result['results']['juso'][0]['roadAddr']\n",
    "    road_addrs.append(road_addr)\n",
    "road_addrs"
   ]
  },
  {
   "cell_type": "code",
   "execution_count": 6,
   "metadata": {},
   "outputs": [],
   "source": [
    "key_fd = open('kakaokey.txt', mode='r')\n",
    "kakao_key = key_fd.read(100)\n",
    "key_fd.close()"
   ]
  },
  {
   "cell_type": "code",
   "execution_count": 7,
   "metadata": {},
   "outputs": [],
   "source": [
    "lat_list, lng_list = [], []\n",
    "for addr in road_addrs:\n",
    "    url = 'https://dapi.kakao.com/v2/local/search/address.json?query=' + quote(addr)\n",
    "    result = requests.get(url, headers={\"Authorization\": 'KakaoAK '+kakao_key}).json()\n",
    "    lng = float(result['documents'][0]['x'])\n",
    "    lat = float(result['documents'][0]['y'])\n",
    "    lat_list.append(lat); lng_list.append(lng)"
   ]
  },
  {
   "cell_type": "code",
   "execution_count": 8,
   "metadata": {},
   "outputs": [
    {
     "output_type": "execute_result",
     "data": {
      "text/plain": [
       "    구별     인구수     한국인    외국인    고령자  공원수     면적    1인당공원면적     공원면적합  \\\n",
       "0  종로구  159842  149952   9890  28396   12  23.91  24.447145  3.907681   \n",
       "1   중구  135321  125800   9521  24265    5   9.96  21.824324  2.953289   \n",
       "2  용산구  244953  229786  15167  39995    2  21.87   1.009149  0.247194   \n",
       "3  성동구  302695  295591   7104  45372    5  16.86   2.070859  0.626839   \n",
       "4  광진구  361923  348064  13859  50047    2  17.06   1.613608  0.584002   \n",
       "\n",
       "       공원면적비         위도          경도  \n",
       "0  16.343290  37.573199  126.978813  \n",
       "1  29.651500  35.106197  129.032351  \n",
       "2   1.130289  37.541602  126.964977  \n",
       "3   3.717905  37.563423  127.036965  \n",
       "4   3.423224  37.538540  127.081912  "
      ],
      "text/html": "<div>\n<style scoped>\n    .dataframe tbody tr th:only-of-type {\n        vertical-align: middle;\n    }\n\n    .dataframe tbody tr th {\n        vertical-align: top;\n    }\n\n    .dataframe thead th {\n        text-align: right;\n    }\n</style>\n<table border=\"1\" class=\"dataframe\">\n  <thead>\n    <tr style=\"text-align: right;\">\n      <th></th>\n      <th>구별</th>\n      <th>인구수</th>\n      <th>한국인</th>\n      <th>외국인</th>\n      <th>고령자</th>\n      <th>공원수</th>\n      <th>면적</th>\n      <th>1인당공원면적</th>\n      <th>공원면적합</th>\n      <th>공원면적비</th>\n      <th>위도</th>\n      <th>경도</th>\n    </tr>\n  </thead>\n  <tbody>\n    <tr>\n      <th>0</th>\n      <td>종로구</td>\n      <td>159842</td>\n      <td>149952</td>\n      <td>9890</td>\n      <td>28396</td>\n      <td>12</td>\n      <td>23.91</td>\n      <td>24.447145</td>\n      <td>3.907681</td>\n      <td>16.343290</td>\n      <td>37.573199</td>\n      <td>126.978813</td>\n    </tr>\n    <tr>\n      <th>1</th>\n      <td>중구</td>\n      <td>135321</td>\n      <td>125800</td>\n      <td>9521</td>\n      <td>24265</td>\n      <td>5</td>\n      <td>9.96</td>\n      <td>21.824324</td>\n      <td>2.953289</td>\n      <td>29.651500</td>\n      <td>35.106197</td>\n      <td>129.032351</td>\n    </tr>\n    <tr>\n      <th>2</th>\n      <td>용산구</td>\n      <td>244953</td>\n      <td>229786</td>\n      <td>15167</td>\n      <td>39995</td>\n      <td>2</td>\n      <td>21.87</td>\n      <td>1.009149</td>\n      <td>0.247194</td>\n      <td>1.130289</td>\n      <td>37.541602</td>\n      <td>126.964977</td>\n    </tr>\n    <tr>\n      <th>3</th>\n      <td>성동구</td>\n      <td>302695</td>\n      <td>295591</td>\n      <td>7104</td>\n      <td>45372</td>\n      <td>5</td>\n      <td>16.86</td>\n      <td>2.070859</td>\n      <td>0.626839</td>\n      <td>3.717905</td>\n      <td>37.563423</td>\n      <td>127.036965</td>\n    </tr>\n    <tr>\n      <th>4</th>\n      <td>광진구</td>\n      <td>361923</td>\n      <td>348064</td>\n      <td>13859</td>\n      <td>50047</td>\n      <td>2</td>\n      <td>17.06</td>\n      <td>1.613608</td>\n      <td>0.584002</td>\n      <td>3.423224</td>\n      <td>37.538540</td>\n      <td>127.081912</td>\n    </tr>\n  </tbody>\n</table>\n</div>"
     },
     "metadata": {},
     "execution_count": 8
    }
   ],
   "source": [
    "df['위도'] = lat_list\n",
    "df['경도'] = lng_list\n",
    "df.head()"
   ]
  },
  {
   "cell_type": "code",
   "execution_count": 9,
   "metadata": {},
   "outputs": [],
   "source": [
    "df.to_csv('./static/data/dist_info.csv')"
   ]
  },
  {
   "cell_type": "code",
   "execution_count": 17,
   "metadata": {},
   "outputs": [
    {
     "output_type": "execute_result",
     "data": {
      "text/plain": [
       "   index  Unnamed: 0  공원번호      공원명        면적   구별  \\\n",
       "0     30          30    47   계남근린공원  603715.2  양천구   \n",
       "1     52          52   127  서서울호수공원  217946.0  양천구   \n",
       "2     53          53   104  용왕산근린공원  213552.0  양천구   \n",
       "3     67          67    61   갈산근린공원  138596.0  양천구   \n",
       "4    101         101    51   파리근린공원   29619.3  양천구   \n",
       "\n",
       "                            주소          경도         위도  \\\n",
       "0        서울특별시 양천구 신정동 산44-2일대  126.847964  37.513836   \n",
       "1  서울특별시 양천구 남부순환로64길 20 (신월동)  126.830479  37.527839   \n",
       "2          서울특별시 양천구 목동 199-51  126.878313  37.542959   \n",
       "3         서울특별시 양천구 신정동 162-56  126.868915  37.508212   \n",
       "4          서울특별시 양천구 목동동로 363   126.876393  37.534974   \n",
       "\n",
       "                                                공원개요 공원크기  \n",
       "0  휴식공간 양천구 신정동과 구로구 고척동 일대의 옛지명인 부평군 계남면의 지명을 따서...    소  \n",
       "1  2009년 10월 개장한 서서울호수공원은 양천구 신월동에 위치한 옛 신월정수장을 공...    소  \n",
       "2  옛 지도상에는 엄지산(嚴知山)으로 기록되어 있으며 엄지의 뜻은 순수한 우리말인 첫머...    소  \n",
       "3  용왕산의 동쪽 능선 끝이 안양천에 닿아 있는데 이 안양천을 따라 남쪽으로 내려가서 ...    소  \n",
       "4  프랑스와 수교 100주년이 되는 1986년에 기념 사업의 하나로 파리에 서울광장을 ...    소  "
      ],
      "text/html": "<div>\n<style scoped>\n    .dataframe tbody tr th:only-of-type {\n        vertical-align: middle;\n    }\n\n    .dataframe tbody tr th {\n        vertical-align: top;\n    }\n\n    .dataframe thead th {\n        text-align: right;\n    }\n</style>\n<table border=\"1\" class=\"dataframe\">\n  <thead>\n    <tr style=\"text-align: right;\">\n      <th></th>\n      <th>index</th>\n      <th>Unnamed: 0</th>\n      <th>공원번호</th>\n      <th>공원명</th>\n      <th>면적</th>\n      <th>구별</th>\n      <th>주소</th>\n      <th>경도</th>\n      <th>위도</th>\n      <th>공원개요</th>\n      <th>공원크기</th>\n    </tr>\n  </thead>\n  <tbody>\n    <tr>\n      <th>0</th>\n      <td>30</td>\n      <td>30</td>\n      <td>47</td>\n      <td>계남근린공원</td>\n      <td>603715.2</td>\n      <td>양천구</td>\n      <td>서울특별시 양천구 신정동 산44-2일대</td>\n      <td>126.847964</td>\n      <td>37.513836</td>\n      <td>휴식공간 양천구 신정동과 구로구 고척동 일대의 옛지명인 부평군 계남면의 지명을 따서...</td>\n      <td>소</td>\n    </tr>\n    <tr>\n      <th>1</th>\n      <td>52</td>\n      <td>52</td>\n      <td>127</td>\n      <td>서서울호수공원</td>\n      <td>217946.0</td>\n      <td>양천구</td>\n      <td>서울특별시 양천구 남부순환로64길 20 (신월동)</td>\n      <td>126.830479</td>\n      <td>37.527839</td>\n      <td>2009년 10월 개장한 서서울호수공원은 양천구 신월동에 위치한 옛 신월정수장을 공...</td>\n      <td>소</td>\n    </tr>\n    <tr>\n      <th>2</th>\n      <td>53</td>\n      <td>53</td>\n      <td>104</td>\n      <td>용왕산근린공원</td>\n      <td>213552.0</td>\n      <td>양천구</td>\n      <td>서울특별시 양천구 목동 199-51</td>\n      <td>126.878313</td>\n      <td>37.542959</td>\n      <td>옛 지도상에는 엄지산(嚴知山)으로 기록되어 있으며 엄지의 뜻은 순수한 우리말인 첫머...</td>\n      <td>소</td>\n    </tr>\n    <tr>\n      <th>3</th>\n      <td>67</td>\n      <td>67</td>\n      <td>61</td>\n      <td>갈산근린공원</td>\n      <td>138596.0</td>\n      <td>양천구</td>\n      <td>서울특별시 양천구 신정동 162-56</td>\n      <td>126.868915</td>\n      <td>37.508212</td>\n      <td>용왕산의 동쪽 능선 끝이 안양천에 닿아 있는데 이 안양천을 따라 남쪽으로 내려가서 ...</td>\n      <td>소</td>\n    </tr>\n    <tr>\n      <th>4</th>\n      <td>101</td>\n      <td>101</td>\n      <td>51</td>\n      <td>파리근린공원</td>\n      <td>29619.3</td>\n      <td>양천구</td>\n      <td>서울특별시 양천구 목동동로 363</td>\n      <td>126.876393</td>\n      <td>37.534974</td>\n      <td>프랑스와 수교 100주년이 되는 1986년에 기념 사업의 하나로 파리에 서울광장을 ...</td>\n      <td>소</td>\n    </tr>\n  </tbody>\n</table>\n</div>"
     },
     "metadata": {},
     "execution_count": 17
    }
   ],
   "source": [
    "park_new = pd.read_csv('./static/data/park_info.csv')\n",
    "df2 = park_new[park_new['구별'] == '양천구'].reset_index()\n",
    "df2"
   ]
  },
  {
   "cell_type": "code",
   "execution_count": 18,
   "metadata": {},
   "outputs": [
    {
     "output_type": "execute_result",
     "data": {
      "text/plain": [
       "'파리근린공원'"
      ]
     },
     "metadata": {},
     "execution_count": 18
    }
   ],
   "source": [
    "df2['공원명'][4]"
   ]
  },
  {
   "cell_type": "code",
   "execution_count": 19,
   "metadata": {},
   "outputs": [
    {
     "output_type": "stream",
     "name": "stdout",
     "text": [
      "소\n소\n소\n소\n소\n"
     ]
    }
   ],
   "source": [
    "for i in df2.index:\n",
    "    if df2['공원크기'][i] == '대':\n",
    "        print('대')\n",
    "    elif df2['공원크기'][i] == '중':\n",
    "        print('중')\n",
    "    else:\n",
    "        print('소')"
   ]
  },
  {
   "cell_type": "code",
   "execution_count": 6,
   "metadata": {},
   "outputs": [
    {
     "output_type": "execute_result",
     "data": {
      "text/plain": [
       "            스타벅스  커피빈  빽다방  이디야      커피지수\n",
       "Unnamed: 0                               \n",
       "강원 강릉시         5    0    2   14  0.312500\n",
       "강원 고성군         2    0    0    1  2.000000\n",
       "강원 동해시         1    1    1    1  1.000000\n",
       "강원 삼척시         1    0    2    1  0.333333\n",
       "강원 속초시         4    0    0    8  0.500000\n",
       "...          ...  ...  ...  ...       ...\n",
       "충북 청주시 상당구     5    1    2    7  0.666667\n",
       "충북 청주시 서원구     4    0    3    6  0.444444\n",
       "충북 청주시 청원구     3    0    1    8  0.333333\n",
       "충북 청주시 흥덕구    10    1    4   14  0.611111\n",
       "충북 충주시         6    0    1    5  1.000000\n",
       "\n",
       "[237 rows x 5 columns]"
      ],
      "text/html": "<div>\n<style scoped>\n    .dataframe tbody tr th:only-of-type {\n        vertical-align: middle;\n    }\n\n    .dataframe tbody tr th {\n        vertical-align: top;\n    }\n\n    .dataframe thead th {\n        text-align: right;\n    }\n</style>\n<table border=\"1\" class=\"dataframe\">\n  <thead>\n    <tr style=\"text-align: right;\">\n      <th></th>\n      <th>스타벅스</th>\n      <th>커피빈</th>\n      <th>빽다방</th>\n      <th>이디야</th>\n      <th>커피지수</th>\n    </tr>\n    <tr>\n      <th>Unnamed: 0</th>\n      <th></th>\n      <th></th>\n      <th></th>\n      <th></th>\n      <th></th>\n    </tr>\n  </thead>\n  <tbody>\n    <tr>\n      <th>강원 강릉시</th>\n      <td>5</td>\n      <td>0</td>\n      <td>2</td>\n      <td>14</td>\n      <td>0.312500</td>\n    </tr>\n    <tr>\n      <th>강원 고성군</th>\n      <td>2</td>\n      <td>0</td>\n      <td>0</td>\n      <td>1</td>\n      <td>2.000000</td>\n    </tr>\n    <tr>\n      <th>강원 동해시</th>\n      <td>1</td>\n      <td>1</td>\n      <td>1</td>\n      <td>1</td>\n      <td>1.000000</td>\n    </tr>\n    <tr>\n      <th>강원 삼척시</th>\n      <td>1</td>\n      <td>0</td>\n      <td>2</td>\n      <td>1</td>\n      <td>0.333333</td>\n    </tr>\n    <tr>\n      <th>강원 속초시</th>\n      <td>4</td>\n      <td>0</td>\n      <td>0</td>\n      <td>8</td>\n      <td>0.500000</td>\n    </tr>\n    <tr>\n      <th>...</th>\n      <td>...</td>\n      <td>...</td>\n      <td>...</td>\n      <td>...</td>\n      <td>...</td>\n    </tr>\n    <tr>\n      <th>충북 청주시 상당구</th>\n      <td>5</td>\n      <td>1</td>\n      <td>2</td>\n      <td>7</td>\n      <td>0.666667</td>\n    </tr>\n    <tr>\n      <th>충북 청주시 서원구</th>\n      <td>4</td>\n      <td>0</td>\n      <td>3</td>\n      <td>6</td>\n      <td>0.444444</td>\n    </tr>\n    <tr>\n      <th>충북 청주시 청원구</th>\n      <td>3</td>\n      <td>0</td>\n      <td>1</td>\n      <td>8</td>\n      <td>0.333333</td>\n    </tr>\n    <tr>\n      <th>충북 청주시 흥덕구</th>\n      <td>10</td>\n      <td>1</td>\n      <td>4</td>\n      <td>14</td>\n      <td>0.611111</td>\n    </tr>\n    <tr>\n      <th>충북 충주시</th>\n      <td>6</td>\n      <td>0</td>\n      <td>1</td>\n      <td>5</td>\n      <td>1.000000</td>\n    </tr>\n  </tbody>\n</table>\n<p>237 rows × 5 columns</p>\n</div>"
     },
     "metadata": {},
     "execution_count": 6
    }
   ],
   "source": [
    "coffee = pd.read_csv('./static/data/cafe_count.csv')\n",
    "coffee = coffee.set_index('Unnamed: 0')\n",
    "coffee"
   ]
  },
  {
   "cell_type": "code",
   "execution_count": 11,
   "metadata": {},
   "outputs": [
    {
     "output_type": "execute_result",
     "data": {
      "text/plain": [
       "'스타벅스'"
      ]
     },
     "metadata": {},
     "execution_count": 11
    }
   ],
   "source": [
    " star_rank = coffee['스타벅스'].sort_values(ascending=False).head(10)\n",
    " star_rank.name"
   ]
  },
  {
   "cell_type": "code",
   "execution_count": 13,
   "metadata": {},
   "outputs": [
    {
     "output_type": "execute_result",
     "data": {
      "text/plain": [
       "    광역시도  시군구  행정구  20~39세  20~39세 여자  65세이상      인구   남성 인구   여성 인구  \\\n",
       "0     강원  강릉시  NaN   46008      20993  40497  203057  101154  101903   \n",
       "1     강원  고성군  NaN    4006       1699   7005   23621   11933   11688   \n",
       "2     강원  동해시  NaN   16311       7510  16152   83888   42093   41795   \n",
       "3     강원  삼척시  NaN   12428       5280  14953   61833   31630   30203   \n",
       "4     강원  속초시  NaN   15928       7411  14010   76302   37488   38814   \n",
       "..   ...  ...  ...     ...        ...    ...     ...     ...     ...   \n",
       "245   충북  청주시  상당구   39870      19444  25585  167873   82711   85162   \n",
       "246   충북  청주시  서원구   53447      25609  26464  197002   97386   99616   \n",
       "247   충북  청주시  청원구   57755      26880  21908  188723   95997   92726   \n",
       "248   충북  청주시  흥덕구   75036      36141  26340  248926  124808  124118   \n",
       "249   충북  충주시  NaN   47183      21483  37574  201057  101311   99746   \n",
       "\n",
       "         소멸비율  소멸위기지역      ID   y   x  \n",
       "0    1.036768   False      강릉   3  11  \n",
       "1    0.485082    True  고성(강원)   0  10  \n",
       "2    0.929916    True      동해   4  11  \n",
       "3    0.706213    True      삼척   5  11  \n",
       "4    1.057959   False      속초   1  10  \n",
       "..        ...     ...     ...  ..  ..  \n",
       "245  1.519953   False   청주 상당  14   6  \n",
       "246  1.935384   False   청주 서원  14   7  \n",
       "247  2.453898   False   청주 청원  13   7  \n",
       "248  2.744191   False   청주 흥덕  12   7  \n",
       "249  1.143503   False      충주  12   6  \n",
       "\n",
       "[250 rows x 14 columns]"
      ],
      "text/html": "<div>\n<style scoped>\n    .dataframe tbody tr th:only-of-type {\n        vertical-align: middle;\n    }\n\n    .dataframe tbody tr th {\n        vertical-align: top;\n    }\n\n    .dataframe thead th {\n        text-align: right;\n    }\n</style>\n<table border=\"1\" class=\"dataframe\">\n  <thead>\n    <tr style=\"text-align: right;\">\n      <th></th>\n      <th>광역시도</th>\n      <th>시군구</th>\n      <th>행정구</th>\n      <th>20~39세</th>\n      <th>20~39세 여자</th>\n      <th>65세이상</th>\n      <th>인구</th>\n      <th>남성 인구</th>\n      <th>여성 인구</th>\n      <th>소멸비율</th>\n      <th>소멸위기지역</th>\n      <th>ID</th>\n      <th>y</th>\n      <th>x</th>\n    </tr>\n  </thead>\n  <tbody>\n    <tr>\n      <th>0</th>\n      <td>강원</td>\n      <td>강릉시</td>\n      <td>NaN</td>\n      <td>46008</td>\n      <td>20993</td>\n      <td>40497</td>\n      <td>203057</td>\n      <td>101154</td>\n      <td>101903</td>\n      <td>1.036768</td>\n      <td>False</td>\n      <td>강릉</td>\n      <td>3</td>\n      <td>11</td>\n    </tr>\n    <tr>\n      <th>1</th>\n      <td>강원</td>\n      <td>고성군</td>\n      <td>NaN</td>\n      <td>4006</td>\n      <td>1699</td>\n      <td>7005</td>\n      <td>23621</td>\n      <td>11933</td>\n      <td>11688</td>\n      <td>0.485082</td>\n      <td>True</td>\n      <td>고성(강원)</td>\n      <td>0</td>\n      <td>10</td>\n    </tr>\n    <tr>\n      <th>2</th>\n      <td>강원</td>\n      <td>동해시</td>\n      <td>NaN</td>\n      <td>16311</td>\n      <td>7510</td>\n      <td>16152</td>\n      <td>83888</td>\n      <td>42093</td>\n      <td>41795</td>\n      <td>0.929916</td>\n      <td>True</td>\n      <td>동해</td>\n      <td>4</td>\n      <td>11</td>\n    </tr>\n    <tr>\n      <th>3</th>\n      <td>강원</td>\n      <td>삼척시</td>\n      <td>NaN</td>\n      <td>12428</td>\n      <td>5280</td>\n      <td>14953</td>\n      <td>61833</td>\n      <td>31630</td>\n      <td>30203</td>\n      <td>0.706213</td>\n      <td>True</td>\n      <td>삼척</td>\n      <td>5</td>\n      <td>11</td>\n    </tr>\n    <tr>\n      <th>4</th>\n      <td>강원</td>\n      <td>속초시</td>\n      <td>NaN</td>\n      <td>15928</td>\n      <td>7411</td>\n      <td>14010</td>\n      <td>76302</td>\n      <td>37488</td>\n      <td>38814</td>\n      <td>1.057959</td>\n      <td>False</td>\n      <td>속초</td>\n      <td>1</td>\n      <td>10</td>\n    </tr>\n    <tr>\n      <th>...</th>\n      <td>...</td>\n      <td>...</td>\n      <td>...</td>\n      <td>...</td>\n      <td>...</td>\n      <td>...</td>\n      <td>...</td>\n      <td>...</td>\n      <td>...</td>\n      <td>...</td>\n      <td>...</td>\n      <td>...</td>\n      <td>...</td>\n      <td>...</td>\n    </tr>\n    <tr>\n      <th>245</th>\n      <td>충북</td>\n      <td>청주시</td>\n      <td>상당구</td>\n      <td>39870</td>\n      <td>19444</td>\n      <td>25585</td>\n      <td>167873</td>\n      <td>82711</td>\n      <td>85162</td>\n      <td>1.519953</td>\n      <td>False</td>\n      <td>청주 상당</td>\n      <td>14</td>\n      <td>6</td>\n    </tr>\n    <tr>\n      <th>246</th>\n      <td>충북</td>\n      <td>청주시</td>\n      <td>서원구</td>\n      <td>53447</td>\n      <td>25609</td>\n      <td>26464</td>\n      <td>197002</td>\n      <td>97386</td>\n      <td>99616</td>\n      <td>1.935384</td>\n      <td>False</td>\n      <td>청주 서원</td>\n      <td>14</td>\n      <td>7</td>\n    </tr>\n    <tr>\n      <th>247</th>\n      <td>충북</td>\n      <td>청주시</td>\n      <td>청원구</td>\n      <td>57755</td>\n      <td>26880</td>\n      <td>21908</td>\n      <td>188723</td>\n      <td>95997</td>\n      <td>92726</td>\n      <td>2.453898</td>\n      <td>False</td>\n      <td>청주 청원</td>\n      <td>13</td>\n      <td>7</td>\n    </tr>\n    <tr>\n      <th>248</th>\n      <td>충북</td>\n      <td>청주시</td>\n      <td>흥덕구</td>\n      <td>75036</td>\n      <td>36141</td>\n      <td>26340</td>\n      <td>248926</td>\n      <td>124808</td>\n      <td>124118</td>\n      <td>2.744191</td>\n      <td>False</td>\n      <td>청주 흥덕</td>\n      <td>12</td>\n      <td>7</td>\n    </tr>\n    <tr>\n      <th>249</th>\n      <td>충북</td>\n      <td>충주시</td>\n      <td>NaN</td>\n      <td>47183</td>\n      <td>21483</td>\n      <td>37574</td>\n      <td>201057</td>\n      <td>101311</td>\n      <td>99746</td>\n      <td>1.143503</td>\n      <td>False</td>\n      <td>충주</td>\n      <td>12</td>\n      <td>6</td>\n    </tr>\n  </tbody>\n</table>\n<p>250 rows × 14 columns</p>\n</div>"
     },
     "metadata": {},
     "execution_count": 13
    }
   ],
   "source": [
    "pop_cri = pd.read_csv('./static/data/pop_cri.csv')\n",
    "del pop_cri['Unnamed: 0']\n",
    "pop_cri"
   ]
  },
  {
   "cell_type": "code",
   "execution_count": 6,
   "metadata": {},
   "outputs": [
    {
     "output_type": "error",
     "ename": "ModuleNotFoundError",
     "evalue": "No module named 'db_module'",
     "traceback": [
      "\u001b[1;31m---------------------------------------------------------------------------\u001b[0m",
      "\u001b[1;31mModuleNotFoundError\u001b[0m                       Traceback (most recent call last)",
      "\u001b[1;32m<ipython-input-6-0f6651c81b70>\u001b[0m in \u001b[0;36m<module>\u001b[1;34m\u001b[0m\n\u001b[1;32m----> 1\u001b[1;33m \u001b[1;32mimport\u001b[0m \u001b[0mDB\u001b[0m\u001b[1;33m.\u001b[0m\u001b[0mcovid_db\u001b[0m \u001b[1;32mas\u001b[0m \u001b[0mcov\u001b[0m\u001b[1;33m\u001b[0m\u001b[1;33m\u001b[0m\u001b[0m\n\u001b[0m",
      "\u001b[1;32mg:\\Workspace\\Python-Web\\Python-flask\\03. Data-analysis Module\\DB\\covid_db.py\u001b[0m in \u001b[0;36m<module>\u001b[1;34m\u001b[0m\n\u001b[0;32m      1\u001b[0m \u001b[1;32mimport\u001b[0m \u001b[0mrequests\u001b[0m\u001b[1;33m\u001b[0m\u001b[1;33m\u001b[0m\u001b[0m\n\u001b[0;32m      2\u001b[0m \u001b[1;32mimport\u001b[0m \u001b[0mpandas\u001b[0m \u001b[1;32mas\u001b[0m \u001b[0mpd\u001b[0m\u001b[1;33m\u001b[0m\u001b[1;33m\u001b[0m\u001b[0m\n\u001b[1;32m----> 3\u001b[1;33m \u001b[1;32mfrom\u001b[0m \u001b[0mdb_module\u001b[0m \u001b[1;32mimport\u001b[0m \u001b[0minsert\u001b[0m \u001b[1;32mas\u001b[0m \u001b[0mins\u001b[0m\u001b[1;33m\u001b[0m\u001b[1;33m\u001b[0m\u001b[0m\n\u001b[0m\u001b[0;32m      4\u001b[0m \u001b[1;32mfrom\u001b[0m \u001b[0mbs4\u001b[0m \u001b[1;32mimport\u001b[0m \u001b[0mBeautifulSoup\u001b[0m\u001b[1;33m\u001b[0m\u001b[1;33m\u001b[0m\u001b[0m\n\u001b[0;32m      5\u001b[0m \u001b[1;33m\u001b[0m\u001b[0m\n",
      "\u001b[1;31mModuleNotFoundError\u001b[0m: No module named 'db_module'"
     ]
    }
   ],
   "source": [
    "import pandas as pd\n",
    "\n",
    "import DB.covid_db as cov"
   ]
  },
  {
   "cell_type": "code",
   "execution_count": 8,
   "metadata": {},
   "outputs": [
    {
     "output_type": "execute_result",
     "data": {
      "text/plain": [
       "             일시  지역   누적확진  국내발생  해외유입  전일대비 증감 10만명당 발생률   사망   격리해제   격리중\n",
       "0    2020-11-30  검역  21301     0    10       10         -    0   1618   512\n",
       "1    2020-11-30  검역   2130     0    10       10         -    0   1618   512\n",
       "2    2020-11-30  제주     80     0     1        1     11.93    0     60    20\n",
       "3    2020-11-30  경남    625    19     1       20     18.59    1    388   236\n",
       "4    2020-11-30  경북   1704     4     0        4     64.00   57   1560    87\n",
       "..          ...  ..    ...   ...   ...      ...       ...  ...    ...   ...\n",
       "586  2020-11-01  인천   1049     0     4        4     35.49   11    986    52\n",
       "587  2020-11-01  대구   7176     2     0        2    294.52  196   6943    37\n",
       "588  2020-11-01  부산    592     0     0        0     17.35    9    516    67\n",
       "589  2020-11-01  서울   6056    45     0       45     62.22   78   5496   482\n",
       "590  2020-11-01  합계  26635   101    23      124     51.37  466  24357  1812\n",
       "\n",
       "[591 rows x 10 columns]"
      ],
      "text/html": "<div>\n<style scoped>\n    .dataframe tbody tr th:only-of-type {\n        vertical-align: middle;\n    }\n\n    .dataframe tbody tr th {\n        vertical-align: top;\n    }\n\n    .dataframe thead th {\n        text-align: right;\n    }\n</style>\n<table border=\"1\" class=\"dataframe\">\n  <thead>\n    <tr style=\"text-align: right;\">\n      <th></th>\n      <th>일시</th>\n      <th>지역</th>\n      <th>누적확진</th>\n      <th>국내발생</th>\n      <th>해외유입</th>\n      <th>전일대비 증감</th>\n      <th>10만명당 발생률</th>\n      <th>사망</th>\n      <th>격리해제</th>\n      <th>격리중</th>\n    </tr>\n  </thead>\n  <tbody>\n    <tr>\n      <th>0</th>\n      <td>2020-11-30</td>\n      <td>검역</td>\n      <td>21301</td>\n      <td>0</td>\n      <td>10</td>\n      <td>10</td>\n      <td>-</td>\n      <td>0</td>\n      <td>1618</td>\n      <td>512</td>\n    </tr>\n    <tr>\n      <th>1</th>\n      <td>2020-11-30</td>\n      <td>검역</td>\n      <td>2130</td>\n      <td>0</td>\n      <td>10</td>\n      <td>10</td>\n      <td>-</td>\n      <td>0</td>\n      <td>1618</td>\n      <td>512</td>\n    </tr>\n    <tr>\n      <th>2</th>\n      <td>2020-11-30</td>\n      <td>제주</td>\n      <td>80</td>\n      <td>0</td>\n      <td>1</td>\n      <td>1</td>\n      <td>11.93</td>\n      <td>0</td>\n      <td>60</td>\n      <td>20</td>\n    </tr>\n    <tr>\n      <th>3</th>\n      <td>2020-11-30</td>\n      <td>경남</td>\n      <td>625</td>\n      <td>19</td>\n      <td>1</td>\n      <td>20</td>\n      <td>18.59</td>\n      <td>1</td>\n      <td>388</td>\n      <td>236</td>\n    </tr>\n    <tr>\n      <th>4</th>\n      <td>2020-11-30</td>\n      <td>경북</td>\n      <td>1704</td>\n      <td>4</td>\n      <td>0</td>\n      <td>4</td>\n      <td>64.00</td>\n      <td>57</td>\n      <td>1560</td>\n      <td>87</td>\n    </tr>\n    <tr>\n      <th>...</th>\n      <td>...</td>\n      <td>...</td>\n      <td>...</td>\n      <td>...</td>\n      <td>...</td>\n      <td>...</td>\n      <td>...</td>\n      <td>...</td>\n      <td>...</td>\n      <td>...</td>\n    </tr>\n    <tr>\n      <th>586</th>\n      <td>2020-11-01</td>\n      <td>인천</td>\n      <td>1049</td>\n      <td>0</td>\n      <td>4</td>\n      <td>4</td>\n      <td>35.49</td>\n      <td>11</td>\n      <td>986</td>\n      <td>52</td>\n    </tr>\n    <tr>\n      <th>587</th>\n      <td>2020-11-01</td>\n      <td>대구</td>\n      <td>7176</td>\n      <td>2</td>\n      <td>0</td>\n      <td>2</td>\n      <td>294.52</td>\n      <td>196</td>\n      <td>6943</td>\n      <td>37</td>\n    </tr>\n    <tr>\n      <th>588</th>\n      <td>2020-11-01</td>\n      <td>부산</td>\n      <td>592</td>\n      <td>0</td>\n      <td>0</td>\n      <td>0</td>\n      <td>17.35</td>\n      <td>9</td>\n      <td>516</td>\n      <td>67</td>\n    </tr>\n    <tr>\n      <th>589</th>\n      <td>2020-11-01</td>\n      <td>서울</td>\n      <td>6056</td>\n      <td>45</td>\n      <td>0</td>\n      <td>45</td>\n      <td>62.22</td>\n      <td>78</td>\n      <td>5496</td>\n      <td>482</td>\n    </tr>\n    <tr>\n      <th>590</th>\n      <td>2020-11-01</td>\n      <td>합계</td>\n      <td>26635</td>\n      <td>101</td>\n      <td>23</td>\n      <td>124</td>\n      <td>51.37</td>\n      <td>466</td>\n      <td>24357</td>\n      <td>1812</td>\n    </tr>\n  </tbody>\n</table>\n<p>591 rows × 10 columns</p>\n</div>"
     },
     "metadata": {},
     "execution_count": 8
    }
   ],
   "source": [
    "cov.get_covid_status('20201101', '20201130')\n",
    "covid_status = pd.read_csv('./static/data/covid_status.csv')\n",
    "covid_status"
   ]
  },
  {
   "cell_type": "code",
   "execution_count": 9,
   "metadata": {},
   "outputs": [
    {
     "output_type": "execute_result",
     "data": {
      "text/plain": [
       "             일시  지역   누적확진  국내발생  해외유입  전일대비 증감 10만명당 발생률   사망   격리해제   격리중\n",
       "551  2020-11-03  서울   6103    21     1       22     62.70   78   5545   480\n",
       "552  2020-11-03  합계  26807    46    29       75     51.70  472  24510  1825\n",
       "553  2020-11-02  검역   1787     0     7        7         -    0   1470   317\n",
       "554  2020-11-02  제주     59     0     0        0      8.80    0     59     0\n",
       "555  2020-11-02  경남    319     0     1        1      9.49    0    299    20\n",
       "556  2020-11-02  경북   1588     0     1        1     59.64   57   1517    14\n",
       "557  2020-11-02  전남    190     2     0        2     10.19    2    174    14\n",
       "558  2020-11-02  전북    166     0     0        0      9.13    0    149    17\n",
       "559  2020-11-02  충남    561    11     0       11     26.43    8    490    63\n",
       "560  2020-11-02  충북    192     1     1        2     12.00    2    175    15\n",
       "561  2020-11-02  강원    283     0     1        1     18.37    3    233    47\n",
       "562  2020-11-02  경기   5482    40     1       41     41.37   90   4736   656\n",
       "563  2020-11-02  세종     82     0     0        0     23.95    0     78     4\n",
       "564  2020-11-02  울산    164     0     1        1     14.30    2    154     8\n",
       "565  2020-11-02  대전    442     0     0        0     29.98    6    410    26\n",
       "566  2020-11-02  광주    514     0     0        0     35.29    3    500    11\n",
       "567  2020-11-02  인천   1051     2     0        2     35.55   11    990    50\n",
       "568  2020-11-02  대구   7179     3     0        3    294.65  196   6943    40\n",
       "569  2020-11-02  부산    592     0     0        0     17.35   10    518    64\n",
       "570  2020-11-02  서울   6081    20     5       25     62.47   78   5500   503\n",
       "571  2020-11-02  합계  26732    79    18       97     51.56  468  24395  1869\n",
       "572  2020-11-01  검역   1780     0    14       14         -    0   1470   310\n",
       "573  2020-11-01  제주     59     0     0        0      8.80    0     59     0\n",
       "574  2020-11-01  경남    318     2     0        2      9.46    0    299    19\n",
       "575  2020-11-01  경북   1587     0     0        0     59.61   57   1516    14\n",
       "576  2020-11-01  전남    188     3     0        3     10.08    2    174    12\n",
       "577  2020-11-01  전북    166     0     0        0      9.13    0    149    17\n",
       "578  2020-11-01  충남    550     9     0        9     25.91    8    488    54\n",
       "579  2020-11-01  충북    190     1     0        1     11.88    2    175    13\n",
       "580  2020-11-01  강원    282     3     0        3     18.31    3    233    46\n",
       "581  2020-11-01  경기   5441    36     2       38     41.06   89   4712   640\n",
       "582  2020-11-01  세종     82     0     0        0     23.95    0     78     4\n",
       "583  2020-11-01  울산    163     0     0        0     14.21    2    154     7\n",
       "584  2020-11-01  대전    442     0     0        0     29.98    6    409    27\n",
       "585  2020-11-01  광주    514     0     3        3     35.29    3    500    11\n",
       "586  2020-11-01  인천   1049     0     4        4     35.49   11    986    52\n",
       "587  2020-11-01  대구   7176     2     0        2    294.52  196   6943    37\n",
       "588  2020-11-01  부산    592     0     0        0     17.35    9    516    67\n",
       "589  2020-11-01  서울   6056    45     0       45     62.22   78   5496   482\n",
       "590  2020-11-01  합계  26635   101    23      124     51.37  466  24357  1812"
      ],
      "text/html": "<div>\n<style scoped>\n    .dataframe tbody tr th:only-of-type {\n        vertical-align: middle;\n    }\n\n    .dataframe tbody tr th {\n        vertical-align: top;\n    }\n\n    .dataframe thead th {\n        text-align: right;\n    }\n</style>\n<table border=\"1\" class=\"dataframe\">\n  <thead>\n    <tr style=\"text-align: right;\">\n      <th></th>\n      <th>일시</th>\n      <th>지역</th>\n      <th>누적확진</th>\n      <th>국내발생</th>\n      <th>해외유입</th>\n      <th>전일대비 증감</th>\n      <th>10만명당 발생률</th>\n      <th>사망</th>\n      <th>격리해제</th>\n      <th>격리중</th>\n    </tr>\n  </thead>\n  <tbody>\n    <tr>\n      <th>551</th>\n      <td>2020-11-03</td>\n      <td>서울</td>\n      <td>6103</td>\n      <td>21</td>\n      <td>1</td>\n      <td>22</td>\n      <td>62.70</td>\n      <td>78</td>\n      <td>5545</td>\n      <td>480</td>\n    </tr>\n    <tr>\n      <th>552</th>\n      <td>2020-11-03</td>\n      <td>합계</td>\n      <td>26807</td>\n      <td>46</td>\n      <td>29</td>\n      <td>75</td>\n      <td>51.70</td>\n      <td>472</td>\n      <td>24510</td>\n      <td>1825</td>\n    </tr>\n    <tr>\n      <th>553</th>\n      <td>2020-11-02</td>\n      <td>검역</td>\n      <td>1787</td>\n      <td>0</td>\n      <td>7</td>\n      <td>7</td>\n      <td>-</td>\n      <td>0</td>\n      <td>1470</td>\n      <td>317</td>\n    </tr>\n    <tr>\n      <th>554</th>\n      <td>2020-11-02</td>\n      <td>제주</td>\n      <td>59</td>\n      <td>0</td>\n      <td>0</td>\n      <td>0</td>\n      <td>8.80</td>\n      <td>0</td>\n      <td>59</td>\n      <td>0</td>\n    </tr>\n    <tr>\n      <th>555</th>\n      <td>2020-11-02</td>\n      <td>경남</td>\n      <td>319</td>\n      <td>0</td>\n      <td>1</td>\n      <td>1</td>\n      <td>9.49</td>\n      <td>0</td>\n      <td>299</td>\n      <td>20</td>\n    </tr>\n    <tr>\n      <th>556</th>\n      <td>2020-11-02</td>\n      <td>경북</td>\n      <td>1588</td>\n      <td>0</td>\n      <td>1</td>\n      <td>1</td>\n      <td>59.64</td>\n      <td>57</td>\n      <td>1517</td>\n      <td>14</td>\n    </tr>\n    <tr>\n      <th>557</th>\n      <td>2020-11-02</td>\n      <td>전남</td>\n      <td>190</td>\n      <td>2</td>\n      <td>0</td>\n      <td>2</td>\n      <td>10.19</td>\n      <td>2</td>\n      <td>174</td>\n      <td>14</td>\n    </tr>\n    <tr>\n      <th>558</th>\n      <td>2020-11-02</td>\n      <td>전북</td>\n      <td>166</td>\n      <td>0</td>\n      <td>0</td>\n      <td>0</td>\n      <td>9.13</td>\n      <td>0</td>\n      <td>149</td>\n      <td>17</td>\n    </tr>\n    <tr>\n      <th>559</th>\n      <td>2020-11-02</td>\n      <td>충남</td>\n      <td>561</td>\n      <td>11</td>\n      <td>0</td>\n      <td>11</td>\n      <td>26.43</td>\n      <td>8</td>\n      <td>490</td>\n      <td>63</td>\n    </tr>\n    <tr>\n      <th>560</th>\n      <td>2020-11-02</td>\n      <td>충북</td>\n      <td>192</td>\n      <td>1</td>\n      <td>1</td>\n      <td>2</td>\n      <td>12.00</td>\n      <td>2</td>\n      <td>175</td>\n      <td>15</td>\n    </tr>\n    <tr>\n      <th>561</th>\n      <td>2020-11-02</td>\n      <td>강원</td>\n      <td>283</td>\n      <td>0</td>\n      <td>1</td>\n      <td>1</td>\n      <td>18.37</td>\n      <td>3</td>\n      <td>233</td>\n      <td>47</td>\n    </tr>\n    <tr>\n      <th>562</th>\n      <td>2020-11-02</td>\n      <td>경기</td>\n      <td>5482</td>\n      <td>40</td>\n      <td>1</td>\n      <td>41</td>\n      <td>41.37</td>\n      <td>90</td>\n      <td>4736</td>\n      <td>656</td>\n    </tr>\n    <tr>\n      <th>563</th>\n      <td>2020-11-02</td>\n      <td>세종</td>\n      <td>82</td>\n      <td>0</td>\n      <td>0</td>\n      <td>0</td>\n      <td>23.95</td>\n      <td>0</td>\n      <td>78</td>\n      <td>4</td>\n    </tr>\n    <tr>\n      <th>564</th>\n      <td>2020-11-02</td>\n      <td>울산</td>\n      <td>164</td>\n      <td>0</td>\n      <td>1</td>\n      <td>1</td>\n      <td>14.30</td>\n      <td>2</td>\n      <td>154</td>\n      <td>8</td>\n    </tr>\n    <tr>\n      <th>565</th>\n      <td>2020-11-02</td>\n      <td>대전</td>\n      <td>442</td>\n      <td>0</td>\n      <td>0</td>\n      <td>0</td>\n      <td>29.98</td>\n      <td>6</td>\n      <td>410</td>\n      <td>26</td>\n    </tr>\n    <tr>\n      <th>566</th>\n      <td>2020-11-02</td>\n      <td>광주</td>\n      <td>514</td>\n      <td>0</td>\n      <td>0</td>\n      <td>0</td>\n      <td>35.29</td>\n      <td>3</td>\n      <td>500</td>\n      <td>11</td>\n    </tr>\n    <tr>\n      <th>567</th>\n      <td>2020-11-02</td>\n      <td>인천</td>\n      <td>1051</td>\n      <td>2</td>\n      <td>0</td>\n      <td>2</td>\n      <td>35.55</td>\n      <td>11</td>\n      <td>990</td>\n      <td>50</td>\n    </tr>\n    <tr>\n      <th>568</th>\n      <td>2020-11-02</td>\n      <td>대구</td>\n      <td>7179</td>\n      <td>3</td>\n      <td>0</td>\n      <td>3</td>\n      <td>294.65</td>\n      <td>196</td>\n      <td>6943</td>\n      <td>40</td>\n    </tr>\n    <tr>\n      <th>569</th>\n      <td>2020-11-02</td>\n      <td>부산</td>\n      <td>592</td>\n      <td>0</td>\n      <td>0</td>\n      <td>0</td>\n      <td>17.35</td>\n      <td>10</td>\n      <td>518</td>\n      <td>64</td>\n    </tr>\n    <tr>\n      <th>570</th>\n      <td>2020-11-02</td>\n      <td>서울</td>\n      <td>6081</td>\n      <td>20</td>\n      <td>5</td>\n      <td>25</td>\n      <td>62.47</td>\n      <td>78</td>\n      <td>5500</td>\n      <td>503</td>\n    </tr>\n    <tr>\n      <th>571</th>\n      <td>2020-11-02</td>\n      <td>합계</td>\n      <td>26732</td>\n      <td>79</td>\n      <td>18</td>\n      <td>97</td>\n      <td>51.56</td>\n      <td>468</td>\n      <td>24395</td>\n      <td>1869</td>\n    </tr>\n    <tr>\n      <th>572</th>\n      <td>2020-11-01</td>\n      <td>검역</td>\n      <td>1780</td>\n      <td>0</td>\n      <td>14</td>\n      <td>14</td>\n      <td>-</td>\n      <td>0</td>\n      <td>1470</td>\n      <td>310</td>\n    </tr>\n    <tr>\n      <th>573</th>\n      <td>2020-11-01</td>\n      <td>제주</td>\n      <td>59</td>\n      <td>0</td>\n      <td>0</td>\n      <td>0</td>\n      <td>8.80</td>\n      <td>0</td>\n      <td>59</td>\n      <td>0</td>\n    </tr>\n    <tr>\n      <th>574</th>\n      <td>2020-11-01</td>\n      <td>경남</td>\n      <td>318</td>\n      <td>2</td>\n      <td>0</td>\n      <td>2</td>\n      <td>9.46</td>\n      <td>0</td>\n      <td>299</td>\n      <td>19</td>\n    </tr>\n    <tr>\n      <th>575</th>\n      <td>2020-11-01</td>\n      <td>경북</td>\n      <td>1587</td>\n      <td>0</td>\n      <td>0</td>\n      <td>0</td>\n      <td>59.61</td>\n      <td>57</td>\n      <td>1516</td>\n      <td>14</td>\n    </tr>\n    <tr>\n      <th>576</th>\n      <td>2020-11-01</td>\n      <td>전남</td>\n      <td>188</td>\n      <td>3</td>\n      <td>0</td>\n      <td>3</td>\n      <td>10.08</td>\n      <td>2</td>\n      <td>174</td>\n      <td>12</td>\n    </tr>\n    <tr>\n      <th>577</th>\n      <td>2020-11-01</td>\n      <td>전북</td>\n      <td>166</td>\n      <td>0</td>\n      <td>0</td>\n      <td>0</td>\n      <td>9.13</td>\n      <td>0</td>\n      <td>149</td>\n      <td>17</td>\n    </tr>\n    <tr>\n      <th>578</th>\n      <td>2020-11-01</td>\n      <td>충남</td>\n      <td>550</td>\n      <td>9</td>\n      <td>0</td>\n      <td>9</td>\n      <td>25.91</td>\n      <td>8</td>\n      <td>488</td>\n      <td>54</td>\n    </tr>\n    <tr>\n      <th>579</th>\n      <td>2020-11-01</td>\n      <td>충북</td>\n      <td>190</td>\n      <td>1</td>\n      <td>0</td>\n      <td>1</td>\n      <td>11.88</td>\n      <td>2</td>\n      <td>175</td>\n      <td>13</td>\n    </tr>\n    <tr>\n      <th>580</th>\n      <td>2020-11-01</td>\n      <td>강원</td>\n      <td>282</td>\n      <td>3</td>\n      <td>0</td>\n      <td>3</td>\n      <td>18.31</td>\n      <td>3</td>\n      <td>233</td>\n      <td>46</td>\n    </tr>\n    <tr>\n      <th>581</th>\n      <td>2020-11-01</td>\n      <td>경기</td>\n      <td>5441</td>\n      <td>36</td>\n      <td>2</td>\n      <td>38</td>\n      <td>41.06</td>\n      <td>89</td>\n      <td>4712</td>\n      <td>640</td>\n    </tr>\n    <tr>\n      <th>582</th>\n      <td>2020-11-01</td>\n      <td>세종</td>\n      <td>82</td>\n      <td>0</td>\n      <td>0</td>\n      <td>0</td>\n      <td>23.95</td>\n      <td>0</td>\n      <td>78</td>\n      <td>4</td>\n    </tr>\n    <tr>\n      <th>583</th>\n      <td>2020-11-01</td>\n      <td>울산</td>\n      <td>163</td>\n      <td>0</td>\n      <td>0</td>\n      <td>0</td>\n      <td>14.21</td>\n      <td>2</td>\n      <td>154</td>\n      <td>7</td>\n    </tr>\n    <tr>\n      <th>584</th>\n      <td>2020-11-01</td>\n      <td>대전</td>\n      <td>442</td>\n      <td>0</td>\n      <td>0</td>\n      <td>0</td>\n      <td>29.98</td>\n      <td>6</td>\n      <td>409</td>\n      <td>27</td>\n    </tr>\n    <tr>\n      <th>585</th>\n      <td>2020-11-01</td>\n      <td>광주</td>\n      <td>514</td>\n      <td>0</td>\n      <td>3</td>\n      <td>3</td>\n      <td>35.29</td>\n      <td>3</td>\n      <td>500</td>\n      <td>11</td>\n    </tr>\n    <tr>\n      <th>586</th>\n      <td>2020-11-01</td>\n      <td>인천</td>\n      <td>1049</td>\n      <td>0</td>\n      <td>4</td>\n      <td>4</td>\n      <td>35.49</td>\n      <td>11</td>\n      <td>986</td>\n      <td>52</td>\n    </tr>\n    <tr>\n      <th>587</th>\n      <td>2020-11-01</td>\n      <td>대구</td>\n      <td>7176</td>\n      <td>2</td>\n      <td>0</td>\n      <td>2</td>\n      <td>294.52</td>\n      <td>196</td>\n      <td>6943</td>\n      <td>37</td>\n    </tr>\n    <tr>\n      <th>588</th>\n      <td>2020-11-01</td>\n      <td>부산</td>\n      <td>592</td>\n      <td>0</td>\n      <td>0</td>\n      <td>0</td>\n      <td>17.35</td>\n      <td>9</td>\n      <td>516</td>\n      <td>67</td>\n    </tr>\n    <tr>\n      <th>589</th>\n      <td>2020-11-01</td>\n      <td>서울</td>\n      <td>6056</td>\n      <td>45</td>\n      <td>0</td>\n      <td>45</td>\n      <td>62.22</td>\n      <td>78</td>\n      <td>5496</td>\n      <td>482</td>\n    </tr>\n    <tr>\n      <th>590</th>\n      <td>2020-11-01</td>\n      <td>합계</td>\n      <td>26635</td>\n      <td>101</td>\n      <td>23</td>\n      <td>124</td>\n      <td>51.37</td>\n      <td>466</td>\n      <td>24357</td>\n      <td>1812</td>\n    </tr>\n  </tbody>\n</table>\n</div>"
     },
     "metadata": {},
     "execution_count": 9
    }
   ],
   "source": [
    "covid_status.tail(40)"
   ]
  },
  {
   "cell_type": "code",
   "execution_count": 1,
   "metadata": {},
   "outputs": [],
   "source": [
    "import pandas as pd\n",
    "from DB import db_module, covid_db as cov"
   ]
  },
  {
   "cell_type": "code",
   "execution_count": 3,
   "metadata": {},
   "outputs": [
    {
     "output_type": "error",
     "ename": "OperationalError",
     "evalue": "near \"일시\": syntax error",
     "traceback": [
      "\u001b[1;31m---------------------------------------------------------------------------\u001b[0m",
      "\u001b[1;31mOperationalError\u001b[0m                          Traceback (most recent call last)",
      "\u001b[1;32m<ipython-input-3-fc130a758959>\u001b[0m in \u001b[0;36m<module>\u001b[1;34m\u001b[0m\n\u001b[1;32m----> 1\u001b[1;33m \u001b[0mcov\u001b[0m\u001b[1;33m.\u001b[0m\u001b[0mget_covid_status\u001b[0m\u001b[1;33m(\u001b[0m\u001b[1;34m'20201101'\u001b[0m\u001b[1;33m,\u001b[0m \u001b[1;34m'20201130'\u001b[0m\u001b[1;33m)\u001b[0m\u001b[1;33m\u001b[0m\u001b[1;33m\u001b[0m\u001b[0m\n\u001b[0m\u001b[0;32m      2\u001b[0m \u001b[0mcovid_status\u001b[0m \u001b[1;33m=\u001b[0m \u001b[0mpd\u001b[0m\u001b[1;33m.\u001b[0m\u001b[0mread_csv\u001b[0m\u001b[1;33m(\u001b[0m\u001b[1;34m'./static/data/covid_status.csv'\u001b[0m\u001b[1;33m)\u001b[0m\u001b[1;33m\u001b[0m\u001b[1;33m\u001b[0m\u001b[0m\n",
      "\u001b[1;32mg:\\Workspace\\Python-Web\\Python-flask\\03. Data-analysis Module\\DB\\covid_db.py\u001b[0m in \u001b[0;36mget_covid_status\u001b[1;34m(start_date, end_date)\u001b[0m\n\u001b[0;32m     48\u001b[0m     \u001b[0mcovid_status\u001b[0m \u001b[1;33m=\u001b[0m \u001b[0mcovid_status\u001b[0m\u001b[1;33m.\u001b[0m\u001b[0mreset_index\u001b[0m\u001b[1;33m(\u001b[0m\u001b[1;33m)\u001b[0m\u001b[1;33m\u001b[0m\u001b[1;33m\u001b[0m\u001b[0m\n\u001b[0;32m     49\u001b[0m \u001b[1;33m\u001b[0m\u001b[0m\n\u001b[1;32m---> 50\u001b[1;33m     \u001b[0mins\u001b[0m\u001b[1;33m(\u001b[0m\u001b[0mcovid_status\u001b[0m\u001b[1;33m,\u001b[0m \u001b[0mcovid_status\u001b[0m\u001b[1;33m)\u001b[0m\u001b[1;33m\u001b[0m\u001b[1;33m\u001b[0m\u001b[0m\n\u001b[0m\u001b[0;32m     51\u001b[0m \u001b[1;33m\u001b[0m\u001b[0m\n\u001b[0;32m     52\u001b[0m \u001b[1;33m\u001b[0m\u001b[0m\n",
      "\u001b[1;32mg:\\Workspace\\Python-Web\\Python-flask\\03. Data-analysis Module\\DB\\db_module.py\u001b[0m in \u001b[0;36minsert\u001b[1;34m(df, db_name)\u001b[0m\n\u001b[0;32m     29\u001b[0m         \u001b[1;32mfor\u001b[0m \u001b[0mk\u001b[0m \u001b[1;32min\u001b[0m \u001b[0mrange\u001b[0m\u001b[1;33m(\u001b[0m\u001b[1;36m2\u001b[0m\u001b[1;33m,\u001b[0m \u001b[1;36m10\u001b[0m\u001b[1;33m)\u001b[0m\u001b[1;33m:\u001b[0m\u001b[1;33m\u001b[0m\u001b[1;33m\u001b[0m\u001b[0m\n\u001b[0;32m     30\u001b[0m             \u001b[0mparams\u001b[0m\u001b[1;33m.\u001b[0m\u001b[0mappend\u001b[0m\u001b[1;33m(\u001b[0m\u001b[0mfloat\u001b[0m\u001b[1;33m(\u001b[0m\u001b[0mdf\u001b[0m\u001b[1;33m.\u001b[0m\u001b[0miloc\u001b[0m\u001b[1;33m[\u001b[0m\u001b[0mi\u001b[0m\u001b[1;33m,\u001b[0m \u001b[0mk\u001b[0m\u001b[1;33m]\u001b[0m\u001b[1;33m)\u001b[0m\u001b[1;33m)\u001b[0m\u001b[1;33m\u001b[0m\u001b[1;33m\u001b[0m\u001b[0m\n\u001b[1;32m---> 31\u001b[1;33m         \u001b[0mprint\u001b[0m\u001b[1;33m(\u001b[0m\u001b[0mparams\u001b[0m\u001b[1;33m)\u001b[0m\u001b[1;33m\u001b[0m\u001b[1;33m\u001b[0m\u001b[0m\n\u001b[0m\u001b[0;32m     32\u001b[0m         \u001b[0mcur\u001b[0m\u001b[1;33m.\u001b[0m\u001b[0mexecute\u001b[0m\u001b[1;33m(\u001b[0m\u001b[0msql_insert\u001b[0m\u001b[1;33m,\u001b[0m \u001b[0mparams\u001b[0m\u001b[1;33m)\u001b[0m\u001b[1;33m\u001b[0m\u001b[1;33m\u001b[0m\u001b[0m\n\u001b[0;32m     33\u001b[0m         \u001b[0mconn\u001b[0m\u001b[1;33m.\u001b[0m\u001b[0mcommit\u001b[0m\u001b[1;33m(\u001b[0m\u001b[1;33m)\u001b[0m\u001b[1;33m\u001b[0m\u001b[1;33m\u001b[0m\u001b[0m\n",
      "\u001b[1;31mOperationalError\u001b[0m: near \"일시\": syntax error"
     ]
    }
   ],
   "source": [
    "cov.get_covid_status('20201101', '20201130')\n",
    "covid_status = pd.read_csv('./static/data/covid_status.csv')"
   ]
  },
  {
   "source": [
    "### rest api에서 데이터 가져오기(시도별)"
   ],
   "cell_type": "markdown",
   "metadata": {}
  },
  {
   "cell_type": "code",
   "execution_count": 1,
   "metadata": {},
   "outputs": [],
   "source": [
    "import requests\n",
    "import pandas as pd\n",
    "from datetime import datetime\n",
    "from bs4 import BeautifulSoup"
   ]
  },
  {
   "cell_type": "code",
   "execution_count": 2,
   "metadata": {},
   "outputs": [],
   "source": [
    "key_fd = open('gov_data_api_key.txt', mode='r')\n",
    "govapi_key = key_fd.read(100)\n",
    "key_fd.close()"
   ]
  },
  {
   "cell_type": "code",
   "execution_count": 3,
   "metadata": {},
   "outputs": [],
   "source": [
    "start_date = '20201222'; end_date = '20201222'\n",
    "base_url = 'http://openapi.data.go.kr/openapi/service/rest/Covid19/getCovid19SidoInfStateJson'\n",
    "url = f'{base_url}?ServiceKey={govapi_key}&pageNo=1&numOfRows=10&startCreateDt={start_date}&endCreateDt={end_date}'\n",
    "result = requests.get(url)\n",
    "soup = BeautifulSoup(result.text, 'xml')"
   ]
  },
  {
   "cell_type": "code",
   "execution_count": 4,
   "metadata": {},
   "outputs": [],
   "source": [
    "items = soup.find_all('item')\n",
    "regions, qur_rates, std_days, death_cnts, inc_decs, isol_clr_cnts, isol_ing_cnts, def_cnts, local_occ_cnts, over_flow_cnts = [], [], [], [], [], [], [], [], [], []\n",
    "for item in items:\n",
    "    death_cnt = item.find('deathCnt').string if item.find('deathCnt') else 0\n",
    "    def_cnt = item.find('defCnt').string if item.find('defCnt') else 0\n",
    "    region = item.find('gubun').string if item.find('gubun') else ''\n",
    "    inc_dec = item.find('incDec').string if item.find('incDec') else 0\n",
    "    isol_clr_cnt = item.find('isolClearCnt').string if item.find('isolClearCnt') else 0\n",
    "    isol_ing_cnt = item.find('isolIngCnt').string if item.find('isolIngCnt') else 0\n",
    "    local_occ_cnt = item.find('localOccCnt').string if item.find('localOccCnt') else 0\n",
    "    over_flow_cnt = item.find('overFlowCnt').string if item.find('overFlowCnt') else 0\n",
    "    qur_rate = item.find('qurRate').string if item.find('qurRate') else ''\n",
    "    if qur_rate == None:\n",
    "        qur_rate = '-'\n",
    "    elif qur_rate[-1] == '.':\n",
    "        qur_rate = qur_rate[:-1]\n",
    "    std_day = ''.join(item.find('stdDay').string.split()[:-1]).replace('년', '-').replace('월', '-').replace('일', '')\n",
    "    std_day = datetime.strptime(std_day, '%Y-%m-%d')\n",
    "    std_day = std_day.strftime('%Y-%m-%d')\n",
    "    regions.append(region); qur_rates.append(qur_rate); std_days.append(std_day); death_cnts.append(death_cnt) \n",
    "    inc_decs.append(inc_dec); isol_clr_cnts.append(isol_clr_cnt); def_cnts.append(def_cnt)\n",
    "    local_occ_cnts.append(local_occ_cnt); isol_ing_cnts.append(isol_ing_cnt); over_flow_cnts.append(over_flow_cnt)"
   ]
  },
  {
   "cell_type": "code",
   "execution_count": 5,
   "metadata": {},
   "outputs": [],
   "source": [
    "covid_status = pd.DataFrame({\n",
    "    '일시': std_days,\n",
    "    '지역': regions,\n",
    "    '누적확진': def_cnts,\n",
    "    '국내발생': local_occ_cnts,\n",
    "    '해외유입': over_flow_cnts,\n",
    "    '전일대비 증감': inc_decs,\n",
    "    '10만명당 발생률': qur_rates,\n",
    "    '사망': death_cnts,\n",
    "    '격리해제': isol_clr_cnts,\n",
    "    '격리중': isol_ing_cnts\n",
    "})\n",
    "\n",
    "covid_status = covid_status.set_index('지역')\n",
    "covid_status = covid_status.drop(['검역'])\n",
    "covid_status = covid_status.reset_index()\n",
    "covid_status = covid_status.set_index('일시')\n",
    "covid_status = covid_status.reset_index()"
   ]
  },
  {
   "cell_type": "code",
   "execution_count": 9,
   "metadata": {},
   "outputs": [
    {
     "output_type": "execute_result",
     "data": {
      "text/plain": [
       "              일시  지역  누적확진 국내발생 해외유입 전일대비 증감 10만명당 발생률  사망  격리해제  격리중\n",
       "0     2020-12-21  제주   252   23    0      23     18.93   0   102  150\n",
       "1     2020-12-21  경남  1077   15    0      15     26.36   3   748  326\n",
       "2     2020-12-21  경북  2035   48    0      48     70.05  61  1715  259\n",
       "3     2020-12-21  전남   508    8    1       9     25.79   5   418   85\n",
       "4     2020-12-21  전북   688   11    2      13     28.67   7   441  240\n",
       "...          ...  ..   ...  ...  ...     ...       ...  ..   ...  ...\n",
       "5450  2020-03-01  인천     0    0    0       0         -   0     0    0\n",
       "5451  2020-03-01  대구     0    0    0     469         -   9     0    0\n",
       "5452  2020-03-01  부산     0    0    0       3         -   0     0    0\n",
       "5453  2020-03-01  서울     0    0    0      10         -   0     0    0\n",
       "5454  2020-03-01  합계     0    0    0     586         -  18     0    0\n",
       "\n",
       "[5455 rows x 10 columns]"
      ],
      "text/html": "<div>\n<style scoped>\n    .dataframe tbody tr th:only-of-type {\n        vertical-align: middle;\n    }\n\n    .dataframe tbody tr th {\n        vertical-align: top;\n    }\n\n    .dataframe thead th {\n        text-align: right;\n    }\n</style>\n<table border=\"1\" class=\"dataframe\">\n  <thead>\n    <tr style=\"text-align: right;\">\n      <th></th>\n      <th>일시</th>\n      <th>지역</th>\n      <th>누적확진</th>\n      <th>국내발생</th>\n      <th>해외유입</th>\n      <th>전일대비 증감</th>\n      <th>10만명당 발생률</th>\n      <th>사망</th>\n      <th>격리해제</th>\n      <th>격리중</th>\n    </tr>\n  </thead>\n  <tbody>\n    <tr>\n      <th>0</th>\n      <td>2020-12-21</td>\n      <td>제주</td>\n      <td>252</td>\n      <td>23</td>\n      <td>0</td>\n      <td>23</td>\n      <td>18.93</td>\n      <td>0</td>\n      <td>102</td>\n      <td>150</td>\n    </tr>\n    <tr>\n      <th>1</th>\n      <td>2020-12-21</td>\n      <td>경남</td>\n      <td>1077</td>\n      <td>15</td>\n      <td>0</td>\n      <td>15</td>\n      <td>26.36</td>\n      <td>3</td>\n      <td>748</td>\n      <td>326</td>\n    </tr>\n    <tr>\n      <th>2</th>\n      <td>2020-12-21</td>\n      <td>경북</td>\n      <td>2035</td>\n      <td>48</td>\n      <td>0</td>\n      <td>48</td>\n      <td>70.05</td>\n      <td>61</td>\n      <td>1715</td>\n      <td>259</td>\n    </tr>\n    <tr>\n      <th>3</th>\n      <td>2020-12-21</td>\n      <td>전남</td>\n      <td>508</td>\n      <td>8</td>\n      <td>1</td>\n      <td>9</td>\n      <td>25.79</td>\n      <td>5</td>\n      <td>418</td>\n      <td>85</td>\n    </tr>\n    <tr>\n      <th>4</th>\n      <td>2020-12-21</td>\n      <td>전북</td>\n      <td>688</td>\n      <td>11</td>\n      <td>2</td>\n      <td>13</td>\n      <td>28.67</td>\n      <td>7</td>\n      <td>441</td>\n      <td>240</td>\n    </tr>\n    <tr>\n      <th>...</th>\n      <td>...</td>\n      <td>...</td>\n      <td>...</td>\n      <td>...</td>\n      <td>...</td>\n      <td>...</td>\n      <td>...</td>\n      <td>...</td>\n      <td>...</td>\n      <td>...</td>\n    </tr>\n    <tr>\n      <th>5450</th>\n      <td>2020-03-01</td>\n      <td>인천</td>\n      <td>0</td>\n      <td>0</td>\n      <td>0</td>\n      <td>0</td>\n      <td>-</td>\n      <td>0</td>\n      <td>0</td>\n      <td>0</td>\n    </tr>\n    <tr>\n      <th>5451</th>\n      <td>2020-03-01</td>\n      <td>대구</td>\n      <td>0</td>\n      <td>0</td>\n      <td>0</td>\n      <td>469</td>\n      <td>-</td>\n      <td>9</td>\n      <td>0</td>\n      <td>0</td>\n    </tr>\n    <tr>\n      <th>5452</th>\n      <td>2020-03-01</td>\n      <td>부산</td>\n      <td>0</td>\n      <td>0</td>\n      <td>0</td>\n      <td>3</td>\n      <td>-</td>\n      <td>0</td>\n      <td>0</td>\n      <td>0</td>\n    </tr>\n    <tr>\n      <th>5453</th>\n      <td>2020-03-01</td>\n      <td>서울</td>\n      <td>0</td>\n      <td>0</td>\n      <td>0</td>\n      <td>10</td>\n      <td>-</td>\n      <td>0</td>\n      <td>0</td>\n      <td>0</td>\n    </tr>\n    <tr>\n      <th>5454</th>\n      <td>2020-03-01</td>\n      <td>합계</td>\n      <td>0</td>\n      <td>0</td>\n      <td>0</td>\n      <td>586</td>\n      <td>-</td>\n      <td>18</td>\n      <td>0</td>\n      <td>0</td>\n    </tr>\n  </tbody>\n</table>\n<p>5455 rows × 10 columns</p>\n</div>"
     },
     "metadata": {},
     "execution_count": 9
    }
   ],
   "source": [
    "covid_status"
   ]
  },
  {
   "source": [
    "### insert into covid_status"
   ],
   "cell_type": "markdown",
   "metadata": {}
  },
  {
   "cell_type": "code",
   "execution_count": 6,
   "metadata": {},
   "outputs": [],
   "source": [
    "import sqlite3"
   ]
  },
  {
   "cell_type": "code",
   "execution_count": 7,
   "metadata": {},
   "outputs": [],
   "source": [
    "from DB import db_module as dm, covid_db as cov"
   ]
  },
  {
   "cell_type": "code",
   "execution_count": 3,
   "metadata": {},
   "outputs": [],
   "source": [
    "dm.create_table()"
   ]
  },
  {
   "cell_type": "code",
   "execution_count": 8,
   "metadata": {},
   "outputs": [],
   "source": [
    "sql_insert = f'insert into covid_status values(?, ?, ?, ?, ?, ?, ?, ?, ?, ?);'\n",
    "for i in covid_status.index:\n",
    "        params = [covid_status['일시'][i], covid_status['지역'][i], int(covid_status['누적확진'][i]), int(covid_status['국내발생'][i]), int(covid_status['해외유입'][i]), int(covid_status['전일대비 증감'][i]), int(covid_status['사망'][i]), int(covid_status['격리해제'][i]), int(covid_status['격리중'][i])]\n",
    "        params.append(None if covid_status['10만명당 발생률'][i] == '-' else float(covid_status['10만명당 발생률'][i]))\n",
    "        conn = sqlite3.connect('./DB/covid_1.db')\n",
    "        cur = conn.cursor()\n",
    "        cur.execute(sql_insert, params)\n",
    "        conn.commit()\n",
    "        conn.close()"
   ]
  },
  {
   "source": [
    "### 성별, 연령별"
   ],
   "cell_type": "markdown",
   "metadata": {}
  },
  {
   "cell_type": "code",
   "execution_count": 9,
   "metadata": {},
   "outputs": [],
   "source": [
    "import requests\n",
    "import pandas as pd\n",
    "from datetime import datetime\n",
    "from bs4 import BeautifulSoup"
   ]
  },
  {
   "cell_type": "code",
   "execution_count": 10,
   "metadata": {},
   "outputs": [],
   "source": [
    "key_fd = open('gov_data_api_key.txt', mode='r')\n",
    "govapi_key = key_fd.read(100)\n",
    "key_fd.close()"
   ]
  },
  {
   "cell_type": "code",
   "execution_count": 11,
   "metadata": {},
   "outputs": [],
   "source": [
    "start_date = '20201222'; end_date = '20201222'\n",
    "base_url = 'http://openapi.data.go.kr/openapi/service/rest/Covid19/getCovid19GenAgeCaseInfJson'\n",
    "url = f'{base_url}?ServiceKey={govapi_key}&pageNo=1&numOfRows=10&startCreateDt={start_date}&endCreateDt={end_date}'\n",
    "result = requests.get(url)\n",
    "soup = BeautifulSoup(result.text, 'xml')"
   ]
  },
  {
   "cell_type": "code",
   "execution_count": 12,
   "metadata": {},
   "outputs": [],
   "source": [
    "items = soup.find_all('item')\n",
    "confCases, confCaseRates, dates, cri_rates, deaths, deathRates, targets = [], [], [], [], [], [], []\n",
    "for item in items:\n",
    "    confCases.append(item.find('confCase').string if item.find('confCase') else 0)\n",
    "    confCaseRates.append(item.find('confCaseRate').string if item.find('confCaseRate') else 0)\n",
    "    dates.append(item.find('createDt').string.split()[0] if item.find('createDt') else '')\n",
    "    cri_rates.append(item.find('criticalRate').string if item.find('criticalRate') else 0)\n",
    "    deaths.append(item.find('death').string if item.find('death') else 0)\n",
    "    deathRates.append(item.find('deathRate').string if item.find('deathRate') else 0)\n",
    "    targets.append(item.find('gubun').string if item.find('gubun') else 0)"
   ]
  },
  {
   "cell_type": "code",
   "execution_count": 13,
   "metadata": {},
   "outputs": [
    {
     "output_type": "execute_result",
     "data": {
      "text/plain": [
       "            일시     구분    확진자    확진률    치명률  사망자    사망률\n",
       "0   2020-12-22    0-9   1715   3.33      0    0   0.00\n",
       "1   2020-12-22  10-19   3206   6.23      0    0   0.00\n",
       "2   2020-12-22  20-29   8657  16.82      0    0   0.00\n",
       "3   2020-12-22  30-39   6518  12.67   0.06    4   0.55\n",
       "4   2020-12-22  40-49   7223  14.04   0.08    6   0.83\n",
       "5   2020-12-22  50-59   9582  18.62    0.3   29   4.02\n",
       "6   2020-12-22  60-69   8015  15.58    1.1   88  12.19\n",
       "7   2020-12-22  70-79   4065    7.9   5.19  211  29.22\n",
       "8   2020-12-22  80 이상   2479   4.82  15.49  384  53.19\n",
       "9   2020-12-22     여성  26708   51.9   1.34  357  49.45\n",
       "10  2020-12-22     남성  24752   48.1   1.47  365  50.55"
      ],
      "text/html": "<div>\n<style scoped>\n    .dataframe tbody tr th:only-of-type {\n        vertical-align: middle;\n    }\n\n    .dataframe tbody tr th {\n        vertical-align: top;\n    }\n\n    .dataframe thead th {\n        text-align: right;\n    }\n</style>\n<table border=\"1\" class=\"dataframe\">\n  <thead>\n    <tr style=\"text-align: right;\">\n      <th></th>\n      <th>일시</th>\n      <th>구분</th>\n      <th>확진자</th>\n      <th>확진률</th>\n      <th>치명률</th>\n      <th>사망자</th>\n      <th>사망률</th>\n    </tr>\n  </thead>\n  <tbody>\n    <tr>\n      <th>0</th>\n      <td>2020-12-22</td>\n      <td>0-9</td>\n      <td>1715</td>\n      <td>3.33</td>\n      <td>0</td>\n      <td>0</td>\n      <td>0.00</td>\n    </tr>\n    <tr>\n      <th>1</th>\n      <td>2020-12-22</td>\n      <td>10-19</td>\n      <td>3206</td>\n      <td>6.23</td>\n      <td>0</td>\n      <td>0</td>\n      <td>0.00</td>\n    </tr>\n    <tr>\n      <th>2</th>\n      <td>2020-12-22</td>\n      <td>20-29</td>\n      <td>8657</td>\n      <td>16.82</td>\n      <td>0</td>\n      <td>0</td>\n      <td>0.00</td>\n    </tr>\n    <tr>\n      <th>3</th>\n      <td>2020-12-22</td>\n      <td>30-39</td>\n      <td>6518</td>\n      <td>12.67</td>\n      <td>0.06</td>\n      <td>4</td>\n      <td>0.55</td>\n    </tr>\n    <tr>\n      <th>4</th>\n      <td>2020-12-22</td>\n      <td>40-49</td>\n      <td>7223</td>\n      <td>14.04</td>\n      <td>0.08</td>\n      <td>6</td>\n      <td>0.83</td>\n    </tr>\n    <tr>\n      <th>5</th>\n      <td>2020-12-22</td>\n      <td>50-59</td>\n      <td>9582</td>\n      <td>18.62</td>\n      <td>0.3</td>\n      <td>29</td>\n      <td>4.02</td>\n    </tr>\n    <tr>\n      <th>6</th>\n      <td>2020-12-22</td>\n      <td>60-69</td>\n      <td>8015</td>\n      <td>15.58</td>\n      <td>1.1</td>\n      <td>88</td>\n      <td>12.19</td>\n    </tr>\n    <tr>\n      <th>7</th>\n      <td>2020-12-22</td>\n      <td>70-79</td>\n      <td>4065</td>\n      <td>7.9</td>\n      <td>5.19</td>\n      <td>211</td>\n      <td>29.22</td>\n    </tr>\n    <tr>\n      <th>8</th>\n      <td>2020-12-22</td>\n      <td>80 이상</td>\n      <td>2479</td>\n      <td>4.82</td>\n      <td>15.49</td>\n      <td>384</td>\n      <td>53.19</td>\n    </tr>\n    <tr>\n      <th>9</th>\n      <td>2020-12-22</td>\n      <td>여성</td>\n      <td>26708</td>\n      <td>51.9</td>\n      <td>1.34</td>\n      <td>357</td>\n      <td>49.45</td>\n    </tr>\n    <tr>\n      <th>10</th>\n      <td>2020-12-22</td>\n      <td>남성</td>\n      <td>24752</td>\n      <td>48.1</td>\n      <td>1.47</td>\n      <td>365</td>\n      <td>50.55</td>\n    </tr>\n  </tbody>\n</table>\n</div>"
     },
     "metadata": {},
     "execution_count": 13
    }
   ],
   "source": [
    "age_gender = pd.DataFrame({\n",
    "    '일시': dates,\n",
    "    '구분': targets,\n",
    "    '확진자': confCases,\n",
    "    '확진률': confCaseRates,\n",
    "    '치명률': cri_rates,\n",
    "    '사망자': deaths,\n",
    "    '사망률': deathRates\n",
    "})\n",
    "age_gender"
   ]
  },
  {
   "cell_type": "code",
   "execution_count": 14,
   "metadata": {},
   "outputs": [],
   "source": [
    "import sqlite3\n",
    "from DB import db_module as dm, covid_db as cov"
   ]
  },
  {
   "cell_type": "code",
   "execution_count": 7,
   "metadata": {},
   "outputs": [],
   "source": [
    "sql = '''create table age_gender (\n",
    "    date text not null,\n",
    "    target text not null,\n",
    "    confCase int default 0,\n",
    "    confRate float default 0,\n",
    "    criRate float default 0,\n",
    "    death int default 0,\n",
    "    deathRate float default 0    \n",
    ");'''\n",
    "dm.create_table(sql)"
   ]
  },
  {
   "cell_type": "code",
   "execution_count": 15,
   "metadata": {},
   "outputs": [],
   "source": [
    "sql_insert = f'insert into age_gender values(?, ?, ?, ?, ?, ?, ?);'\n",
    "for i in age_gender.index:\n",
    "        params = [age_gender['일시'][i], age_gender['구분'][i], int(age_gender['확진자'][i]), float(age_gender['확진률'][i]), float(age_gender['치명률'][i]), int(age_gender['사망자'][i]), float(age_gender['사망률'][i])]\n",
    "        conn = sqlite3.connect('./DB/covid_1.db')\n",
    "        cur = conn.cursor()\n",
    "        cur.execute(sql_insert, params)\n",
    "        conn.commit()\n",
    "        conn.close()"
   ]
  },
  {
   "cell_type": "code",
   "execution_count": 4,
   "metadata": {},
   "outputs": [],
   "source": [
    "start_date = '20200301'; end_date = '20201221'\n",
    "base_url = 'http://openapi.data.go.kr/openapi/service/rest/Covid19/getCovid19NatInfStateJson'\n",
    "url = f'{base_url}?ServiceKey={govapi_key}&pageNo=1&numOfRows=10&startCreateDt={start_date}&endCreateDt={end_date}'\n",
    "result = requests.get(url)\n",
    "soup = BeautifulSoup(result.text, 'xml')"
   ]
  },
  {
   "cell_type": "code",
   "execution_count": 5,
   "metadata": {},
   "outputs": [],
   "source": [
    "items = soup.find_all('item')\n",
    "natDefs, continents, dates, nations, natDeaths, natDeathRates = [], [], [], [], [], []\n",
    "for item in items:\n",
    "    natDefs.append(item.find('natDefCnt').string if item.find('natDefCnt') else 0)\n",
    "    continents.append(item.find('areaNm').string if item.find('areaNm') else '')\n",
    "    date = ''.join(item.find('stdDay').string.split()[:-1]).replace('년', '-').replace('월', '-').replace('일', '')\n",
    "    date = datetime.strptime(date, '%Y-%m-%d')\n",
    "    date = date.strftime('%Y-%m-%d')\n",
    "    dates.append(date)\n",
    "    nations.append(item.find('nationNm').string if item.find('nationNm') else '')\n",
    "    natDeaths.append(item.find('natDeathCnt').string if item.find('natDeathCnt') else 0)\n",
    "    natDeathRates.append(item.find('natDeathRate').string if item.find('natDeathRate') else 0)"
   ]
  },
  {
   "cell_type": "code",
   "execution_count": 6,
   "metadata": {},
   "outputs": [
    {
     "output_type": "execute_result",
     "data": {
      "text/plain": [
       "               일시    지역       국가 국가별 확진자 국가별 사망자    확진률 대비 사망률\n",
       "0      2020-12-21    기타  기타지역 영토  289281    3395  1.1735993722\n",
       "1      2020-12-21  아프리카      레소토    2285      44  1.9256017505\n",
       "2      2020-12-21  아프리카      코모로     643       7  1.0886469673\n",
       "3      2020-12-21  아프리카  상투메프린시페    1012      17  1.6798418972\n",
       "4      2020-12-21  아프리카      남수단    3228      62  1.9206939281\n",
       "...           ...   ...      ...     ...     ...           ...\n",
       "53398  2020-03-16   아시아      마카오      10       0           0.0\n",
       "53399  2020-03-16   아시아       대만      59       1  1.6949152542\n",
       "53400  2020-03-16   아시아       홍콩     149       4  2.6845637583\n",
       "53401  2020-03-16   아시아       중국   80860    3213  3.9735345040\n",
       "53402  2020-03-14    기타       건지       1       0           0.0\n",
       "\n",
       "[53403 rows x 6 columns]"
      ],
      "text/html": "<div>\n<style scoped>\n    .dataframe tbody tr th:only-of-type {\n        vertical-align: middle;\n    }\n\n    .dataframe tbody tr th {\n        vertical-align: top;\n    }\n\n    .dataframe thead th {\n        text-align: right;\n    }\n</style>\n<table border=\"1\" class=\"dataframe\">\n  <thead>\n    <tr style=\"text-align: right;\">\n      <th></th>\n      <th>일시</th>\n      <th>지역</th>\n      <th>국가</th>\n      <th>국가별 확진자</th>\n      <th>국가별 사망자</th>\n      <th>확진률 대비 사망률</th>\n    </tr>\n  </thead>\n  <tbody>\n    <tr>\n      <th>0</th>\n      <td>2020-12-21</td>\n      <td>기타</td>\n      <td>기타지역 영토</td>\n      <td>289281</td>\n      <td>3395</td>\n      <td>1.1735993722</td>\n    </tr>\n    <tr>\n      <th>1</th>\n      <td>2020-12-21</td>\n      <td>아프리카</td>\n      <td>레소토</td>\n      <td>2285</td>\n      <td>44</td>\n      <td>1.9256017505</td>\n    </tr>\n    <tr>\n      <th>2</th>\n      <td>2020-12-21</td>\n      <td>아프리카</td>\n      <td>코모로</td>\n      <td>643</td>\n      <td>7</td>\n      <td>1.0886469673</td>\n    </tr>\n    <tr>\n      <th>3</th>\n      <td>2020-12-21</td>\n      <td>아프리카</td>\n      <td>상투메프린시페</td>\n      <td>1012</td>\n      <td>17</td>\n      <td>1.6798418972</td>\n    </tr>\n    <tr>\n      <th>4</th>\n      <td>2020-12-21</td>\n      <td>아프리카</td>\n      <td>남수단</td>\n      <td>3228</td>\n      <td>62</td>\n      <td>1.9206939281</td>\n    </tr>\n    <tr>\n      <th>...</th>\n      <td>...</td>\n      <td>...</td>\n      <td>...</td>\n      <td>...</td>\n      <td>...</td>\n      <td>...</td>\n    </tr>\n    <tr>\n      <th>53398</th>\n      <td>2020-03-16</td>\n      <td>아시아</td>\n      <td>마카오</td>\n      <td>10</td>\n      <td>0</td>\n      <td>0.0</td>\n    </tr>\n    <tr>\n      <th>53399</th>\n      <td>2020-03-16</td>\n      <td>아시아</td>\n      <td>대만</td>\n      <td>59</td>\n      <td>1</td>\n      <td>1.6949152542</td>\n    </tr>\n    <tr>\n      <th>53400</th>\n      <td>2020-03-16</td>\n      <td>아시아</td>\n      <td>홍콩</td>\n      <td>149</td>\n      <td>4</td>\n      <td>2.6845637583</td>\n    </tr>\n    <tr>\n      <th>53401</th>\n      <td>2020-03-16</td>\n      <td>아시아</td>\n      <td>중국</td>\n      <td>80860</td>\n      <td>3213</td>\n      <td>3.9735345040</td>\n    </tr>\n    <tr>\n      <th>53402</th>\n      <td>2020-03-14</td>\n      <td>기타</td>\n      <td>건지</td>\n      <td>1</td>\n      <td>0</td>\n      <td>0.0</td>\n    </tr>\n  </tbody>\n</table>\n<p>53403 rows × 6 columns</p>\n</div>"
     },
     "metadata": {},
     "execution_count": 6
    }
   ],
   "source": [
    "foreign_covid = pd.DataFrame({\n",
    "    '일시': dates,\n",
    "    '지역': continents,\n",
    "    '국가': nations,\n",
    "    '국가별 확진자': natDefs,\n",
    "    '국가별 사망자': natDeaths,\n",
    "    '확진률 대비 사망률': natDeathRates\n",
    "})\n",
    "foreign_covid"
   ]
  },
  {
   "cell_type": "code",
   "execution_count": 15,
   "metadata": {},
   "outputs": [],
   "source": [
    "sql = '''create table foreign_covid (\n",
    "    date text not null,\n",
    "    continent text not null,\n",
    "    nation text not null,\n",
    "    natDef int default 0,\n",
    "    natDeath int default 0,\n",
    "    natDeathRate float default 0\n",
    ");'''\n",
    "dm.create_table(sql)"
   ]
  },
  {
   "cell_type": "code",
   "execution_count": 12,
   "metadata": {},
   "outputs": [],
   "source": [
    "sql_insert = 'insert into foreign_covid values(?, ?, ?, ?, ?, ?)'\n",
    "for i in foreign_covid.index:\n",
    "    params = [foreign_covid['일시'][i], foreign_covid['지역'][i], foreign_covid['국가'][i], int(foreign_covid['국가별 확진자'][i]), int(foreign_covid['국가별 사망자'][i]), round(float(foreign_covid['확진률 대비 사망률'][i]), 2)]\n",
    "    conn = sqlite3.connect('./DB/covid_1.db')\n",
    "    cur = conn.cursor()\n",
    "    cur.execute(sql_insert, params)\n",
    "    conn.commit()\n",
    "    conn.close()"
   ]
  },
  {
   "cell_type": "code",
   "execution_count": null,
   "metadata": {},
   "outputs": [],
   "source": []
  }
 ]
}