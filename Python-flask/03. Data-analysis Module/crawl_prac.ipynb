{
 "metadata": {
  "language_info": {
   "codemirror_mode": {
    "name": "ipython",
    "version": 3
   },
   "file_extension": ".py",
   "mimetype": "text/x-python",
   "name": "python",
   "nbconvert_exporter": "python",
   "pygments_lexer": "ipython3",
   "version": "3.8.3-final"
  },
  "orig_nbformat": 2,
  "kernelspec": {
   "name": "python3",
   "display_name": "Python 3",
   "language": "python"
  }
 },
 "nbformat": 4,
 "nbformat_minor": 2,
 "cells": [
  {
   "cell_type": "code",
   "execution_count": 1,
   "metadata": {},
   "outputs": [],
   "source": [
    "from bs4 import BeautifulSoup\n",
    "from urllib.request import urlopen\n",
    "from urllib.parse import urljoin\n",
    "import requests"
   ]
  },
  {
   "cell_type": "code",
   "execution_count": 6,
   "metadata": {},
   "outputs": [],
   "source": [
    "url = 'https://music.bugs.co.kr/'\n",
    "html = urlopen(url)\n",
    "soup = BeautifulSoup(html, 'html.parser')\n",
    "\n",
    "chart = soup.find('div', {'class': 'trackChart'})\n",
    "tbody = chart.find('tbody')\n",
    "trs = tbody.find_all('tr')"
   ]
  },
  {
   "cell_type": "code",
   "execution_count": 8,
   "metadata": {},
   "outputs": [
    {
     "output_type": "execute_result",
     "data": {
      "text/plain": [
       "[['https://image.bugsm.co.kr/album/images/60/40212/4021262.jpg?version=20201229063716.0',\n",
       "  '우린 어쩌다 헤어진 걸까',\n",
       "  '허각'],\n",
       " ['https://image.bugsm.co.kr/album/images/60/203669/20366914.jpg?version=20201217002328.0',\n",
       "  'For You (Feat. Crush)',\n",
       "  '이하이'],\n",
       " ['https://image.bugsm.co.kr/album/images/60/203673/20367316.jpg?version=20201228113002.0',\n",
       "  'What Do I Call You',\n",
       "  '태연 (TAEYEON)'],\n",
       " ['https://image.bugsm.co.kr/album/images/60/40217/4021701.jpg?version=20201230063539.0',\n",
       "  '요즘',\n",
       "  '양다일'],\n",
       " ['https://image.bugsm.co.kr/album/images/60/40207/4020725.jpg?version=20201224063358.0',\n",
       "  '입김',\n",
       "  '10CM'],\n",
       " ['https://image.bugsm.co.kr/album/images/60/203449/20344912.jpg?version=20200918130006.0',\n",
       "  'Dynamite',\n",
       "  '방탄소년단'],\n",
       " ['https://image.bugsm.co.kr/album/images/60/203682/20368283.jpg?version=20201222120503.0',\n",
       "  'CREDIT (Feat. 염따, 기리보이, Zion.T)',\n",
       "  '릴보이(lIlBOI)'],\n",
       " ['https://image.bugsm.co.kr/album/images/60/203619/20361943.jpg?version=20201130120023.0',\n",
       "  'Life Goes On',\n",
       "  '방탄소년단'],\n",
       " ['https://image.bugsm.co.kr/album/images/60/40141/4014150.jpg?version=20201120002445.0',\n",
       "  '밤하늘의 별을(2020)',\n",
       "  '경서'],\n",
       " ['https://image.bugsm.co.kr/album/images/60/203619/20361954.jpg?version=20201222115812.0',\n",
       "  'VVS (Feat. JUSTHIS) (Prod. GroovyRoom)',\n",
       "  '미란이']]"
      ]
     },
     "metadata": {},
     "execution_count": 8
    }
   ],
   "source": [
    "chart_list = []\n",
    "for tr in trs:\n",
    "    th = tr.find('th')\n",
    "    th_a = th.find('a', {'class': 'thumbnail'})\n",
    "    thumbn = th_a.find('img').attrs['src']\n",
    "    p_t = th.find('p')\n",
    "    title = p_t.find('a').string\n",
    "    p_a = tr.find('p', {'class': 'artist'})\n",
    "    artist = p_a.find('a').string\n",
    "\n",
    "    chart_list.append([thumbn, title, artist])\n",
    "chart_list"
   ]
  },
  {
   "cell_type": "code",
   "execution_count": 11,
   "metadata": {},
   "outputs": [],
   "source": [
    "url = 'https://www.melon.com/'\n",
    "header = {'User-Agent': 'Mozilla/5.0 (Windows NT 6.3; Trident/7.0; rv:11.0) like Gecko'}\n",
    "req = requests.get(url, headers = header)\n",
    "html = req.text\n",
    "soup = BeautifulSoup(html, 'html.parser')\n",
    "\n",
    "chart = soup.find('div', {'class': 'list_wrap typeRealtime'})"
   ]
  },
  {
   "cell_type": "code",
   "execution_count": 13,
   "metadata": {},
   "outputs": [],
   "source": [
    "lis = chart.find_all('li')"
   ]
  },
  {
   "cell_type": "code",
   "execution_count": 21,
   "metadata": {
    "tags": []
   },
   "outputs": [
    {
     "output_type": "stream",
     "name": "stdout",
     "text": [
      "<class 'bs4.element.Tag'>\n<class 'NoneType'>\n<class 'NoneType'>\n<class 'NoneType'>\n<class 'NoneType'>\n<class 'bs4.element.Tag'>\n<class 'bs4.element.Tag'>\n<class 'bs4.element.Tag'>\n<class 'bs4.element.Tag'>\n<class 'bs4.element.Tag'>\n<class 'bs4.element.Tag'>\n<class 'bs4.element.Tag'>\n<class 'bs4.element.Tag'>\n<class 'bs4.element.Tag'>\n"
     ]
    }
   ],
   "source": [
    "for li in lis:\n",
    "    thumb = li.find('div', {'class': 'thumb'})\n",
    "    print(type(thumb))"
   ]
  },
  {
   "cell_type": "code",
   "execution_count": 22,
   "metadata": {},
   "outputs": [
    {
     "output_type": "execute_result",
     "data": {
      "text/plain": [
       "<li><a class=\"mlog\" data=\"LOG_PRT_CODE=1&amp;MENU_PRT_CODE=2&amp;MENU_ID_LV1=10010101&amp;CLICK_AREA_PRT_CODE=R02&amp;ACTION_AF_CLICK=V1&amp;CLICK_CONTS_TYPE_CODE=N10006&amp;CLICK_CONTS_ID=2866523\" href=\"javascript:melon.link.goArtistDetail('2866523');\" title=\"미란이 (Mirani)\">미란이 (Mirani)</a></li>"
      ]
     },
     "metadata": {},
     "execution_count": 22
    }
   ],
   "source": [
    "lis[1]"
   ]
  },
  {
   "cell_type": "code",
   "execution_count": 13,
   "metadata": {},
   "outputs": [],
   "source": [
    "url = 'https://www.melon.com/'\n",
    "header = {'User-Agent': 'Mozilla/5.0 (Windows NT 6.3; Trident/7.0; rv:11.0) like Gecko'}\n",
    "req = requests.get(url, headers=header)\n",
    "html = req.text\n",
    "soup = BeautifulSoup(html, 'html.parser')\n",
    "\n",
    "chart = soup.find('div', {'class': 'list_wrap typeRealtime'})\n",
    "lis = chart.find_all('li', {'class': 'rank_item'})\n",
    "chart_list = []\n",
    "for li in lis:\n",
    "    rank = li.find('div', {'class': 'rank_cntt'})\n",
    "    thumbn = rank.find('img').attrs['src'] \n",
    "    rank_info = li.find('div', {'class': 'rank_info'})\n",
    "    song_info = rank_info.find('p', {'class': 'song'})\n",
    "    ellipsis = rank_info.find('div', {'class': 'ellipsis'})\n",
    "    title = song_info.find('a').string\n",
    "    artists = ellipsis.find_all('a')\n",
    "    if len(artists) <= 1:\n",
    "        artist = artists[0].string\n",
    "    else:\n",
    "        artist = ''\n",
    "        for a in artists:\n",
    "            artist += a.string + ' '\n",
    "    \n",
    "    chart_list.append([thumbn, title, artist])"
   ]
  },
  {
   "cell_type": "code",
   "execution_count": 14,
   "metadata": {},
   "outputs": [
    {
     "output_type": "execute_result",
     "data": {
      "text/plain": [
       "[<a class=\"fc_mgray mlog\" data=\"LOG_PRT_CODE=1&amp;MENU_PRT_CODE=2&amp;MENU_ID_LV1=10010101&amp;CLICK_AREA_PRT_CODE=R02&amp;ACTION_AF_CLICK=V1&amp;CLICK_CONTS_TYPE_CODE=N10006&amp;CLICK_CONTS_ID=623251\" href=\"javascript:melon.link.goArtistDetail('623251');\" title=\"릴보이 (lIlBOI) - 페이지 이동\">릴보이 (lIlBOI)</a>,\n",
       " <a class=\"fc_mgray mlog\" data=\"LOG_PRT_CODE=1&amp;MENU_PRT_CODE=2&amp;MENU_ID_LV1=10010101&amp;CLICK_AREA_PRT_CODE=R02&amp;ACTION_AF_CLICK=V1&amp;CLICK_CONTS_TYPE_CODE=N10006&amp;CLICK_CONTS_ID=623251\" href=\"javascript:melon.link.goArtistDetail('623251');\" title=\"릴보이 (lIlBOI) - 페이지 이동\">릴보이 (lIlBOI)</a>]"
      ]
     },
     "metadata": {},
     "execution_count": 14
    }
   ],
   "source": [
    "r = lis[0].find('div', {'class':'rank_info'})\n",
    "e = r.find('div', {'class': 'ellipsis'})\n",
    "a = ellipsis.find_all('a')\n",
    "a"
   ]
  },
  {
   "cell_type": "code",
   "execution_count": 12,
   "metadata": {},
   "outputs": [],
   "source": [
    "url = 'http://www.cgv.co.kr/movies/'\n",
    "header = {'User-Agent': 'Mozilla/5.0 (Windows NT 6.3; Trident/7.0; rv:11.0) like Gecko'}\n",
    "req = requests.get(url, headers=header)\n",
    "html = req.text\n",
    "soup = BeautifulSoup(html, 'html.parser')"
   ]
  },
  {
   "cell_type": "code",
   "execution_count": 16,
   "metadata": {},
   "outputs": [
    {
     "output_type": "execute_result",
     "data": {
      "text/plain": [
       "NoneType"
      ]
     },
     "metadata": {},
     "execution_count": 16
    }
   ],
   "source": [
    "chart_sec = soup.find('div', {'id': 'contents'})\n",
    "type(chart_sec)"
   ]
  },
  {
   "cell_type": "code",
   "execution_count": null,
   "metadata": {},
   "outputs": [],
   "source": []
  }
 ]
}