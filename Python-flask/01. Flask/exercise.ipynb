{
 "metadata": {
  "language_info": {
   "codemirror_mode": {
    "name": "ipython",
    "version": 3
   },
   "file_extension": ".py",
   "mimetype": "text/x-python",
   "name": "python",
   "nbconvert_exporter": "python",
   "pygments_lexer": "ipython3",
   "version": "3.8.3-final"
  },
  "orig_nbformat": 2,
  "kernelspec": {
   "name": "python3",
   "display_name": "Python 3",
   "language": "python"
  }
 },
 "nbformat": 4,
 "nbformat_minor": 2,
 "cells": [
  {
   "cell_type": "code",
   "execution_count": 1,
   "metadata": {},
   "outputs": [],
   "source": [
    "import pandas as pd"
   ]
  },
  {
   "cell_type": "code",
   "execution_count": 2,
   "metadata": {},
   "outputs": [
    {
     "output_type": "execute_result",
     "data": {
      "text/plain": [
       "     종목코드      기업명\n",
       "0  095570   AJ네트웍스\n",
       "1  006840    AK홀딩스\n",
       "2  027410      BGF\n",
       "3  282330   BGF리테일\n",
       "4  138930  BNK금융지주"
      ],
      "text/html": "<div>\n<style scoped>\n    .dataframe tbody tr th:only-of-type {\n        vertical-align: middle;\n    }\n\n    .dataframe tbody tr th {\n        vertical-align: top;\n    }\n\n    .dataframe thead th {\n        text-align: right;\n    }\n</style>\n<table border=\"1\" class=\"dataframe\">\n  <thead>\n    <tr style=\"text-align: right;\">\n      <th></th>\n      <th>종목코드</th>\n      <th>기업명</th>\n    </tr>\n  </thead>\n  <tbody>\n    <tr>\n      <th>0</th>\n      <td>095570</td>\n      <td>AJ네트웍스</td>\n    </tr>\n    <tr>\n      <th>1</th>\n      <td>006840</td>\n      <td>AK홀딩스</td>\n    </tr>\n    <tr>\n      <th>2</th>\n      <td>027410</td>\n      <td>BGF</td>\n    </tr>\n    <tr>\n      <th>3</th>\n      <td>282330</td>\n      <td>BGF리테일</td>\n    </tr>\n    <tr>\n      <th>4</th>\n      <td>138930</td>\n      <td>BNK금융지주</td>\n    </tr>\n  </tbody>\n</table>\n</div>"
     },
     "metadata": {},
     "execution_count": 2
    }
   ],
   "source": [
    "kospi = pd.read_csv('./static/data/kospi.csv', dtype={'종목코드': str})[['종목코드', '기업명']]\n",
    "kospi.head()"
   ]
  },
  {
   "cell_type": "code",
   "execution_count": 3,
   "metadata": {},
   "outputs": [
    {
     "output_type": "execute_result",
     "data": {
      "text/plain": [
       "            기업명\n",
       "종목코드           \n",
       "095570   AJ네트웍스\n",
       "006840    AK홀딩스\n",
       "027410      BGF\n",
       "282330   BGF리테일\n",
       "138930  BNK금융지주"
      ],
      "text/html": "<div>\n<style scoped>\n    .dataframe tbody tr th:only-of-type {\n        vertical-align: middle;\n    }\n\n    .dataframe tbody tr th {\n        vertical-align: top;\n    }\n\n    .dataframe thead th {\n        text-align: right;\n    }\n</style>\n<table border=\"1\" class=\"dataframe\">\n  <thead>\n    <tr style=\"text-align: right;\">\n      <th></th>\n      <th>기업명</th>\n    </tr>\n    <tr>\n      <th>종목코드</th>\n      <th></th>\n    </tr>\n  </thead>\n  <tbody>\n    <tr>\n      <th>095570</th>\n      <td>AJ네트웍스</td>\n    </tr>\n    <tr>\n      <th>006840</th>\n      <td>AK홀딩스</td>\n    </tr>\n    <tr>\n      <th>027410</th>\n      <td>BGF</td>\n    </tr>\n    <tr>\n      <th>282330</th>\n      <td>BGF리테일</td>\n    </tr>\n    <tr>\n      <th>138930</th>\n      <td>BNK금융지주</td>\n    </tr>\n  </tbody>\n</table>\n</div>"
     },
     "metadata": {},
     "execution_count": 3
    }
   ],
   "source": [
    "kospi = kospi.set_index('종목코드')\n",
    "kospi.head()"
   ]
  },
  {
   "cell_type": "code",
   "execution_count": 4,
   "metadata": {},
   "outputs": [
    {
     "output_type": "execute_result",
     "data": {
      "text/plain": [
       "           기업명\n",
       "종목코드          \n",
       "060310      3S\n",
       "054620  APS홀딩스\n",
       "265520   AP시스템\n",
       "211270    AP위성\n",
       "035760  CJ ENM"
      ],
      "text/html": "<div>\n<style scoped>\n    .dataframe tbody tr th:only-of-type {\n        vertical-align: middle;\n    }\n\n    .dataframe tbody tr th {\n        vertical-align: top;\n    }\n\n    .dataframe thead th {\n        text-align: right;\n    }\n</style>\n<table border=\"1\" class=\"dataframe\">\n  <thead>\n    <tr style=\"text-align: right;\">\n      <th></th>\n      <th>기업명</th>\n    </tr>\n    <tr>\n      <th>종목코드</th>\n      <th></th>\n    </tr>\n  </thead>\n  <tbody>\n    <tr>\n      <th>060310</th>\n      <td>3S</td>\n    </tr>\n    <tr>\n      <th>054620</th>\n      <td>APS홀딩스</td>\n    </tr>\n    <tr>\n      <th>265520</th>\n      <td>AP시스템</td>\n    </tr>\n    <tr>\n      <th>211270</th>\n      <td>AP위성</td>\n    </tr>\n    <tr>\n      <th>035760</th>\n      <td>CJ ENM</td>\n    </tr>\n  </tbody>\n</table>\n</div>"
     },
     "metadata": {},
     "execution_count": 4
    }
   ],
   "source": [
    "kosdaq = pd.read_csv('./static/data/kosdaq.csv', dtype={'종목코드': str})[['종목코드', '기업명']]\n",
    "kosdaq = kosdaq.set_index('종목코드')\n",
    "kosdaq.head()"
   ]
  },
  {
   "cell_type": "code",
   "execution_count": 5,
   "metadata": {},
   "outputs": [],
   "source": [
    "kospi.to_csv('./static/data/kospi_code.csv')\n",
    "kosdaq.to_csv('./static/data/kosdaq_code.csv')"
   ]
  },
  {
   "cell_type": "code",
   "execution_count": null,
   "metadata": {},
   "outputs": [],
   "source": []
  }
 ]
}